{
 "cells": [
  {
   "cell_type": "markdown",
   "id": "770db4f3",
   "metadata": {},
   "source": [
    "## Data Selection and EDA"
   ]
  },
  {
   "cell_type": "markdown",
   "id": "4c27b431",
   "metadata": {},
   "source": [
    "### Disney Park Reviews Narrative"
   ]
  },
  {
   "cell_type": "markdown",
   "id": "5ffad285",
   "metadata": {},
   "source": [
    "The focus point of my data mining project is on the Disney Theme Parks and the reviews they receive throughout guests visits. As this model will be used to break down guests’ reviews using Data Visualizations using matplotlib and seaborn that will create graphs that focus on different aspects of the reviews Disney has received. Next this project will focus on data preparation and modification to the data set by manipulating the data set to drop unneeded values, while also researching into missing values that are needed, and editing the given reviews to remove unneeded stop words, punctuation, and more. Last this report will be split into training and test set that will allow users to create regression that will show the shape, accuracy, precision, and recall of our regression regarding the reviews evaluated. As the problem this model will address is the mass amounts of reviews Disney receives a day, by using dummy variables to split out the different parks to determine where these reviews are coming from, which willshow us what parks / areas the reviews are referencing, are these review negative or positive with sentiment analysis, and determine the steps the company will need to take to improve on their guest’s feedback. By streamlining this process we will be able to split out the different parks that are moved to dummy variables which will allow corporate to streamline which parks require workers to respond and or even call guests to see what they can do to better the guests experience. As these reviews can determine whether some new guests will come and if existing guests that left a review will return. In the end Disney is a theme park that is focused on supplying their guests with a memorable experience that will spark into a reoccurring customer that comes back for years to come.  "
   ]
  },
  {
   "cell_type": "code",
   "execution_count": 380,
   "id": "39ab16cf",
   "metadata": {},
   "outputs": [
    {
     "name": "stderr",
     "output_type": "stream",
     "text": [
      "[nltk_data] Downloading package wordnet to /Users/Robyn/nltk_data...\n",
      "[nltk_data]   Package wordnet is already up-to-date!\n"
     ]
    }
   ],
   "source": [
    "# First I will import some needed libraries\n",
    "import pandas as pd\n",
    "from importlib import reload\n",
    "import sys\n",
    "import numpy as np\n",
    "from imp import reload\n",
    "import nltk\n",
    "import matplotlib.pyplot as plt \n",
    "import matplotlib.gridspec as gridspec \n",
    "%matplotlib inline\n",
    "import seaborn as sns \n",
    "from nltk.stem.snowball import SnowballStemmer\n",
    "from nltk.stem.lancaster import LancasterStemmer\n",
    "from sklearn.model_selection import train_test_split\n",
    "from sklearn.preprocessing import LabelEncoder\n",
    "from sklearn.ensemble import RandomForestClassifier\n",
    "from sklearn.tree import DecisionTreeClassifier\n",
    "from sklearn.linear_model import LogisticRegression\n",
    "import re\n",
    "nltk.download('wordnet')\n",
    "import string\n",
    "from nltk.stem import WordNetLemmatizer\n",
    "from nltk.stem.porter import PorterStemmer\n",
    "from nltk.corpus import stopwords\n",
    "import warnings\n",
    "from sklearn.feature_extraction.text import TfidfVectorizer\n",
    "from sklearn.naive_bayes import MultinomialNB\n",
    "from sklearn import metrics\n",
    "warnings.filterwarnings('ignore')\n",
    "if sys.version[0] == '2':\n",
    "    reload(sys)\n",
    "    sys.setdefaultencoding(\"utf-8\")"
   ]
  },
  {
   "cell_type": "markdown",
   "id": "cbd74936",
   "metadata": {},
   "source": [
    "### Importing the Data"
   ]
  },
  {
   "cell_type": "code",
   "execution_count": 234,
   "id": "cb286540",
   "metadata": {
    "scrolled": true
   },
   "outputs": [
    {
     "data": {
      "text/html": [
       "<div>\n",
       "<style scoped>\n",
       "    .dataframe tbody tr th:only-of-type {\n",
       "        vertical-align: middle;\n",
       "    }\n",
       "\n",
       "    .dataframe tbody tr th {\n",
       "        vertical-align: top;\n",
       "    }\n",
       "\n",
       "    .dataframe thead th {\n",
       "        text-align: right;\n",
       "    }\n",
       "</style>\n",
       "<table border=\"1\" class=\"dataframe\">\n",
       "  <thead>\n",
       "    <tr style=\"text-align: right;\">\n",
       "      <th></th>\n",
       "      <th>Review_ID</th>\n",
       "      <th>Rating</th>\n",
       "      <th>Year_Month</th>\n",
       "      <th>Reviewer_Location</th>\n",
       "      <th>Review_Text</th>\n",
       "      <th>Branch</th>\n",
       "    </tr>\n",
       "  </thead>\n",
       "  <tbody>\n",
       "    <tr>\n",
       "      <th>0</th>\n",
       "      <td>670772142</td>\n",
       "      <td>4</td>\n",
       "      <td>2019-4</td>\n",
       "      <td>Australia</td>\n",
       "      <td>If you've ever been to Disneyland anywhere you...</td>\n",
       "      <td>Disneyland_HongKong</td>\n",
       "    </tr>\n",
       "    <tr>\n",
       "      <th>1</th>\n",
       "      <td>670682799</td>\n",
       "      <td>4</td>\n",
       "      <td>2019-5</td>\n",
       "      <td>Philippines</td>\n",
       "      <td>Its been a while since d last time we visit HK...</td>\n",
       "      <td>Disneyland_HongKong</td>\n",
       "    </tr>\n",
       "    <tr>\n",
       "      <th>2</th>\n",
       "      <td>670623270</td>\n",
       "      <td>4</td>\n",
       "      <td>2019-4</td>\n",
       "      <td>United Arab Emirates</td>\n",
       "      <td>Thanks God it wasn   t too hot or too humid wh...</td>\n",
       "      <td>Disneyland_HongKong</td>\n",
       "    </tr>\n",
       "    <tr>\n",
       "      <th>3</th>\n",
       "      <td>670607911</td>\n",
       "      <td>4</td>\n",
       "      <td>2019-4</td>\n",
       "      <td>Australia</td>\n",
       "      <td>HK Disneyland is a great compact park. Unfortu...</td>\n",
       "      <td>Disneyland_HongKong</td>\n",
       "    </tr>\n",
       "    <tr>\n",
       "      <th>4</th>\n",
       "      <td>670607296</td>\n",
       "      <td>4</td>\n",
       "      <td>2019-4</td>\n",
       "      <td>United Kingdom</td>\n",
       "      <td>the location is not in the city, took around 1...</td>\n",
       "      <td>Disneyland_HongKong</td>\n",
       "    </tr>\n",
       "    <tr>\n",
       "      <th>...</th>\n",
       "      <td>...</td>\n",
       "      <td>...</td>\n",
       "      <td>...</td>\n",
       "      <td>...</td>\n",
       "      <td>...</td>\n",
       "      <td>...</td>\n",
       "    </tr>\n",
       "    <tr>\n",
       "      <th>42651</th>\n",
       "      <td>1765031</td>\n",
       "      <td>5</td>\n",
       "      <td>missing</td>\n",
       "      <td>United Kingdom</td>\n",
       "      <td>i went to disneyland paris in july 03 and thou...</td>\n",
       "      <td>Disneyland_Paris</td>\n",
       "    </tr>\n",
       "    <tr>\n",
       "      <th>42652</th>\n",
       "      <td>1659553</td>\n",
       "      <td>5</td>\n",
       "      <td>missing</td>\n",
       "      <td>Canada</td>\n",
       "      <td>2 adults and 1 child of 11 visited Disneyland ...</td>\n",
       "      <td>Disneyland_Paris</td>\n",
       "    </tr>\n",
       "    <tr>\n",
       "      <th>42653</th>\n",
       "      <td>1645894</td>\n",
       "      <td>5</td>\n",
       "      <td>missing</td>\n",
       "      <td>South Africa</td>\n",
       "      <td>My eleven year old daughter and myself went to...</td>\n",
       "      <td>Disneyland_Paris</td>\n",
       "    </tr>\n",
       "    <tr>\n",
       "      <th>42654</th>\n",
       "      <td>1618637</td>\n",
       "      <td>4</td>\n",
       "      <td>missing</td>\n",
       "      <td>United States</td>\n",
       "      <td>This hotel, part of the Disneyland Paris compl...</td>\n",
       "      <td>Disneyland_Paris</td>\n",
       "    </tr>\n",
       "    <tr>\n",
       "      <th>42655</th>\n",
       "      <td>1536786</td>\n",
       "      <td>4</td>\n",
       "      <td>missing</td>\n",
       "      <td>United Kingdom</td>\n",
       "      <td>I went to the Disneyparis resort, in 1996, wit...</td>\n",
       "      <td>Disneyland_Paris</td>\n",
       "    </tr>\n",
       "  </tbody>\n",
       "</table>\n",
       "<p>42656 rows × 6 columns</p>\n",
       "</div>"
      ],
      "text/plain": [
       "       Review_ID  Rating Year_Month     Reviewer_Location  \\\n",
       "0      670772142       4     2019-4             Australia   \n",
       "1      670682799       4     2019-5           Philippines   \n",
       "2      670623270       4     2019-4  United Arab Emirates   \n",
       "3      670607911       4     2019-4             Australia   \n",
       "4      670607296       4     2019-4        United Kingdom   \n",
       "...          ...     ...        ...                   ...   \n",
       "42651    1765031       5    missing        United Kingdom   \n",
       "42652    1659553       5    missing                Canada   \n",
       "42653    1645894       5    missing          South Africa   \n",
       "42654    1618637       4    missing         United States   \n",
       "42655    1536786       4    missing        United Kingdom   \n",
       "\n",
       "                                             Review_Text               Branch  \n",
       "0      If you've ever been to Disneyland anywhere you...  Disneyland_HongKong  \n",
       "1      Its been a while since d last time we visit HK...  Disneyland_HongKong  \n",
       "2      Thanks God it wasn   t too hot or too humid wh...  Disneyland_HongKong  \n",
       "3      HK Disneyland is a great compact park. Unfortu...  Disneyland_HongKong  \n",
       "4      the location is not in the city, took around 1...  Disneyland_HongKong  \n",
       "...                                                  ...                  ...  \n",
       "42651  i went to disneyland paris in july 03 and thou...     Disneyland_Paris  \n",
       "42652  2 adults and 1 child of 11 visited Disneyland ...     Disneyland_Paris  \n",
       "42653  My eleven year old daughter and myself went to...     Disneyland_Paris  \n",
       "42654  This hotel, part of the Disneyland Paris compl...     Disneyland_Paris  \n",
       "42655  I went to the Disneyparis resort, in 1996, wit...     Disneyland_Paris  \n",
       "\n",
       "[42656 rows x 6 columns]"
      ]
     },
     "execution_count": 234,
     "metadata": {},
     "output_type": "execute_result"
    }
   ],
   "source": [
    "# I will use pandas to pull the data to create a data frame to work from\n",
    "Disney_Data = pd.read_csv('DisneylandReviews.csv')\n",
    "Disney_Data"
   ]
  },
  {
   "cell_type": "markdown",
   "id": "28620f2c",
   "metadata": {},
   "source": [
    "### Reviewing the Data Set"
   ]
  },
  {
   "cell_type": "code",
   "execution_count": 235,
   "id": "50e1f463",
   "metadata": {},
   "outputs": [
    {
     "data": {
      "text/plain": [
       "(42656, 6)"
      ]
     },
     "execution_count": 235,
     "metadata": {},
     "output_type": "execute_result"
    }
   ],
   "source": [
    "# Next I will display the dimensions of the disney dataframe\n",
    "Disney_Data.shape"
   ]
  },
  {
   "cell_type": "markdown",
   "id": "d8000f9b",
   "metadata": {},
   "source": [
    "As seen above we see that we have six columns with 42,656 rows of data."
   ]
  },
  {
   "cell_type": "code",
   "execution_count": 236,
   "id": "02196c54",
   "metadata": {},
   "outputs": [
    {
     "name": "stdout",
     "output_type": "stream",
     "text": [
      "<class 'pandas.core.frame.DataFrame'>\n",
      "RangeIndex: 42656 entries, 0 to 42655\n",
      "Data columns (total 6 columns):\n",
      " #   Column             Non-Null Count  Dtype \n",
      "---  ------             --------------  ----- \n",
      " 0   Review_ID          42656 non-null  int64 \n",
      " 1   Rating             42656 non-null  int64 \n",
      " 2   Year_Month         42656 non-null  object\n",
      " 3   Reviewer_Location  42656 non-null  object\n",
      " 4   Review_Text        42656 non-null  object\n",
      " 5   Branch             42656 non-null  object\n",
      "dtypes: int64(2), object(4)\n",
      "memory usage: 2.0+ MB\n"
     ]
    }
   ],
   "source": [
    "# Next I will use info to see further information on each of my variables.\n",
    "Disney_Data.info()"
   ]
  },
  {
   "cell_type": "markdown",
   "id": "9af9cc4e",
   "metadata": {},
   "source": [
    "As seen above we see that our Review_ID and Rating are the int64 Dtype. While the remaining variables are object Dtype."
   ]
  },
  {
   "cell_type": "code",
   "execution_count": 237,
   "id": "3bcc66d8",
   "metadata": {},
   "outputs": [
    {
     "data": {
      "text/html": [
       "<div>\n",
       "<style scoped>\n",
       "    .dataframe tbody tr th:only-of-type {\n",
       "        vertical-align: middle;\n",
       "    }\n",
       "\n",
       "    .dataframe tbody tr th {\n",
       "        vertical-align: top;\n",
       "    }\n",
       "\n",
       "    .dataframe thead th {\n",
       "        text-align: right;\n",
       "    }\n",
       "</style>\n",
       "<table border=\"1\" class=\"dataframe\">\n",
       "  <thead>\n",
       "    <tr style=\"text-align: right;\">\n",
       "      <th></th>\n",
       "      <th>Review_ID</th>\n",
       "      <th>Rating</th>\n",
       "      <th>Year_Month</th>\n",
       "      <th>Reviewer_Location</th>\n",
       "      <th>Review_Text</th>\n",
       "      <th>Branch</th>\n",
       "    </tr>\n",
       "  </thead>\n",
       "  <tbody>\n",
       "    <tr>\n",
       "      <th>42651</th>\n",
       "      <td>1765031</td>\n",
       "      <td>5</td>\n",
       "      <td>NaN</td>\n",
       "      <td>United Kingdom</td>\n",
       "      <td>i went to disneyland paris in july 03 and thou...</td>\n",
       "      <td>Disneyland_Paris</td>\n",
       "    </tr>\n",
       "    <tr>\n",
       "      <th>42652</th>\n",
       "      <td>1659553</td>\n",
       "      <td>5</td>\n",
       "      <td>NaN</td>\n",
       "      <td>Canada</td>\n",
       "      <td>2 adults and 1 child of 11 visited Disneyland ...</td>\n",
       "      <td>Disneyland_Paris</td>\n",
       "    </tr>\n",
       "    <tr>\n",
       "      <th>42653</th>\n",
       "      <td>1645894</td>\n",
       "      <td>5</td>\n",
       "      <td>NaN</td>\n",
       "      <td>South Africa</td>\n",
       "      <td>My eleven year old daughter and myself went to...</td>\n",
       "      <td>Disneyland_Paris</td>\n",
       "    </tr>\n",
       "    <tr>\n",
       "      <th>42654</th>\n",
       "      <td>1618637</td>\n",
       "      <td>4</td>\n",
       "      <td>NaN</td>\n",
       "      <td>United States</td>\n",
       "      <td>This hotel, part of the Disneyland Paris compl...</td>\n",
       "      <td>Disneyland_Paris</td>\n",
       "    </tr>\n",
       "    <tr>\n",
       "      <th>42655</th>\n",
       "      <td>1536786</td>\n",
       "      <td>4</td>\n",
       "      <td>NaN</td>\n",
       "      <td>United Kingdom</td>\n",
       "      <td>I went to the Disneyparis resort, in 1996, wit...</td>\n",
       "      <td>Disneyland_Paris</td>\n",
       "    </tr>\n",
       "  </tbody>\n",
       "</table>\n",
       "</div>"
      ],
      "text/plain": [
       "       Review_ID  Rating Year_Month Reviewer_Location  \\\n",
       "42651    1765031       5        NaN    United Kingdom   \n",
       "42652    1659553       5        NaN            Canada   \n",
       "42653    1645894       5        NaN      South Africa   \n",
       "42654    1618637       4        NaN     United States   \n",
       "42655    1536786       4        NaN    United Kingdom   \n",
       "\n",
       "                                             Review_Text            Branch  \n",
       "42651  i went to disneyland paris in july 03 and thou...  Disneyland_Paris  \n",
       "42652  2 adults and 1 child of 11 visited Disneyland ...  Disneyland_Paris  \n",
       "42653  My eleven year old daughter and myself went to...  Disneyland_Paris  \n",
       "42654  This hotel, part of the Disneyland Paris compl...  Disneyland_Paris  \n",
       "42655  I went to the Disneyparis resort, in 1996, wit...  Disneyland_Paris  "
      ]
     },
     "execution_count": 237,
     "metadata": {},
     "output_type": "execute_result"
    }
   ],
   "source": [
    "# As seen above in the dataframe we see that the Year_Month variable has missing data in the last five rows. \n",
    "# Which we will use pandas to read the data again and specify the data with NA values as missing.\n",
    "Disney_Data = pd.read_csv('DisneylandReviews.csv', encoding = 'ISO-8859-1', na_values = 'missing')\n",
    "Disney_Data.tail()"
   ]
  },
  {
   "cell_type": "code",
   "execution_count": 238,
   "id": "403a80d8",
   "metadata": {},
   "outputs": [
    {
     "data": {
      "text/plain": [
       "Review_ID            0.000000\n",
       "Rating               0.000000\n",
       "Year_Month           0.061258\n",
       "Reviewer_Location    0.000000\n",
       "Review_Text          0.000000\n",
       "Branch               0.000000\n",
       "dtype: float64"
      ]
     },
     "execution_count": 238,
     "metadata": {},
     "output_type": "execute_result"
    }
   ],
   "source": [
    "# Next I will check and what variables have NA values and what percentage of the variable is NA\n",
    "Disney_Data.isnull().sum()/len(Disney_Data)"
   ]
  },
  {
   "cell_type": "markdown",
   "id": "ef56de40",
   "metadata": {},
   "source": [
    "As seen above we see that the Year_Month variable is the only variable with NA data and only being 6% of all the data. Due to the low rate we will keep these NAs as we are looking to analyse the review variable data."
   ]
  },
  {
   "cell_type": "markdown",
   "id": "f8cb7a92",
   "metadata": {},
   "source": [
    "### Searching for Duplicate Review IDs"
   ]
  },
  {
   "cell_type": "code",
   "execution_count": 239,
   "id": "70fdcecb",
   "metadata": {},
   "outputs": [
    {
     "data": {
      "text/plain": [
       "166787525    2\n",
       "129231609    2\n",
       "164862064    2\n",
       "121570980    2\n",
       "129214104    2\n",
       "121580686    2\n",
       "121615136    2\n",
       "166784597    2\n",
       "166787635    2\n",
       "129207323    2\n",
       "121568004    2\n",
       "166730734    2\n",
       "121586148    2\n",
       "121578357    2\n",
       "166753649    2\n",
       "226905150    2\n",
       "166754595    2\n",
       "164830205    2\n",
       "121615246    2\n",
       "168489234    2\n",
       "437267056    1\n",
       "180482699    1\n",
       "157444688    1\n",
       "124676711    1\n",
       "172510999    1\n",
       "Name: Review_ID, dtype: int64"
      ]
     },
     "execution_count": 239,
     "metadata": {},
     "output_type": "execute_result"
    }
   ],
   "source": [
    "# Next I will use the value_count to see if the data set has duplicate\n",
    "# Reviews for the same id number.\n",
    "Disney_Data.Review_ID.value_counts().head(25)"
   ]
  },
  {
   "cell_type": "code",
   "execution_count": 240,
   "id": "0d2cfa64",
   "metadata": {},
   "outputs": [
    {
     "data": {
      "text/html": [
       "<div>\n",
       "<style scoped>\n",
       "    .dataframe tbody tr th:only-of-type {\n",
       "        vertical-align: middle;\n",
       "    }\n",
       "\n",
       "    .dataframe tbody tr th {\n",
       "        vertical-align: top;\n",
       "    }\n",
       "\n",
       "    .dataframe thead th {\n",
       "        text-align: right;\n",
       "    }\n",
       "</style>\n",
       "<table border=\"1\" class=\"dataframe\">\n",
       "  <thead>\n",
       "    <tr style=\"text-align: right;\">\n",
       "      <th></th>\n",
       "      <th>Review_ID</th>\n",
       "      <th>Rating</th>\n",
       "      <th>Year_Month</th>\n",
       "      <th>Reviewer_Location</th>\n",
       "      <th>Review_Text</th>\n",
       "      <th>Branch</th>\n",
       "    </tr>\n",
       "  </thead>\n",
       "  <tbody>\n",
       "    <tr>\n",
       "      <th>24019</th>\n",
       "      <td>166753649</td>\n",
       "      <td>5</td>\n",
       "      <td>2013-7</td>\n",
       "      <td>United States</td>\n",
       "      <td>Went to Disneyland and California Adventure on...</td>\n",
       "      <td>Disneyland_California</td>\n",
       "    </tr>\n",
       "    <tr>\n",
       "      <th>24027</th>\n",
       "      <td>166753649</td>\n",
       "      <td>5</td>\n",
       "      <td>2013-7</td>\n",
       "      <td>United States</td>\n",
       "      <td>Went to Disneyland and California Adventure on...</td>\n",
       "      <td>Disneyland_California</td>\n",
       "    </tr>\n",
       "  </tbody>\n",
       "</table>\n",
       "</div>"
      ],
      "text/plain": [
       "       Review_ID  Rating Year_Month Reviewer_Location  \\\n",
       "24019  166753649       5     2013-7     United States   \n",
       "24027  166753649       5     2013-7     United States   \n",
       "\n",
       "                                             Review_Text  \\\n",
       "24019  Went to Disneyland and California Adventure on...   \n",
       "24027  Went to Disneyland and California Adventure on...   \n",
       "\n",
       "                      Branch  \n",
       "24019  Disneyland_California  \n",
       "24027  Disneyland_California  "
      ]
     },
     "execution_count": 240,
     "metadata": {},
     "output_type": "execute_result"
    }
   ],
   "source": [
    "# Next I will pull up one of the Review IDs that is duplicate and\n",
    "# see if it is the same text or different.\n",
    "Disney_Data[Disney_Data.Review_ID == 166753649]"
   ]
  },
  {
   "cell_type": "code",
   "execution_count": 241,
   "id": "2ffd8c53",
   "metadata": {
    "scrolled": true
   },
   "outputs": [
    {
     "data": {
      "text/html": [
       "<div>\n",
       "<style scoped>\n",
       "    .dataframe tbody tr th:only-of-type {\n",
       "        vertical-align: middle;\n",
       "    }\n",
       "\n",
       "    .dataframe tbody tr th {\n",
       "        vertical-align: top;\n",
       "    }\n",
       "\n",
       "    .dataframe thead th {\n",
       "        text-align: right;\n",
       "    }\n",
       "</style>\n",
       "<table border=\"1\" class=\"dataframe\">\n",
       "  <thead>\n",
       "    <tr style=\"text-align: right;\">\n",
       "      <th></th>\n",
       "      <th>Review_ID</th>\n",
       "      <th>Rating</th>\n",
       "      <th>Year_Month</th>\n",
       "      <th>Reviewer_Location</th>\n",
       "      <th>Review_Text</th>\n",
       "      <th>Branch</th>\n",
       "    </tr>\n",
       "  </thead>\n",
       "  <tbody>\n",
       "    <tr>\n",
       "      <th>7939</th>\n",
       "      <td>164862064</td>\n",
       "      <td>5</td>\n",
       "      <td>2013-6</td>\n",
       "      <td>Singapore</td>\n",
       "      <td>Great atmosphere... A place for everyone in th...</td>\n",
       "      <td>Disneyland_HongKong</td>\n",
       "    </tr>\n",
       "    <tr>\n",
       "      <th>7949</th>\n",
       "      <td>164862064</td>\n",
       "      <td>5</td>\n",
       "      <td>2013-6</td>\n",
       "      <td>Singapore</td>\n",
       "      <td>Great atmosphere... A place for everyone in th...</td>\n",
       "      <td>Disneyland_HongKong</td>\n",
       "    </tr>\n",
       "  </tbody>\n",
       "</table>\n",
       "</div>"
      ],
      "text/plain": [
       "      Review_ID  Rating Year_Month Reviewer_Location  \\\n",
       "7939  164862064       5     2013-6         Singapore   \n",
       "7949  164862064       5     2013-6         Singapore   \n",
       "\n",
       "                                            Review_Text               Branch  \n",
       "7939  Great atmosphere... A place for everyone in th...  Disneyland_HongKong  \n",
       "7949  Great atmosphere... A place for everyone in th...  Disneyland_HongKong  "
      ]
     },
     "execution_count": 241,
     "metadata": {},
     "output_type": "execute_result"
    }
   ],
   "source": [
    "# I will pull up another one of the Review IDs that is duplicate and\n",
    "# see if it is the same text or different.\n",
    "Disney_Data[Disney_Data.Review_ID == 164862064]"
   ]
  },
  {
   "cell_type": "markdown",
   "id": "b9c39f0b",
   "metadata": {},
   "source": [
    "As seen above we can see that the duplicate review_text is the same so I will drop the duplicates"
   ]
  },
  {
   "cell_type": "code",
   "execution_count": 242,
   "id": "75e8e485",
   "metadata": {},
   "outputs": [
    {
     "data": {
      "text/plain": [
       "(42636, 6)"
      ]
     },
     "execution_count": 242,
     "metadata": {},
     "output_type": "execute_result"
    }
   ],
   "source": [
    "# I will now use drop to drop my duplicate Review_IDs and keep the first\n",
    "Disney_Data.drop_duplicates(subset='Review_ID', inplace=True, keep='first')\n",
    "Disney_Data.shape"
   ]
  },
  {
   "cell_type": "markdown",
   "id": "087689ac",
   "metadata": {},
   "source": [
    "As seen above we can see in our shape that we removed several lines. "
   ]
  },
  {
   "cell_type": "markdown",
   "id": "e43b945a",
   "metadata": {},
   "source": [
    "### Seperating the Year_Month Variable"
   ]
  },
  {
   "cell_type": "code",
   "execution_count": 243,
   "id": "77776dc5",
   "metadata": {},
   "outputs": [
    {
     "data": {
      "text/plain": [
       "0        [2019, 4]\n",
       "1        [2019, 5]\n",
       "2        [2019, 4]\n",
       "3        [2019, 4]\n",
       "4        [2019, 4]\n",
       "           ...    \n",
       "42651          NaN\n",
       "42652          NaN\n",
       "42653          NaN\n",
       "42654          NaN\n",
       "42655          NaN\n",
       "Name: Year_Month, Length: 42636, dtype: object"
      ]
     },
     "execution_count": 243,
     "metadata": {},
     "output_type": "execute_result"
    }
   ],
   "source": [
    "## I will use str.split to split my month and year variable to \n",
    "# create seperate variable.\n",
    "Disney_Date = Disney_Data['Year_Month'].str.split('-')\n",
    "Disney_Date"
   ]
  },
  {
   "cell_type": "code",
   "execution_count": 244,
   "id": "757df3d0",
   "metadata": {},
   "outputs": [],
   "source": [
    "# Next I will create two new variables for year and month through the use of str\n",
    "Disney_Data['Year'] = Disney_Date.str[0]\n",
    "Disney_Data['Month'] = Disney_Date.str[1]"
   ]
  },
  {
   "cell_type": "code",
   "execution_count": 245,
   "id": "61bb6fac",
   "metadata": {
    "scrolled": true
   },
   "outputs": [
    {
     "data": {
      "text/html": [
       "<div>\n",
       "<style scoped>\n",
       "    .dataframe tbody tr th:only-of-type {\n",
       "        vertical-align: middle;\n",
       "    }\n",
       "\n",
       "    .dataframe tbody tr th {\n",
       "        vertical-align: top;\n",
       "    }\n",
       "\n",
       "    .dataframe thead th {\n",
       "        text-align: right;\n",
       "    }\n",
       "</style>\n",
       "<table border=\"1\" class=\"dataframe\">\n",
       "  <thead>\n",
       "    <tr style=\"text-align: right;\">\n",
       "      <th></th>\n",
       "      <th>Review_ID</th>\n",
       "      <th>Rating</th>\n",
       "      <th>Year_Month</th>\n",
       "      <th>Reviewer_Location</th>\n",
       "      <th>Review_Text</th>\n",
       "      <th>Branch</th>\n",
       "      <th>Year</th>\n",
       "      <th>Month</th>\n",
       "    </tr>\n",
       "  </thead>\n",
       "  <tbody>\n",
       "    <tr>\n",
       "      <th>0</th>\n",
       "      <td>670772142</td>\n",
       "      <td>4</td>\n",
       "      <td>2019-4</td>\n",
       "      <td>Australia</td>\n",
       "      <td>If you've ever been to Disneyland anywhere you...</td>\n",
       "      <td>Disneyland_HongKong</td>\n",
       "      <td>2019</td>\n",
       "      <td>4</td>\n",
       "    </tr>\n",
       "    <tr>\n",
       "      <th>1</th>\n",
       "      <td>670682799</td>\n",
       "      <td>4</td>\n",
       "      <td>2019-5</td>\n",
       "      <td>Philippines</td>\n",
       "      <td>Its been a while since d last time we visit HK...</td>\n",
       "      <td>Disneyland_HongKong</td>\n",
       "      <td>2019</td>\n",
       "      <td>5</td>\n",
       "    </tr>\n",
       "    <tr>\n",
       "      <th>2</th>\n",
       "      <td>670623270</td>\n",
       "      <td>4</td>\n",
       "      <td>2019-4</td>\n",
       "      <td>United Arab Emirates</td>\n",
       "      <td>Thanks God it wasn   t too hot or too humid wh...</td>\n",
       "      <td>Disneyland_HongKong</td>\n",
       "      <td>2019</td>\n",
       "      <td>4</td>\n",
       "    </tr>\n",
       "    <tr>\n",
       "      <th>3</th>\n",
       "      <td>670607911</td>\n",
       "      <td>4</td>\n",
       "      <td>2019-4</td>\n",
       "      <td>Australia</td>\n",
       "      <td>HK Disneyland is a great compact park. Unfortu...</td>\n",
       "      <td>Disneyland_HongKong</td>\n",
       "      <td>2019</td>\n",
       "      <td>4</td>\n",
       "    </tr>\n",
       "    <tr>\n",
       "      <th>4</th>\n",
       "      <td>670607296</td>\n",
       "      <td>4</td>\n",
       "      <td>2019-4</td>\n",
       "      <td>United Kingdom</td>\n",
       "      <td>the location is not in the city, took around 1...</td>\n",
       "      <td>Disneyland_HongKong</td>\n",
       "      <td>2019</td>\n",
       "      <td>4</td>\n",
       "    </tr>\n",
       "  </tbody>\n",
       "</table>\n",
       "</div>"
      ],
      "text/plain": [
       "   Review_ID  Rating Year_Month     Reviewer_Location  \\\n",
       "0  670772142       4     2019-4             Australia   \n",
       "1  670682799       4     2019-5           Philippines   \n",
       "2  670623270       4     2019-4  United Arab Emirates   \n",
       "3  670607911       4     2019-4             Australia   \n",
       "4  670607296       4     2019-4        United Kingdom   \n",
       "\n",
       "                                         Review_Text               Branch  \\\n",
       "0  If you've ever been to Disneyland anywhere you...  Disneyland_HongKong   \n",
       "1  Its been a while since d last time we visit HK...  Disneyland_HongKong   \n",
       "2  Thanks God it wasn   t too hot or too humid wh...  Disneyland_HongKong   \n",
       "3  HK Disneyland is a great compact park. Unfortu...  Disneyland_HongKong   \n",
       "4  the location is not in the city, took around 1...  Disneyland_HongKong   \n",
       "\n",
       "   Year Month  \n",
       "0  2019     4  \n",
       "1  2019     5  \n",
       "2  2019     4  \n",
       "3  2019     4  \n",
       "4  2019     4  "
      ]
     },
     "execution_count": 245,
     "metadata": {},
     "output_type": "execute_result"
    }
   ],
   "source": [
    "# Next I will use head to view the first five columns of the \n",
    "# updated data set variables.\n",
    "Disney_Data.head()"
   ]
  },
  {
   "cell_type": "markdown",
   "id": "213b79dc",
   "metadata": {},
   "source": [
    "As seen above we see that the two new variables year and month have been created. Which can be used in the graphical analysis to further review"
   ]
  },
  {
   "cell_type": "markdown",
   "id": "eaa669a3",
   "metadata": {},
   "source": [
    "### Graphical Analysis "
   ]
  },
  {
   "cell_type": "markdown",
   "id": "ea9df739",
   "metadata": {},
   "source": [
    "### Data Visualization 1: Bar Chart - Disney Review Ratings"
   ]
  },
  {
   "cell_type": "code",
   "execution_count": 246,
   "id": "04a4b2c6",
   "metadata": {},
   "outputs": [],
   "source": [
    "# First I will create a count of the dataframes ratings to \n",
    "# determine the value of each rating. \n",
    "rate_value = Disney_Data.Rating.value_counts()"
   ]
  },
  {
   "cell_type": "code",
   "execution_count": 247,
   "id": "0049bc8d",
   "metadata": {},
   "outputs": [
    {
     "data": {
      "image/png": "[encoded data removed]",
      "text/plain": [
       "<Figure size 720x576 with 1 Axes>"
      ]
     },
     "metadata": {},
     "output_type": "display_data"
    }
   ],
   "source": [
    "# I will use plt to create a data visualization that will \n",
    "# show the  Number of Reviews vs the ratings they fall within\n",
    "with plt.style.context('ggplot'):\n",
    "    plt.figure(figsize=(10, 8))\n",
    "    plt.bar(rate_value.index, rate_value.values, color='blue')\n",
    "    for rating, value in zip(rate_value.index, rate_value.values):\n",
    "        plt.text(rating, value, str(round(value/sum(rate_value.values)*100, 2))+'%', \n",
    "                color='black', bbox=dict(facecolor='yellow'))\n",
    "    plt.title('Disney Review Ratings')\n",
    "    plt.xlabel('Disney Ratings')\n",
    "    plt.ylabel('Review Count')\n",
    "    plt.yticks(np.arange(0, 25000, 5000))"
   ]
  },
  {
   "cell_type": "markdown",
   "id": "3c21e71e",
   "metadata": {},
   "source": [
    "As seen above we see that are reviews scale range from 1 to 5 with 5 being the highest rating and 1 being the worst. In this graph we see that more than 50% of Disneys ratings are 5 star ratings while Disney has less than 10% ratings for both 1 and 2 star ratings. "
   ]
  },
  {
   "cell_type": "markdown",
   "id": "1f95662b",
   "metadata": {},
   "source": [
    "### Data Visualization 2: Seaborn cat bar plot  - Ratings by Year for Each Park Branch"
   ]
  },
  {
   "cell_type": "code",
   "execution_count": 248,
   "id": "cb6dd4cc",
   "metadata": {},
   "outputs": [
    {
     "data": {
      "text/plain": [
       "<seaborn.axisgrid.FacetGrid at 0x7f8f1e997790>"
      ]
     },
     "execution_count": 248,
     "metadata": {},
     "output_type": "execute_result"
    },
    {
     "data": {
      "image/png": "[encoded data removed]",
      "text/plain": [
       "<Figure size 508x360 with 1 Axes>"
      ]
     },
     "metadata": {
      "needs_background": "light"
     },
     "output_type": "display_data"
    }
   ],
   "source": [
    "sns.catplot(data = Disney_Data, x = 'Year', y = 'Rating', hue = 'Branch', kind = \"bar\").set(title='Average Review Rating by Branch and Year')"
   ]
  },
  {
   "cell_type": "markdown",
   "id": "2cd4acaa",
   "metadata": {},
   "source": [
    "The seaborn cat bar plot above shows that the average rating for each branch and or park is staying between three and four star average ratings. Which is great for the parks but as we do see that HongKongs parks has seen dips in 2010 but steadily rises throughout the years. While DisneyLand California maintained a average rating above 4 throughout the years."
   ]
  },
  {
   "cell_type": "markdown",
   "id": "ea9e5345",
   "metadata": {},
   "source": [
    "### Data Visualization 3: Horizontal Bar Chart - Average Rating Based on Park Location"
   ]
  },
  {
   "cell_type": "code",
   "execution_count": 249,
   "id": "f6e706d7",
   "metadata": {},
   "outputs": [],
   "source": [
    "# First I will create a rating value for each park location\n",
    "Park_rating = Disney_Data.groupby('Branch').agg({'Rating': 'mean'}).unstack()['Rating']"
   ]
  },
  {
   "cell_type": "code",
   "execution_count": 250,
   "id": "990f3082",
   "metadata": {},
   "outputs": [
    {
     "data": {
      "image/png": "[encoded data removed]",
      "text/plain": [
       "<Figure size 864x576 with 1 Axes>"
      ]
     },
     "metadata": {
      "needs_background": "light"
     },
     "output_type": "display_data"
    }
   ],
   "source": [
    "# I will now create a scatter plot that shows the average rate \n",
    "# for each park location through the use of plt and a for statement.\n",
    "plt.figure(figsize=(12, 8))\n",
    "plt.barh([branch[11:] for branch in Park_rating.index], \n",
    "         Park_rating.values, color=['blue', 'red', 'yellow'])\n",
    "for value, park in zip(Park_rating.values, [branch[11:] for branch in Park_rating.index]):\n",
    "    plt.text(value/2, park, round(value, 2), bbox=dict(facecolor='white'))\n",
    "plt.xlabel('Park Rating')\n",
    "plt.ylabel('Park Location')\n",
    "plt.title('Average Rating Based on Park Location')\n",
    "plt.xticks(np.arange(0, 5))\n",
    "plt.show()"
   ]
  },
  {
   "cell_type": "markdown",
   "id": "e9bd8850",
   "metadata": {},
   "source": [
    "Seen above in the horizontal bar graph we see that Californa had the highest rating out of the three parks with a 4.41 and Paris in last with a average rating of 3.98 out of 5. These score can be jsutified as California is on of Disneys main parks so they tend to have better customer service and reviews due to the fact that the castmembers at that location are trained by individuals that have been with the company since it started. "
   ]
  },
  {
   "cell_type": "markdown",
   "id": "d505ea5e",
   "metadata": {},
   "source": [
    "### Data Visualization 4: Seaborn Count Plot - Review Ratings Per Year"
   ]
  },
  {
   "cell_type": "code",
   "execution_count": 251,
   "id": "cae3ead9",
   "metadata": {},
   "outputs": [
    {
     "data": {
      "text/plain": [
       "[Text(0.5, 1.0, 'Count Per Ratings Per Year')]"
      ]
     },
     "execution_count": 251,
     "metadata": {},
     "output_type": "execute_result"
    },
    {
     "data": {
      "image/png": "[encoded data removed]",
      "text/plain": [
       "<Figure size 432x288 with 1 Axes>"
      ]
     },
     "metadata": {
      "needs_background": "light"
     },
     "output_type": "display_data"
    }
   ],
   "source": [
    "sns.countplot(data = Disney_Data, x = 'Year', hue = 'Rating').set(title='Count Per Ratings Per Year')"
   ]
  },
  {
   "cell_type": "markdown",
   "id": "70ad0d83",
   "metadata": {},
   "source": [
    "The seaborn countplot above shows that as the years go from 2010 / 2011 to 2015 we see a rise in reviews for the theme parks. But as we go on from 2015 to 2019 we see a decline in reviews. Which I found verey interesting as I believe Disney would still be receiving alot if not more reviews btu this could be due to incomplete data."
   ]
  },
  {
   "cell_type": "markdown",
   "id": "d05a6397",
   "metadata": {},
   "source": [
    "### Conclusion"
   ]
  },
  {
   "cell_type": "markdown",
   "id": "13af2522",
   "metadata": {},
   "source": [
    "The graphical analysis of this project has shown me that the overall percentage of reviews had 54.27% with five-star reviews and less than 10% with one- or two-star ratings. As this shows Disney for the most part is receiving positive feedback from their guests. But for the 10% that is not happy with their experience how is Disney dealing with this review rating and or do they even realize they have these low reviews? As in the “Ratings by Year for Each Park” cat bar plot we see that Disneyland Paris is the park that is receiving the lowest review ratings throughout the years. Which could be due to issues stemming from tat park alone that needs to be addressed by workers in the United States and or Disneyland California. While the average rating for Disneyland Paris is 3.98 while Hong Kong and California parks sit at a 4.22% and 4.41%. As this project continues we will dive deeper into the reviews given by guests and determine if the reviews reflect the ratings they received. "
   ]
  },
  {
   "cell_type": "markdown",
   "id": "493ea15e",
   "metadata": {},
   "source": [
    "## Data Preparation"
   ]
  },
  {
   "cell_type": "markdown",
   "id": "59f49d86",
   "metadata": {},
   "source": [
    "The data preparation process that is used for my Disney review data started by checking the data type of my variables and checking for missing values within my variables. Once my missing values are identified I will determine how to update these missing values. The missing values I had came from my Year_Month variable so I decide to split my data into two variables one that focused on the year and one on the month. Once this is done the original variable will be dropped and front fill “ffill” will be used to replace missing values. Next some extraction steps I will take to clean up my review’s variable are the removal of punctuation, lowercase, number removal, creating tokens, and the removal of stop words. While also engineering new useful features such as creating polarity for the reviews to determine if they are positive, negative, or neutral. As the use of sentiment intensity analysis allows vadar rating and polarity to be calculated on the review data. Last the use of dummies can be used to create new variables for the parks to show the different review ratings for each parks. "
   ]
  },
  {
   "cell_type": "markdown",
   "id": "59cacf83",
   "metadata": {},
   "source": [
    "### Drop any features that are not useful for your model building and explain why they are not useful."
   ]
  },
  {
   "cell_type": "code",
   "execution_count": 252,
   "id": "a3366b2c",
   "metadata": {},
   "outputs": [
    {
     "data": {
      "text/html": [
       "<div>\n",
       "<style scoped>\n",
       "    .dataframe tbody tr th:only-of-type {\n",
       "        vertical-align: middle;\n",
       "    }\n",
       "\n",
       "    .dataframe tbody tr th {\n",
       "        vertical-align: top;\n",
       "    }\n",
       "\n",
       "    .dataframe thead th {\n",
       "        text-align: right;\n",
       "    }\n",
       "</style>\n",
       "<table border=\"1\" class=\"dataframe\">\n",
       "  <thead>\n",
       "    <tr style=\"text-align: right;\">\n",
       "      <th></th>\n",
       "      <th>Review_ID</th>\n",
       "      <th>Rating</th>\n",
       "      <th>Year_Month</th>\n",
       "      <th>Reviewer_Location</th>\n",
       "      <th>Review_Text</th>\n",
       "      <th>Branch</th>\n",
       "      <th>Year</th>\n",
       "      <th>Month</th>\n",
       "    </tr>\n",
       "  </thead>\n",
       "  <tbody>\n",
       "    <tr>\n",
       "      <th>0</th>\n",
       "      <td>670772142</td>\n",
       "      <td>4</td>\n",
       "      <td>2019-4</td>\n",
       "      <td>Australia</td>\n",
       "      <td>If you've ever been to Disneyland anywhere you...</td>\n",
       "      <td>Disneyland_HongKong</td>\n",
       "      <td>2019</td>\n",
       "      <td>4</td>\n",
       "    </tr>\n",
       "    <tr>\n",
       "      <th>1</th>\n",
       "      <td>670682799</td>\n",
       "      <td>4</td>\n",
       "      <td>2019-5</td>\n",
       "      <td>Philippines</td>\n",
       "      <td>Its been a while since d last time we visit HK...</td>\n",
       "      <td>Disneyland_HongKong</td>\n",
       "      <td>2019</td>\n",
       "      <td>5</td>\n",
       "    </tr>\n",
       "    <tr>\n",
       "      <th>2</th>\n",
       "      <td>670623270</td>\n",
       "      <td>4</td>\n",
       "      <td>2019-4</td>\n",
       "      <td>United Arab Emirates</td>\n",
       "      <td>Thanks God it wasn   t too hot or too humid wh...</td>\n",
       "      <td>Disneyland_HongKong</td>\n",
       "      <td>2019</td>\n",
       "      <td>4</td>\n",
       "    </tr>\n",
       "    <tr>\n",
       "      <th>3</th>\n",
       "      <td>670607911</td>\n",
       "      <td>4</td>\n",
       "      <td>2019-4</td>\n",
       "      <td>Australia</td>\n",
       "      <td>HK Disneyland is a great compact park. Unfortu...</td>\n",
       "      <td>Disneyland_HongKong</td>\n",
       "      <td>2019</td>\n",
       "      <td>4</td>\n",
       "    </tr>\n",
       "    <tr>\n",
       "      <th>4</th>\n",
       "      <td>670607296</td>\n",
       "      <td>4</td>\n",
       "      <td>2019-4</td>\n",
       "      <td>United Kingdom</td>\n",
       "      <td>the location is not in the city, took around 1...</td>\n",
       "      <td>Disneyland_HongKong</td>\n",
       "      <td>2019</td>\n",
       "      <td>4</td>\n",
       "    </tr>\n",
       "  </tbody>\n",
       "</table>\n",
       "</div>"
      ],
      "text/plain": [
       "   Review_ID  Rating Year_Month     Reviewer_Location  \\\n",
       "0  670772142       4     2019-4             Australia   \n",
       "1  670682799       4     2019-5           Philippines   \n",
       "2  670623270       4     2019-4  United Arab Emirates   \n",
       "3  670607911       4     2019-4             Australia   \n",
       "4  670607296       4     2019-4        United Kingdom   \n",
       "\n",
       "                                         Review_Text               Branch  \\\n",
       "0  If you've ever been to Disneyland anywhere you...  Disneyland_HongKong   \n",
       "1  Its been a while since d last time we visit HK...  Disneyland_HongKong   \n",
       "2  Thanks God it wasn   t too hot or too humid wh...  Disneyland_HongKong   \n",
       "3  HK Disneyland is a great compact park. Unfortu...  Disneyland_HongKong   \n",
       "4  the location is not in the city, took around 1...  Disneyland_HongKong   \n",
       "\n",
       "   Year Month  \n",
       "0  2019     4  \n",
       "1  2019     5  \n",
       "2  2019     4  \n",
       "3  2019     4  \n",
       "4  2019     4  "
      ]
     },
     "execution_count": 252,
     "metadata": {},
     "output_type": "execute_result"
    }
   ],
   "source": [
    "# First I will pull up my data and view the current dataframe\n",
    "Disney_Data.head()"
   ]
  },
  {
   "cell_type": "code",
   "execution_count": 253,
   "id": "03b2e9cb",
   "metadata": {},
   "outputs": [
    {
     "name": "stdout",
     "output_type": "stream",
     "text": [
      "<class 'pandas.core.frame.DataFrame'>\n",
      "Int64Index: 42636 entries, 0 to 42655\n",
      "Data columns (total 8 columns):\n",
      " #   Column             Non-Null Count  Dtype \n",
      "---  ------             --------------  ----- \n",
      " 0   Review_ID          42636 non-null  int64 \n",
      " 1   Rating             42636 non-null  int64 \n",
      " 2   Year_Month         40023 non-null  object\n",
      " 3   Reviewer_Location  42636 non-null  object\n",
      " 4   Review_Text        42636 non-null  object\n",
      " 5   Branch             42636 non-null  object\n",
      " 6   Year               40023 non-null  object\n",
      " 7   Month              40023 non-null  object\n",
      "dtypes: int64(2), object(6)\n",
      "memory usage: 3.9+ MB\n"
     ]
    }
   ],
   "source": [
    "# Next I will use info to see further information on each of my variables.\n",
    "Disney_Data.info()"
   ]
  },
  {
   "cell_type": "markdown",
   "id": "1a1fa26a",
   "metadata": {},
   "source": [
    "As seen above the data shows that the dtype for the review_ID and Rating variables are int64 and all the remaining variables are objects."
   ]
  },
  {
   "cell_type": "code",
   "execution_count": 254,
   "id": "19b03c4f",
   "metadata": {},
   "outputs": [
    {
     "data": {
      "text/plain": [
       "Review_ID            0.000000\n",
       "Rating               0.000000\n",
       "Year_Month           0.061286\n",
       "Reviewer_Location    0.000000\n",
       "Review_Text          0.000000\n",
       "Branch               0.000000\n",
       "Year                 0.061286\n",
       "Month                0.061286\n",
       "dtype: float64"
      ]
     },
     "execution_count": 254,
     "metadata": {},
     "output_type": "execute_result"
    }
   ],
   "source": [
    "# Next I will check and what variables have NA values and what percentage of the variable is NA\n",
    "Disney_Data.isnull().sum()/len(Disney_Data)"
   ]
  },
  {
   "cell_type": "markdown",
   "id": "f8a9c122",
   "metadata": {},
   "source": [
    "As seen above we see that the Year_Month, Year, and Month variables are the only variables with NA's data and only being 6% of all the data. I will first drop the Year_Month variable due to the fact that I have created new variables for year and month but seperate. "
   ]
  },
  {
   "cell_type": "markdown",
   "id": "01e6eef4",
   "metadata": {},
   "source": [
    "### Deal with missing data (do not just drop rows or columns without justifying this)."
   ]
  },
  {
   "cell_type": "code",
   "execution_count": 255,
   "id": "01e2afb8",
   "metadata": {},
   "outputs": [
    {
     "data": {
      "text/html": [
       "<div>\n",
       "<style scoped>\n",
       "    .dataframe tbody tr th:only-of-type {\n",
       "        vertical-align: middle;\n",
       "    }\n",
       "\n",
       "    .dataframe tbody tr th {\n",
       "        vertical-align: top;\n",
       "    }\n",
       "\n",
       "    .dataframe thead th {\n",
       "        text-align: right;\n",
       "    }\n",
       "</style>\n",
       "<table border=\"1\" class=\"dataframe\">\n",
       "  <thead>\n",
       "    <tr style=\"text-align: right;\">\n",
       "      <th></th>\n",
       "      <th>Review_ID</th>\n",
       "      <th>Rating</th>\n",
       "      <th>Reviewer_Location</th>\n",
       "      <th>Review_Text</th>\n",
       "      <th>Branch</th>\n",
       "      <th>Year</th>\n",
       "      <th>Month</th>\n",
       "    </tr>\n",
       "  </thead>\n",
       "  <tbody>\n",
       "    <tr>\n",
       "      <th>0</th>\n",
       "      <td>670772142</td>\n",
       "      <td>4</td>\n",
       "      <td>Australia</td>\n",
       "      <td>If you've ever been to Disneyland anywhere you...</td>\n",
       "      <td>Disneyland_HongKong</td>\n",
       "      <td>2019</td>\n",
       "      <td>4</td>\n",
       "    </tr>\n",
       "    <tr>\n",
       "      <th>1</th>\n",
       "      <td>670682799</td>\n",
       "      <td>4</td>\n",
       "      <td>Philippines</td>\n",
       "      <td>Its been a while since d last time we visit HK...</td>\n",
       "      <td>Disneyland_HongKong</td>\n",
       "      <td>2019</td>\n",
       "      <td>5</td>\n",
       "    </tr>\n",
       "    <tr>\n",
       "      <th>2</th>\n",
       "      <td>670623270</td>\n",
       "      <td>4</td>\n",
       "      <td>United Arab Emirates</td>\n",
       "      <td>Thanks God it wasn   t too hot or too humid wh...</td>\n",
       "      <td>Disneyland_HongKong</td>\n",
       "      <td>2019</td>\n",
       "      <td>4</td>\n",
       "    </tr>\n",
       "    <tr>\n",
       "      <th>3</th>\n",
       "      <td>670607911</td>\n",
       "      <td>4</td>\n",
       "      <td>Australia</td>\n",
       "      <td>HK Disneyland is a great compact park. Unfortu...</td>\n",
       "      <td>Disneyland_HongKong</td>\n",
       "      <td>2019</td>\n",
       "      <td>4</td>\n",
       "    </tr>\n",
       "    <tr>\n",
       "      <th>4</th>\n",
       "      <td>670607296</td>\n",
       "      <td>4</td>\n",
       "      <td>United Kingdom</td>\n",
       "      <td>the location is not in the city, took around 1...</td>\n",
       "      <td>Disneyland_HongKong</td>\n",
       "      <td>2019</td>\n",
       "      <td>4</td>\n",
       "    </tr>\n",
       "  </tbody>\n",
       "</table>\n",
       "</div>"
      ],
      "text/plain": [
       "   Review_ID  Rating     Reviewer_Location  \\\n",
       "0  670772142       4             Australia   \n",
       "1  670682799       4           Philippines   \n",
       "2  670623270       4  United Arab Emirates   \n",
       "3  670607911       4             Australia   \n",
       "4  670607296       4        United Kingdom   \n",
       "\n",
       "                                         Review_Text               Branch  \\\n",
       "0  If you've ever been to Disneyland anywhere you...  Disneyland_HongKong   \n",
       "1  Its been a while since d last time we visit HK...  Disneyland_HongKong   \n",
       "2  Thanks God it wasn   t too hot or too humid wh...  Disneyland_HongKong   \n",
       "3  HK Disneyland is a great compact park. Unfortu...  Disneyland_HongKong   \n",
       "4  the location is not in the city, took around 1...  Disneyland_HongKong   \n",
       "\n",
       "   Year Month  \n",
       "0  2019     4  \n",
       "1  2019     5  \n",
       "2  2019     4  \n",
       "3  2019     4  \n",
       "4  2019     4  "
      ]
     },
     "execution_count": 255,
     "metadata": {},
     "output_type": "execute_result"
    }
   ],
   "source": [
    "# I will first drop my Year_Month variable being that I seperated\n",
    "# them and created new ones  \n",
    "Disney_Data.drop(columns =[\"Year_Month\"], inplace = True)\n",
    "Disney_Data.head()"
   ]
  },
  {
   "cell_type": "code",
   "execution_count": 256,
   "id": "45946483",
   "metadata": {},
   "outputs": [],
   "source": [
    "# I will now use ffill to fill my missing data for month and year variables\n",
    "# as the variables for the month and year would be similar to the one bellow \n",
    "Disney_Data = Disney_Data.fillna(method=\"ffill\")"
   ]
  },
  {
   "cell_type": "code",
   "execution_count": 257,
   "id": "0c92dda1",
   "metadata": {},
   "outputs": [
    {
     "data": {
      "text/plain": [
       "Review_ID            0.0\n",
       "Rating               0.0\n",
       "Reviewer_Location    0.0\n",
       "Review_Text          0.0\n",
       "Branch               0.0\n",
       "Year                 0.0\n",
       "Month                0.0\n",
       "dtype: float64"
      ]
     },
     "execution_count": 257,
     "metadata": {},
     "output_type": "execute_result"
    }
   ],
   "source": [
    "# Next I will check and make sure that all values are filled and are not missing any data\n",
    "Disney_Data.isnull().sum()/len(Disney_Data)"
   ]
  },
  {
   "cell_type": "code",
   "execution_count": 258,
   "id": "c20608b2",
   "metadata": {},
   "outputs": [
    {
     "name": "stdout",
     "output_type": "stream",
     "text": [
      "<class 'pandas.core.frame.DataFrame'>\n",
      "Int64Index: 42636 entries, 0 to 42655\n",
      "Data columns (total 7 columns):\n",
      " #   Column             Non-Null Count  Dtype \n",
      "---  ------             --------------  ----- \n",
      " 0   Review_ID          42636 non-null  int64 \n",
      " 1   Rating             42636 non-null  int64 \n",
      " 2   Reviewer_Location  42636 non-null  object\n",
      " 3   Review_Text        42636 non-null  object\n",
      " 4   Branch             42636 non-null  object\n",
      " 5   Year               42636 non-null  object\n",
      " 6   Month              42636 non-null  object\n",
      "dtypes: int64(2), object(5)\n",
      "memory usage: 3.6+ MB\n"
     ]
    }
   ],
   "source": [
    "# Next I will use info to see further information on each of my variables.\n",
    "Disney_Data.info()"
   ]
  },
  {
   "cell_type": "markdown",
   "id": "ed4f70ed",
   "metadata": {},
   "source": [
    "As seen above the data frame no longer has any missing data and the Dtypes have been the same. "
   ]
  },
  {
   "cell_type": "markdown",
   "id": "85ee878e",
   "metadata": {},
   "source": [
    "### Perform any data extraction/selection steps and transform features if necessary."
   ]
  },
  {
   "cell_type": "code",
   "execution_count": 259,
   "id": "8d2b782d",
   "metadata": {},
   "outputs": [],
   "source": [
    "# I will first remove the punctuation from my Review_Text variable \n",
    "# to start the cleaning process of my disney reviews\n",
    "def punc_removal(text):\n",
    "    text = \" \".join([word.strip(string.punctuation) for word in text.split(\" \")])\n",
    "    return text\n",
    "Disney_Data['Review_update'] = Disney_Data['Review_Text'].apply(punc_removal)"
   ]
  },
  {
   "cell_type": "code",
   "execution_count": 260,
   "id": "78cb4e6b",
   "metadata": {},
   "outputs": [],
   "source": [
    "# Next I will transform my Review_update text to lowercase \n",
    "# through the use of lambda, apply, and lower\n",
    "Disney_Data['Review_update']= Disney_Data['Review_update'].apply(lambda x: x.lower())"
   ]
  },
  {
   "cell_type": "code",
   "execution_count": 261,
   "id": "77457476",
   "metadata": {},
   "outputs": [],
   "source": [
    "# Next I will remove the numbers that are imbedded in the reviews by using isdigit and apply\n",
    "def number_removal(text):\n",
    "    text = \"\".join([word for word in text if not any(c.isdigit() for c in word)])\n",
    "    return text\n",
    "Disney_Data['Review_update'] = Disney_Data['Review_update'].apply(number_removal)"
   ]
  },
  {
   "cell_type": "code",
   "execution_count": 262,
   "id": "8cd74028",
   "metadata": {},
   "outputs": [],
   "source": [
    "# I will now convert my Review_update variable with split to create tokens \n",
    "def token(text):\n",
    "    text = text.split()\n",
    "    return text\n",
    "Disney_Data['Review_update'] = Disney_Data['Review_update'].apply(token)"
   ]
  },
  {
   "cell_type": "code",
   "execution_count": 263,
   "id": "6de01bbc",
   "metadata": {},
   "outputs": [],
   "source": [
    "# Next I will set my stopwords to english and string my puncuation \n",
    "# While setting Disney as a word that I do not want edited by the stopwords\n",
    "stop_words = set(stopwords.words('english'))\n",
    "keep_names = ['disney']\n",
    "punc = string.punctuation"
   ]
  },
  {
   "cell_type": "code",
   "execution_count": 264,
   "id": "a5b2d97c",
   "metadata": {},
   "outputs": [],
   "source": [
    "# Next I will remove the stopwords from my Review_update\n",
    "def stopword_removal(text): \n",
    "    stop = stopwords.words('english')\n",
    "    text = [x for x in text if x not in stop_words and x not in keep_names and x not in punc] \n",
    "    return text\n",
    "Disney_Data['Review_update'] = Disney_Data['Review_update'].apply(stopword_removal)"
   ]
  },
  {
   "cell_type": "code",
   "execution_count": 266,
   "id": "5eba767b",
   "metadata": {},
   "outputs": [],
   "source": [
    "# Next I will convert the words in the text to their base word with the use of WordNetLemmatizer\n",
    "def lemmatize(text):\n",
    "    text = [WordNetLemmatizer().lemmatize(word) for word in text]\n",
    "    return text\n",
    "Disney_Data['Review_update'] = Disney_Data['Review_update'].apply(lemmatize)"
   ]
  },
  {
   "cell_type": "code",
   "execution_count": 267,
   "id": "428aec30",
   "metadata": {},
   "outputs": [],
   "source": [
    "# I will Join my Review_update variable values through the use of join\n",
    "def review_join(text):\n",
    "    text = \" \".join(text)\n",
    "    return text\n",
    "Disney_Data['Review_update'] = Disney_Data['Review_update'].apply(review_join)"
   ]
  },
  {
   "cell_type": "markdown",
   "id": "f9ac950f",
   "metadata": {},
   "source": [
    "The data extraction that was completed above was for punctuation, lowercase, number removal, creating tokens, and the removal of stop words. Which will condence the review and make it easier to determine if the review is positive, negative, or neutral."
   ]
  },
  {
   "cell_type": "markdown",
   "id": "478290aa",
   "metadata": {},
   "source": [
    "### Engineer new useful features."
   ]
  },
  {
   "cell_type": "code",
   "execution_count": 268,
   "id": "6430d7b8",
   "metadata": {},
   "outputs": [
    {
     "data": {
      "text/html": [
       "<div>\n",
       "<style scoped>\n",
       "    .dataframe tbody tr th:only-of-type {\n",
       "        vertical-align: middle;\n",
       "    }\n",
       "\n",
       "    .dataframe tbody tr th {\n",
       "        vertical-align: top;\n",
       "    }\n",
       "\n",
       "    .dataframe thead th {\n",
       "        text-align: right;\n",
       "    }\n",
       "</style>\n",
       "<table border=\"1\" class=\"dataframe\">\n",
       "  <thead>\n",
       "    <tr style=\"text-align: right;\">\n",
       "      <th></th>\n",
       "      <th>Review_ID</th>\n",
       "      <th>Rating</th>\n",
       "      <th>Reviewer_Location</th>\n",
       "      <th>Review_Text</th>\n",
       "      <th>Branch</th>\n",
       "      <th>Year</th>\n",
       "      <th>Month</th>\n",
       "      <th>Review_update</th>\n",
       "    </tr>\n",
       "  </thead>\n",
       "  <tbody>\n",
       "    <tr>\n",
       "      <th>0</th>\n",
       "      <td>670772142</td>\n",
       "      <td>4</td>\n",
       "      <td>Australia</td>\n",
       "      <td>If you've ever been to Disneyland anywhere you...</td>\n",
       "      <td>Disneyland_HongKong</td>\n",
       "      <td>2019</td>\n",
       "      <td>4</td>\n",
       "      <td>ever disneyland anywhere find disneyland hong ...</td>\n",
       "    </tr>\n",
       "    <tr>\n",
       "      <th>1</th>\n",
       "      <td>670682799</td>\n",
       "      <td>4</td>\n",
       "      <td>Philippines</td>\n",
       "      <td>Its been a while since d last time we visit HK...</td>\n",
       "      <td>Disneyland_HongKong</td>\n",
       "      <td>2019</td>\n",
       "      <td>5</td>\n",
       "      <td>since last time visit hk disneyland yet time s...</td>\n",
       "    </tr>\n",
       "    <tr>\n",
       "      <th>2</th>\n",
       "      <td>670623270</td>\n",
       "      <td>4</td>\n",
       "      <td>United Arab Emirates</td>\n",
       "      <td>Thanks God it wasn   t too hot or too humid wh...</td>\n",
       "      <td>Disneyland_HongKong</td>\n",
       "      <td>2019</td>\n",
       "      <td>4</td>\n",
       "      <td>thanks god hot humid visiting park otherwise w...</td>\n",
       "    </tr>\n",
       "    <tr>\n",
       "      <th>3</th>\n",
       "      <td>670607911</td>\n",
       "      <td>4</td>\n",
       "      <td>Australia</td>\n",
       "      <td>HK Disneyland is a great compact park. Unfortu...</td>\n",
       "      <td>Disneyland_HongKong</td>\n",
       "      <td>2019</td>\n",
       "      <td>4</td>\n",
       "      <td>hk disneyland great compact park unfortunately...</td>\n",
       "    </tr>\n",
       "    <tr>\n",
       "      <th>4</th>\n",
       "      <td>670607296</td>\n",
       "      <td>4</td>\n",
       "      <td>United Kingdom</td>\n",
       "      <td>the location is not in the city, took around 1...</td>\n",
       "      <td>Disneyland_HongKong</td>\n",
       "      <td>2019</td>\n",
       "      <td>4</td>\n",
       "      <td>location city took around hour kowlon kid like...</td>\n",
       "    </tr>\n",
       "  </tbody>\n",
       "</table>\n",
       "</div>"
      ],
      "text/plain": [
       "   Review_ID  Rating     Reviewer_Location  \\\n",
       "0  670772142       4             Australia   \n",
       "1  670682799       4           Philippines   \n",
       "2  670623270       4  United Arab Emirates   \n",
       "3  670607911       4             Australia   \n",
       "4  670607296       4        United Kingdom   \n",
       "\n",
       "                                         Review_Text               Branch  \\\n",
       "0  If you've ever been to Disneyland anywhere you...  Disneyland_HongKong   \n",
       "1  Its been a while since d last time we visit HK...  Disneyland_HongKong   \n",
       "2  Thanks God it wasn   t too hot or too humid wh...  Disneyland_HongKong   \n",
       "3  HK Disneyland is a great compact park. Unfortu...  Disneyland_HongKong   \n",
       "4  the location is not in the city, took around 1...  Disneyland_HongKong   \n",
       "\n",
       "   Year Month                                      Review_update  \n",
       "0  2019     4  ever disneyland anywhere find disneyland hong ...  \n",
       "1  2019     5  since last time visit hk disneyland yet time s...  \n",
       "2  2019     4  thanks god hot humid visiting park otherwise w...  \n",
       "3  2019     4  hk disneyland great compact park unfortunately...  \n",
       "4  2019     4  location city took around hour kowlon kid like...  "
      ]
     },
     "execution_count": 268,
     "metadata": {},
     "output_type": "execute_result"
    }
   ],
   "source": [
    "# Next I will view my updated data frame to see my original and \n",
    "# new variable to further evaluate my dataframe\n",
    "Disney_Data.head()"
   ]
  },
  {
   "cell_type": "code",
   "execution_count": 269,
   "id": "2acdf8aa",
   "metadata": {},
   "outputs": [
    {
     "data": {
      "text/html": [
       "<div>\n",
       "<style scoped>\n",
       "    .dataframe tbody tr th:only-of-type {\n",
       "        vertical-align: middle;\n",
       "    }\n",
       "\n",
       "    .dataframe tbody tr th {\n",
       "        vertical-align: top;\n",
       "    }\n",
       "\n",
       "    .dataframe thead th {\n",
       "        text-align: right;\n",
       "    }\n",
       "</style>\n",
       "<table border=\"1\" class=\"dataframe\">\n",
       "  <thead>\n",
       "    <tr style=\"text-align: right;\">\n",
       "      <th></th>\n",
       "      <th>Review_ID</th>\n",
       "      <th>Rating</th>\n",
       "      <th>Reviewer_Location</th>\n",
       "      <th>Review_Text</th>\n",
       "      <th>Branch</th>\n",
       "      <th>Year</th>\n",
       "      <th>Month</th>\n",
       "      <th>Review_update</th>\n",
       "      <th>Review_Polarity</th>\n",
       "    </tr>\n",
       "  </thead>\n",
       "  <tbody>\n",
       "    <tr>\n",
       "      <th>0</th>\n",
       "      <td>670772142</td>\n",
       "      <td>4</td>\n",
       "      <td>Australia</td>\n",
       "      <td>If you've ever been to Disneyland anywhere you...</td>\n",
       "      <td>Disneyland_HongKong</td>\n",
       "      <td>2019</td>\n",
       "      <td>4</td>\n",
       "      <td>ever disneyland anywhere find disneyland hong ...</td>\n",
       "      <td>Positive</td>\n",
       "    </tr>\n",
       "    <tr>\n",
       "      <th>1</th>\n",
       "      <td>670682799</td>\n",
       "      <td>4</td>\n",
       "      <td>Philippines</td>\n",
       "      <td>Its been a while since d last time we visit HK...</td>\n",
       "      <td>Disneyland_HongKong</td>\n",
       "      <td>2019</td>\n",
       "      <td>5</td>\n",
       "      <td>since last time visit hk disneyland yet time s...</td>\n",
       "      <td>Positive</td>\n",
       "    </tr>\n",
       "    <tr>\n",
       "      <th>2</th>\n",
       "      <td>670623270</td>\n",
       "      <td>4</td>\n",
       "      <td>United Arab Emirates</td>\n",
       "      <td>Thanks God it wasn   t too hot or too humid wh...</td>\n",
       "      <td>Disneyland_HongKong</td>\n",
       "      <td>2019</td>\n",
       "      <td>4</td>\n",
       "      <td>thanks god hot humid visiting park otherwise w...</td>\n",
       "      <td>Positive</td>\n",
       "    </tr>\n",
       "    <tr>\n",
       "      <th>3</th>\n",
       "      <td>670607911</td>\n",
       "      <td>4</td>\n",
       "      <td>Australia</td>\n",
       "      <td>HK Disneyland is a great compact park. Unfortu...</td>\n",
       "      <td>Disneyland_HongKong</td>\n",
       "      <td>2019</td>\n",
       "      <td>4</td>\n",
       "      <td>hk disneyland great compact park unfortunately...</td>\n",
       "      <td>Positive</td>\n",
       "    </tr>\n",
       "    <tr>\n",
       "      <th>4</th>\n",
       "      <td>670607296</td>\n",
       "      <td>4</td>\n",
       "      <td>United Kingdom</td>\n",
       "      <td>the location is not in the city, took around 1...</td>\n",
       "      <td>Disneyland_HongKong</td>\n",
       "      <td>2019</td>\n",
       "      <td>4</td>\n",
       "      <td>location city took around hour kowlon kid like...</td>\n",
       "      <td>Positive</td>\n",
       "    </tr>\n",
       "  </tbody>\n",
       "</table>\n",
       "</div>"
      ],
      "text/plain": [
       "   Review_ID  Rating     Reviewer_Location  \\\n",
       "0  670772142       4             Australia   \n",
       "1  670682799       4           Philippines   \n",
       "2  670623270       4  United Arab Emirates   \n",
       "3  670607911       4             Australia   \n",
       "4  670607296       4        United Kingdom   \n",
       "\n",
       "                                         Review_Text               Branch  \\\n",
       "0  If you've ever been to Disneyland anywhere you...  Disneyland_HongKong   \n",
       "1  Its been a while since d last time we visit HK...  Disneyland_HongKong   \n",
       "2  Thanks God it wasn   t too hot or too humid wh...  Disneyland_HongKong   \n",
       "3  HK Disneyland is a great compact park. Unfortu...  Disneyland_HongKong   \n",
       "4  the location is not in the city, took around 1...  Disneyland_HongKong   \n",
       "\n",
       "   Year Month                                      Review_update  \\\n",
       "0  2019     4  ever disneyland anywhere find disneyland hong ...   \n",
       "1  2019     5  since last time visit hk disneyland yet time s...   \n",
       "2  2019     4  thanks god hot humid visiting park otherwise w...   \n",
       "3  2019     4  hk disneyland great compact park unfortunately...   \n",
       "4  2019     4  location city took around hour kowlon kid like...   \n",
       "\n",
       "  Review_Polarity  \n",
       "0        Positive  \n",
       "1        Positive  \n",
       "2        Positive  \n",
       "3        Positive  \n",
       "4        Positive  "
      ]
     },
     "execution_count": 269,
     "metadata": {},
     "output_type": "execute_result"
    }
   ],
   "source": [
    "# Next I create a new variable for polarity of my Rating variable\n",
    "Disney_Data['Review_Polarity'] = Disney_Data['Rating'].apply(lambda x: 'Positive' if x > 3 else('Neutral' if x == 3 else 'Negative'))\n",
    "Disney_Data.head()"
   ]
  },
  {
   "cell_type": "markdown",
   "id": "03a6b67c",
   "metadata": {},
   "source": [
    "Above the use of lamba to determine the polarity of the rating for the reviews was determining if the value was Positive, Negative, or Neutral."
   ]
  },
  {
   "cell_type": "code",
   "execution_count": 217,
   "id": "913240e1",
   "metadata": {},
   "outputs": [
    {
     "name": "stdout",
     "output_type": "stream",
     "text": [
      "Requirement already satisfied: vaderSentiment in /Users/Robyn/opt/anaconda3/lib/python3.8/site-packages (3.3.2)\n",
      "Requirement already satisfied: requests in /Users/Robyn/opt/anaconda3/lib/python3.8/site-packages (from vaderSentiment) (2.25.1)\n",
      "Requirement already satisfied: certifi>=2017.4.17 in /Users/Robyn/opt/anaconda3/lib/python3.8/site-packages (from requests->vaderSentiment) (2020.12.5)\n",
      "Requirement already satisfied: idna<3,>=2.5 in /Users/Robyn/opt/anaconda3/lib/python3.8/site-packages (from requests->vaderSentiment) (2.10)\n",
      "Requirement already satisfied: chardet<5,>=3.0.2 in /Users/Robyn/opt/anaconda3/lib/python3.8/site-packages (from requests->vaderSentiment) (4.0.0)\n",
      "Requirement already satisfied: urllib3<1.27,>=1.21.1 in /Users/Robyn/opt/anaconda3/lib/python3.8/site-packages (from requests->vaderSentiment) (1.26.4)\n",
      "\u001b[33mWARNING: You are using pip version 21.3.1; however, version 22.0.3 is available.\n",
      "You should consider upgrading via the '/Users/Robyn/opt/anaconda3/bin/python -m pip install --upgrade pip' command.\u001b[0m\n",
      "Note: you may need to restart the kernel to use updated packages.\n"
     ]
    }
   ],
   "source": [
    "pip install vaderSentiment"
   ]
  },
  {
   "cell_type": "code",
   "execution_count": 218,
   "id": "07e14e64",
   "metadata": {},
   "outputs": [],
   "source": [
    "from vaderSentiment.vaderSentiment import SentimentIntensityAnalyzer"
   ]
  },
  {
   "cell_type": "code",
   "execution_count": 270,
   "id": "35e74c48",
   "metadata": {},
   "outputs": [],
   "source": [
    "# Last I will calculat the vader by using the SentimentIntensityAnalyzer\n",
    "analyzer=SentimentIntensityAnalyzer()\n",
    "vader = []\n",
    "\n",
    "for i in Disney_Data['Review_update']:\n",
    "    score = analyzer.polarity_scores(i)\n",
    "    vader.append(score['compound'])\n",
    "Disney_Data['Vader_rating'] = vader"
   ]
  },
  {
   "cell_type": "code",
   "execution_count": 271,
   "id": "7cbd2c89",
   "metadata": {},
   "outputs": [
    {
     "data": {
      "text/html": [
       "<div>\n",
       "<style scoped>\n",
       "    .dataframe tbody tr th:only-of-type {\n",
       "        vertical-align: middle;\n",
       "    }\n",
       "\n",
       "    .dataframe tbody tr th {\n",
       "        vertical-align: top;\n",
       "    }\n",
       "\n",
       "    .dataframe thead th {\n",
       "        text-align: right;\n",
       "    }\n",
       "</style>\n",
       "<table border=\"1\" class=\"dataframe\">\n",
       "  <thead>\n",
       "    <tr style=\"text-align: right;\">\n",
       "      <th></th>\n",
       "      <th>Review_ID</th>\n",
       "      <th>Rating</th>\n",
       "      <th>Reviewer_Location</th>\n",
       "      <th>Review_Text</th>\n",
       "      <th>Branch</th>\n",
       "      <th>Year</th>\n",
       "      <th>Month</th>\n",
       "      <th>Review_update</th>\n",
       "      <th>Review_Polarity</th>\n",
       "      <th>Vader_rating</th>\n",
       "      <th>Vader_polarity</th>\n",
       "    </tr>\n",
       "  </thead>\n",
       "  <tbody>\n",
       "    <tr>\n",
       "      <th>0</th>\n",
       "      <td>670772142</td>\n",
       "      <td>4</td>\n",
       "      <td>Australia</td>\n",
       "      <td>If you've ever been to Disneyland anywhere you...</td>\n",
       "      <td>Disneyland_HongKong</td>\n",
       "      <td>2019</td>\n",
       "      <td>4</td>\n",
       "      <td>ever disneyland anywhere find disneyland hong ...</td>\n",
       "      <td>Positive</td>\n",
       "      <td>0.7889</td>\n",
       "      <td>Positive</td>\n",
       "    </tr>\n",
       "    <tr>\n",
       "      <th>1</th>\n",
       "      <td>670682799</td>\n",
       "      <td>4</td>\n",
       "      <td>Philippines</td>\n",
       "      <td>Its been a while since d last time we visit HK...</td>\n",
       "      <td>Disneyland_HongKong</td>\n",
       "      <td>2019</td>\n",
       "      <td>5</td>\n",
       "      <td>since last time visit hk disneyland yet time s...</td>\n",
       "      <td>Positive</td>\n",
       "      <td>0.9860</td>\n",
       "      <td>Positive</td>\n",
       "    </tr>\n",
       "    <tr>\n",
       "      <th>2</th>\n",
       "      <td>670623270</td>\n",
       "      <td>4</td>\n",
       "      <td>United Arab Emirates</td>\n",
       "      <td>Thanks God it wasn   t too hot or too humid wh...</td>\n",
       "      <td>Disneyland_HongKong</td>\n",
       "      <td>2019</td>\n",
       "      <td>4</td>\n",
       "      <td>thanks god hot humid visiting park otherwise w...</td>\n",
       "      <td>Positive</td>\n",
       "      <td>0.9864</td>\n",
       "      <td>Positive</td>\n",
       "    </tr>\n",
       "    <tr>\n",
       "      <th>3</th>\n",
       "      <td>670607911</td>\n",
       "      <td>4</td>\n",
       "      <td>Australia</td>\n",
       "      <td>HK Disneyland is a great compact park. Unfortu...</td>\n",
       "      <td>Disneyland_HongKong</td>\n",
       "      <td>2019</td>\n",
       "      <td>4</td>\n",
       "      <td>hk disneyland great compact park unfortunately...</td>\n",
       "      <td>Positive</td>\n",
       "      <td>0.8739</td>\n",
       "      <td>Positive</td>\n",
       "    </tr>\n",
       "    <tr>\n",
       "      <th>4</th>\n",
       "      <td>670607296</td>\n",
       "      <td>4</td>\n",
       "      <td>United Kingdom</td>\n",
       "      <td>the location is not in the city, took around 1...</td>\n",
       "      <td>Disneyland_HongKong</td>\n",
       "      <td>2019</td>\n",
       "      <td>4</td>\n",
       "      <td>location city took around hour kowlon kid like...</td>\n",
       "      <td>Positive</td>\n",
       "      <td>0.5106</td>\n",
       "      <td>Positive</td>\n",
       "    </tr>\n",
       "  </tbody>\n",
       "</table>\n",
       "</div>"
      ],
      "text/plain": [
       "   Review_ID  Rating     Reviewer_Location  \\\n",
       "0  670772142       4             Australia   \n",
       "1  670682799       4           Philippines   \n",
       "2  670623270       4  United Arab Emirates   \n",
       "3  670607911       4             Australia   \n",
       "4  670607296       4        United Kingdom   \n",
       "\n",
       "                                         Review_Text               Branch  \\\n",
       "0  If you've ever been to Disneyland anywhere you...  Disneyland_HongKong   \n",
       "1  Its been a while since d last time we visit HK...  Disneyland_HongKong   \n",
       "2  Thanks God it wasn   t too hot or too humid wh...  Disneyland_HongKong   \n",
       "3  HK Disneyland is a great compact park. Unfortu...  Disneyland_HongKong   \n",
       "4  the location is not in the city, took around 1...  Disneyland_HongKong   \n",
       "\n",
       "   Year Month                                      Review_update  \\\n",
       "0  2019     4  ever disneyland anywhere find disneyland hong ...   \n",
       "1  2019     5  since last time visit hk disneyland yet time s...   \n",
       "2  2019     4  thanks god hot humid visiting park otherwise w...   \n",
       "3  2019     4  hk disneyland great compact park unfortunately...   \n",
       "4  2019     4  location city took around hour kowlon kid like...   \n",
       "\n",
       "  Review_Polarity  Vader_rating Vader_polarity  \n",
       "0        Positive        0.7889       Positive  \n",
       "1        Positive        0.9860       Positive  \n",
       "2        Positive        0.9864       Positive  \n",
       "3        Positive        0.8739       Positive  \n",
       "4        Positive        0.5106       Positive  "
      ]
     },
     "execution_count": 271,
     "metadata": {},
     "output_type": "execute_result"
    }
   ],
   "source": [
    "# I will also determine the rating of each value by setting the vader to positive, negative, or neutral\n",
    "Disney_Data['Vader_polarity'] = Disney_Data['Vader_rating'].apply(lambda x: 'Positive' if x > 0 else('Neutral' if x == 0 else 'Negative'))\n",
    "Disney_Data.head()"
   ]
  },
  {
   "cell_type": "markdown",
   "id": "adfe946a",
   "metadata": {},
   "source": [
    "The use of sentiment intensity analysis creates a Vader rating and polarity to give a more in-depth score rating and updating a finer scale for positive, negative, or neutral for the Vader polarity."
   ]
  },
  {
   "cell_type": "markdown",
   "id": "8c85d7af",
   "metadata": {},
   "source": [
    "### Create dummy variables if necessary."
   ]
  },
  {
   "cell_type": "code",
   "execution_count": 272,
   "id": "584db056",
   "metadata": {},
   "outputs": [
    {
     "data": {
      "text/html": [
       "<div>\n",
       "<style scoped>\n",
       "    .dataframe tbody tr th:only-of-type {\n",
       "        vertical-align: middle;\n",
       "    }\n",
       "\n",
       "    .dataframe tbody tr th {\n",
       "        vertical-align: top;\n",
       "    }\n",
       "\n",
       "    .dataframe thead th {\n",
       "        text-align: right;\n",
       "    }\n",
       "</style>\n",
       "<table border=\"1\" class=\"dataframe\">\n",
       "  <thead>\n",
       "    <tr style=\"text-align: right;\">\n",
       "      <th></th>\n",
       "      <th>Review_ID</th>\n",
       "      <th>Rating</th>\n",
       "      <th>Reviewer_Location</th>\n",
       "      <th>Review_Text</th>\n",
       "      <th>Branch</th>\n",
       "      <th>Year</th>\n",
       "      <th>Month</th>\n",
       "      <th>Review_update</th>\n",
       "      <th>Review_Polarity</th>\n",
       "      <th>Vader_rating</th>\n",
       "      <th>Vader_polarity</th>\n",
       "      <th>Disneyland_California</th>\n",
       "      <th>Disneyland_HongKong</th>\n",
       "      <th>Disneyland_Paris</th>\n",
       "    </tr>\n",
       "  </thead>\n",
       "  <tbody>\n",
       "    <tr>\n",
       "      <th>0</th>\n",
       "      <td>670772142</td>\n",
       "      <td>4</td>\n",
       "      <td>Australia</td>\n",
       "      <td>If you've ever been to Disneyland anywhere you...</td>\n",
       "      <td>Disneyland_HongKong</td>\n",
       "      <td>2019</td>\n",
       "      <td>4</td>\n",
       "      <td>ever disneyland anywhere find disneyland hong ...</td>\n",
       "      <td>Positive</td>\n",
       "      <td>0.7889</td>\n",
       "      <td>Positive</td>\n",
       "      <td>0</td>\n",
       "      <td>1</td>\n",
       "      <td>0</td>\n",
       "    </tr>\n",
       "    <tr>\n",
       "      <th>1</th>\n",
       "      <td>670682799</td>\n",
       "      <td>4</td>\n",
       "      <td>Philippines</td>\n",
       "      <td>Its been a while since d last time we visit HK...</td>\n",
       "      <td>Disneyland_HongKong</td>\n",
       "      <td>2019</td>\n",
       "      <td>5</td>\n",
       "      <td>since last time visit hk disneyland yet time s...</td>\n",
       "      <td>Positive</td>\n",
       "      <td>0.9860</td>\n",
       "      <td>Positive</td>\n",
       "      <td>0</td>\n",
       "      <td>1</td>\n",
       "      <td>0</td>\n",
       "    </tr>\n",
       "    <tr>\n",
       "      <th>2</th>\n",
       "      <td>670623270</td>\n",
       "      <td>4</td>\n",
       "      <td>United Arab Emirates</td>\n",
       "      <td>Thanks God it wasn   t too hot or too humid wh...</td>\n",
       "      <td>Disneyland_HongKong</td>\n",
       "      <td>2019</td>\n",
       "      <td>4</td>\n",
       "      <td>thanks god hot humid visiting park otherwise w...</td>\n",
       "      <td>Positive</td>\n",
       "      <td>0.9864</td>\n",
       "      <td>Positive</td>\n",
       "      <td>0</td>\n",
       "      <td>1</td>\n",
       "      <td>0</td>\n",
       "    </tr>\n",
       "    <tr>\n",
       "      <th>3</th>\n",
       "      <td>670607911</td>\n",
       "      <td>4</td>\n",
       "      <td>Australia</td>\n",
       "      <td>HK Disneyland is a great compact park. Unfortu...</td>\n",
       "      <td>Disneyland_HongKong</td>\n",
       "      <td>2019</td>\n",
       "      <td>4</td>\n",
       "      <td>hk disneyland great compact park unfortunately...</td>\n",
       "      <td>Positive</td>\n",
       "      <td>0.8739</td>\n",
       "      <td>Positive</td>\n",
       "      <td>0</td>\n",
       "      <td>1</td>\n",
       "      <td>0</td>\n",
       "    </tr>\n",
       "    <tr>\n",
       "      <th>4</th>\n",
       "      <td>670607296</td>\n",
       "      <td>4</td>\n",
       "      <td>United Kingdom</td>\n",
       "      <td>the location is not in the city, took around 1...</td>\n",
       "      <td>Disneyland_HongKong</td>\n",
       "      <td>2019</td>\n",
       "      <td>4</td>\n",
       "      <td>location city took around hour kowlon kid like...</td>\n",
       "      <td>Positive</td>\n",
       "      <td>0.5106</td>\n",
       "      <td>Positive</td>\n",
       "      <td>0</td>\n",
       "      <td>1</td>\n",
       "      <td>0</td>\n",
       "    </tr>\n",
       "  </tbody>\n",
       "</table>\n",
       "</div>"
      ],
      "text/plain": [
       "   Review_ID  Rating     Reviewer_Location  \\\n",
       "0  670772142       4             Australia   \n",
       "1  670682799       4           Philippines   \n",
       "2  670623270       4  United Arab Emirates   \n",
       "3  670607911       4             Australia   \n",
       "4  670607296       4        United Kingdom   \n",
       "\n",
       "                                         Review_Text               Branch  \\\n",
       "0  If you've ever been to Disneyland anywhere you...  Disneyland_HongKong   \n",
       "1  Its been a while since d last time we visit HK...  Disneyland_HongKong   \n",
       "2  Thanks God it wasn   t too hot or too humid wh...  Disneyland_HongKong   \n",
       "3  HK Disneyland is a great compact park. Unfortu...  Disneyland_HongKong   \n",
       "4  the location is not in the city, took around 1...  Disneyland_HongKong   \n",
       "\n",
       "   Year Month                                      Review_update  \\\n",
       "0  2019     4  ever disneyland anywhere find disneyland hong ...   \n",
       "1  2019     5  since last time visit hk disneyland yet time s...   \n",
       "2  2019     4  thanks god hot humid visiting park otherwise w...   \n",
       "3  2019     4  hk disneyland great compact park unfortunately...   \n",
       "4  2019     4  location city took around hour kowlon kid like...   \n",
       "\n",
       "  Review_Polarity  Vader_rating Vader_polarity  Disneyland_California  \\\n",
       "0        Positive        0.7889       Positive                      0   \n",
       "1        Positive        0.9860       Positive                      0   \n",
       "2        Positive        0.9864       Positive                      0   \n",
       "3        Positive        0.8739       Positive                      0   \n",
       "4        Positive        0.5106       Positive                      0   \n",
       "\n",
       "   Disneyland_HongKong  Disneyland_Paris  \n",
       "0                    1                 0  \n",
       "1                    1                 0  \n",
       "2                    1                 0  \n",
       "3                    1                 0  \n",
       "4                    1                 0  "
      ]
     },
     "execution_count": 272,
     "metadata": {},
     "output_type": "execute_result"
    }
   ],
   "source": [
    "# I will be creating dummy variables for my Branch variable to see the dummy values for each park \n",
    "parks = pd.get_dummies(Disney_Data['Branch'])\n",
    "Disney_Data = pd.concat([Disney_Data,parks],axis=1)\n",
    "Disney_Data.head()"
   ]
  },
  {
   "cell_type": "markdown",
   "id": "e2b1c313",
   "metadata": {},
   "source": [
    "As seen above we have created three new dummy variables for each park as we see Disneyland_California, Disneyland_HongKong, and Disneyland_Paris. I will use these dummy variables when I build my model. "
   ]
  },
  {
   "cell_type": "markdown",
   "id": "01f5f490",
   "metadata": {},
   "source": [
    "### Conclusion"
   ]
  },
  {
   "cell_type": "markdown",
   "id": "5c31768d",
   "metadata": {},
   "source": [
    "While the preparation of the Disney data revealed that the Year_Month variable had missing values which turned out to be only 6.12% of the values in the variable. It was decided to create two new variables one for year and one for month and dropping the Year_Month variable. Once the variable was deleted the two new variables Year and Month needed the missing values to be filled using “FFill” to bring the number of NAs to zero. Now that the variables are free of missing values the use of data extractions and selections to transform the review_text variable will be applied to clean and prep the reviews from Disney. These extractions consist of punctuation, lowercase, number removal, creating tokens, and the removal of stop words. Being that the Review variable is updated the Rating variable will now be used to show the polarity of the reviews depending on the rating of the review which is one through five. The polarity gives a score of positive, negative, or neutral to show a quick determination of where the review lies. Also, the use of sentiment intensity analysis creates a Vader rating and polarity to give a more in-depth score rating and updating a finer scale for positive, negative, or neutral for the Vader polarity. Last the  use of get_dummies was used to create dummy variables for the three parks to be used in the model."
   ]
  },
  {
   "cell_type": "markdown",
   "id": "d756d0a4",
   "metadata": {},
   "source": [
    "## Model Building and Evaluation"
   ]
  },
  {
   "cell_type": "markdown",
   "id": "34f19a72",
   "metadata": {},
   "source": [
    "In my model building for my Disney Park data, I will be creating several models with one that focuses on the review polarity rating and the updated review. Which will be used for the TFIDF Vectorization, Random Forest Analysis, Decision Tree Analysis, and the creation of a Logistic Regression. As this section goes on you will also see models created for each park with the target variable being the updated reviews. As this also will be used with TFIDF Vectorization on the train and test data, and a logistic regression.  While also the calculation of the model accuracy and a confusion matrix to see which park had the most positive and negative reviews. Along with the calculation of the parks Precision, recall, F1-score, and the ROC curve. As these will all come together to give end users a better understanding and be able to predict for future quarters to come which parks will need improvements and what parks should be doing good. "
   ]
  },
  {
   "cell_type": "markdown",
   "id": "48b8d93b",
   "metadata": {},
   "source": [
    "### Split Disney_Data into training and test sets"
   ]
  },
  {
   "cell_type": "code",
   "execution_count": 273,
   "id": "340c6182",
   "metadata": {},
   "outputs": [
    {
     "data": {
      "text/plain": [
       "Review_ID                  int64\n",
       "Rating                     int64\n",
       "Reviewer_Location         object\n",
       "Review_Text               object\n",
       "Branch                    object\n",
       "Year                      object\n",
       "Month                     object\n",
       "Review_update             object\n",
       "Review_Polarity           object\n",
       "Vader_rating             float64\n",
       "Vader_polarity            object\n",
       "Disneyland_California      uint8\n",
       "Disneyland_HongKong        uint8\n",
       "Disneyland_Paris           uint8\n",
       "dtype: object"
      ]
     },
     "execution_count": 273,
     "metadata": {},
     "output_type": "execute_result"
    }
   ],
   "source": [
    "# First I will look at the column type for each variable\n",
    "Disney_Data.dtypes"
   ]
  },
  {
   "cell_type": "code",
   "execution_count": 275,
   "id": "7f41cd9d",
   "metadata": {},
   "outputs": [],
   "source": [
    "# I will now use LabelEncoder on my 'Review_Polarity','Vader_polarity'\n",
    "encode_label = LabelEncoder()\n",
    "\n",
    "for i in ['Review_Polarity','Vader_polarity']:\n",
    "    Disney_Data[i] = encode_label.fit_transform(Disney_Data[i])"
   ]
  },
  {
   "cell_type": "code",
   "execution_count": 276,
   "id": "c6188682",
   "metadata": {},
   "outputs": [
    {
     "data": {
      "text/html": [
       "<div>\n",
       "<style scoped>\n",
       "    .dataframe tbody tr th:only-of-type {\n",
       "        vertical-align: middle;\n",
       "    }\n",
       "\n",
       "    .dataframe tbody tr th {\n",
       "        vertical-align: top;\n",
       "    }\n",
       "\n",
       "    .dataframe thead th {\n",
       "        text-align: right;\n",
       "    }\n",
       "</style>\n",
       "<table border=\"1\" class=\"dataframe\">\n",
       "  <thead>\n",
       "    <tr style=\"text-align: right;\">\n",
       "      <th></th>\n",
       "      <th>Review_ID</th>\n",
       "      <th>Rating</th>\n",
       "      <th>Reviewer_Location</th>\n",
       "      <th>Review_Text</th>\n",
       "      <th>Branch</th>\n",
       "      <th>Year</th>\n",
       "      <th>Month</th>\n",
       "      <th>Review_update</th>\n",
       "      <th>Review_Polarity</th>\n",
       "      <th>Vader_rating</th>\n",
       "      <th>Vader_polarity</th>\n",
       "      <th>Disneyland_California</th>\n",
       "      <th>Disneyland_HongKong</th>\n",
       "      <th>Disneyland_Paris</th>\n",
       "    </tr>\n",
       "  </thead>\n",
       "  <tbody>\n",
       "    <tr>\n",
       "      <th>0</th>\n",
       "      <td>670772142</td>\n",
       "      <td>4</td>\n",
       "      <td>Australia</td>\n",
       "      <td>If you've ever been to Disneyland anywhere you...</td>\n",
       "      <td>Disneyland_HongKong</td>\n",
       "      <td>2019</td>\n",
       "      <td>4</td>\n",
       "      <td>ever disneyland anywhere find disneyland hong ...</td>\n",
       "      <td>2</td>\n",
       "      <td>0.7889</td>\n",
       "      <td>2</td>\n",
       "      <td>0</td>\n",
       "      <td>1</td>\n",
       "      <td>0</td>\n",
       "    </tr>\n",
       "    <tr>\n",
       "      <th>1</th>\n",
       "      <td>670682799</td>\n",
       "      <td>4</td>\n",
       "      <td>Philippines</td>\n",
       "      <td>Its been a while since d last time we visit HK...</td>\n",
       "      <td>Disneyland_HongKong</td>\n",
       "      <td>2019</td>\n",
       "      <td>5</td>\n",
       "      <td>since last time visit hk disneyland yet time s...</td>\n",
       "      <td>2</td>\n",
       "      <td>0.9860</td>\n",
       "      <td>2</td>\n",
       "      <td>0</td>\n",
       "      <td>1</td>\n",
       "      <td>0</td>\n",
       "    </tr>\n",
       "    <tr>\n",
       "      <th>2</th>\n",
       "      <td>670623270</td>\n",
       "      <td>4</td>\n",
       "      <td>United Arab Emirates</td>\n",
       "      <td>Thanks God it wasn   t too hot or too humid wh...</td>\n",
       "      <td>Disneyland_HongKong</td>\n",
       "      <td>2019</td>\n",
       "      <td>4</td>\n",
       "      <td>thanks god hot humid visiting park otherwise w...</td>\n",
       "      <td>2</td>\n",
       "      <td>0.9864</td>\n",
       "      <td>2</td>\n",
       "      <td>0</td>\n",
       "      <td>1</td>\n",
       "      <td>0</td>\n",
       "    </tr>\n",
       "    <tr>\n",
       "      <th>3</th>\n",
       "      <td>670607911</td>\n",
       "      <td>4</td>\n",
       "      <td>Australia</td>\n",
       "      <td>HK Disneyland is a great compact park. Unfortu...</td>\n",
       "      <td>Disneyland_HongKong</td>\n",
       "      <td>2019</td>\n",
       "      <td>4</td>\n",
       "      <td>hk disneyland great compact park unfortunately...</td>\n",
       "      <td>2</td>\n",
       "      <td>0.8739</td>\n",
       "      <td>2</td>\n",
       "      <td>0</td>\n",
       "      <td>1</td>\n",
       "      <td>0</td>\n",
       "    </tr>\n",
       "    <tr>\n",
       "      <th>4</th>\n",
       "      <td>670607296</td>\n",
       "      <td>4</td>\n",
       "      <td>United Kingdom</td>\n",
       "      <td>the location is not in the city, took around 1...</td>\n",
       "      <td>Disneyland_HongKong</td>\n",
       "      <td>2019</td>\n",
       "      <td>4</td>\n",
       "      <td>location city took around hour kowlon kid like...</td>\n",
       "      <td>2</td>\n",
       "      <td>0.5106</td>\n",
       "      <td>2</td>\n",
       "      <td>0</td>\n",
       "      <td>1</td>\n",
       "      <td>0</td>\n",
       "    </tr>\n",
       "  </tbody>\n",
       "</table>\n",
       "</div>"
      ],
      "text/plain": [
       "   Review_ID  Rating     Reviewer_Location  \\\n",
       "0  670772142       4             Australia   \n",
       "1  670682799       4           Philippines   \n",
       "2  670623270       4  United Arab Emirates   \n",
       "3  670607911       4             Australia   \n",
       "4  670607296       4        United Kingdom   \n",
       "\n",
       "                                         Review_Text               Branch  \\\n",
       "0  If you've ever been to Disneyland anywhere you...  Disneyland_HongKong   \n",
       "1  Its been a while since d last time we visit HK...  Disneyland_HongKong   \n",
       "2  Thanks God it wasn   t too hot or too humid wh...  Disneyland_HongKong   \n",
       "3  HK Disneyland is a great compact park. Unfortu...  Disneyland_HongKong   \n",
       "4  the location is not in the city, took around 1...  Disneyland_HongKong   \n",
       "\n",
       "   Year Month                                      Review_update  \\\n",
       "0  2019     4  ever disneyland anywhere find disneyland hong ...   \n",
       "1  2019     5  since last time visit hk disneyland yet time s...   \n",
       "2  2019     4  thanks god hot humid visiting park otherwise w...   \n",
       "3  2019     4  hk disneyland great compact park unfortunately...   \n",
       "4  2019     4  location city took around hour kowlon kid like...   \n",
       "\n",
       "   Review_Polarity  Vader_rating  Vader_polarity  Disneyland_California  \\\n",
       "0                2        0.7889               2                      0   \n",
       "1                2        0.9860               2                      0   \n",
       "2                2        0.9864               2                      0   \n",
       "3                2        0.8739               2                      0   \n",
       "4                2        0.5106               2                      0   \n",
       "\n",
       "   Disneyland_HongKong  Disneyland_Paris  \n",
       "0                    1                 0  \n",
       "1                    1                 0  \n",
       "2                    1                 0  \n",
       "3                    1                 0  \n",
       "4                    1                 0  "
      ]
     },
     "execution_count": 276,
     "metadata": {},
     "output_type": "execute_result"
    }
   ],
   "source": [
    "# Next I will view my changes\n",
    "Disney_Data.head()"
   ]
  },
  {
   "cell_type": "code",
   "execution_count": 277,
   "id": "126da765",
   "metadata": {},
   "outputs": [
    {
     "data": {
      "text/plain": [
       "Review_ID                  int64\n",
       "Rating                     int64\n",
       "Reviewer_Location         object\n",
       "Review_Text               object\n",
       "Branch                    object\n",
       "Year                      object\n",
       "Month                     object\n",
       "Review_update             object\n",
       "Review_Polarity            int64\n",
       "Vader_rating             float64\n",
       "Vader_polarity             int64\n",
       "Disneyland_California      uint8\n",
       "Disneyland_HongKong        uint8\n",
       "Disneyland_Paris           uint8\n",
       "dtype: object"
      ]
     },
     "execution_count": 277,
     "metadata": {},
     "output_type": "execute_result"
    }
   ],
   "source": [
    "Disney_Data.dtypes"
   ]
  },
  {
   "cell_type": "code",
   "execution_count": 344,
   "id": "500df170",
   "metadata": {},
   "outputs": [],
   "source": [
    "# Now I will separate the Target which is the Review_update\n",
    "# and the Predictor Variables which is Review_Polarity\n",
    "Target = ['Review_update']\n",
    "Predict= ['Review_Polarity']\n",
    "\n",
    "X=Disney_Data[Target].values\n",
    "Y=Disney_Data[Predict].values\n",
    "\n",
    "# Next I will split my data into a training and test sets\n",
    "x_train, x_test, y_train, y_test = train_test_split(X,Y, stratify=Y, test_size=.2, random_state=0)"
   ]
  },
  {
   "cell_type": "code",
   "execution_count": 345,
   "id": "807c7d84",
   "metadata": {},
   "outputs": [
    {
     "name": "stdout",
     "output_type": "stream",
     "text": [
      "(34108, 1)\n",
      "(8528, 1)\n"
     ]
    }
   ],
   "source": [
    "# Next I will view the shape for my training and test sets\n",
    "print(x_train.shape)\n",
    "print(x_test.shape)"
   ]
  },
  {
   "cell_type": "code",
   "execution_count": 346,
   "id": "9f3e6a9b",
   "metadata": {},
   "outputs": [
    {
     "name": "stdout",
     "output_type": "stream",
     "text": [
      "(34108, 1)\n",
      "(8528, 1)\n"
     ]
    }
   ],
   "source": [
    "# I will now check my test and training sets for my target review_update variable\n",
    "print(y_train.shape)\n",
    "print(y_test.shape)"
   ]
  },
  {
   "cell_type": "code",
   "execution_count": 347,
   "id": "d836c5fe",
   "metadata": {},
   "outputs": [
    {
     "data": {
      "text/plain": [
       "(array([0, 1, 2]), array([ 2901,  4084, 27123]))"
      ]
     },
     "execution_count": 347,
     "metadata": {},
     "output_type": "execute_result"
    }
   ],
   "source": [
    "np.unique(y_train, return_counts=True)"
   ]
  },
  {
   "cell_type": "markdown",
   "id": "b8264ec2",
   "metadata": {},
   "source": [
    "### TFIDF Vectorization to the training set data"
   ]
  },
  {
   "cell_type": "code",
   "execution_count": 356,
   "id": "dd74cf5c",
   "metadata": {},
   "outputs": [],
   "source": [
    "# Next I will create the TfidfVectorizer feature wih the x_train\n",
    "tfidfs = TfidfVectorizer()\n",
    "x_train_vector = tfidfs.fit_transform(x_train.ravel())"
   ]
  },
  {
   "cell_type": "code",
   "execution_count": 357,
   "id": "e8b33ff5",
   "metadata": {},
   "outputs": [
    {
     "data": {
      "text/plain": [
       "(34108, 33189)"
      ]
     },
     "execution_count": 357,
     "metadata": {},
     "output_type": "execute_result"
    }
   ],
   "source": [
    "# I will now pull the shape of my train\n",
    "x_train_vector.shape"
   ]
  },
  {
   "cell_type": "code",
   "execution_count": 359,
   "id": "648fc3c7",
   "metadata": {},
   "outputs": [
    {
     "data": {
      "text/plain": [
       "<34108x33189 sparse matrix of type '<class 'numpy.float64'>'\n",
       "\twith 1774397 stored elements in Compressed Sparse Row format>"
      ]
     },
     "execution_count": 359,
     "metadata": {},
     "output_type": "execute_result"
    }
   ],
   "source": [
    "# Next I will view my TfidfVectorizer feature for the x_train\n",
    "x_train_vector"
   ]
  },
  {
   "cell_type": "markdown",
   "id": "097c9d6c",
   "metadata": {},
   "source": [
    "As seen above the vector shows (34108, 33189) for x_train with 1774397 stored elements that are in a sparse row format."
   ]
  },
  {
   "cell_type": "markdown",
   "id": "a2b9b17c",
   "metadata": {},
   "source": [
    "## Random Forest Analysis"
   ]
  },
  {
   "cell_type": "code",
   "execution_count": 374,
   "id": "750da43e",
   "metadata": {},
   "outputs": [
    {
     "name": "stdout",
     "output_type": "stream",
     "text": [
      "0.998768617333177\n"
     ]
    }
   ],
   "source": [
    "# I will use RandomForestClassifier on the train set to see the accuracy of \n",
    "# the Review_Polarity for the Review_update text data\n",
    "forest = RandomForestClassifier(max_depth = 250, random_state = 75)\n",
    "forest.fit(x_train_vector, y_train.ravel())\n",
    "print(forest.score(x_train_vector, y_train.ravel()))"
   ]
  },
  {
   "cell_type": "markdown",
   "id": "5a7e56e9",
   "metadata": {},
   "source": [
    "As seen above the accuracy of the training sets is 99.87% which is very high but I will now check my decision tree and see the accuracy of the train sets"
   ]
  },
  {
   "cell_type": "markdown",
   "id": "2fa12cbd",
   "metadata": {},
   "source": [
    "### Decision Tree Analysis"
   ]
  },
  {
   "cell_type": "code",
   "execution_count": 375,
   "id": "158aca8c",
   "metadata": {},
   "outputs": [
    {
     "name": "stdout",
     "output_type": "stream",
     "text": [
      "0.9951331066025566\n"
     ]
    }
   ],
   "source": [
    "# I will use DecisionTreeClassifier on the train set to see the accuracy of \n",
    "# the Review_Polarity for the Review_update text data\n",
    "tree = DecisionTreeClassifier(max_depth = 250, random_state = 75)\n",
    "tree.fit(x_train_vector, y_train.ravel())\n",
    "print(tree.score(x_train_vector, y_train.ravel()))"
   ]
  },
  {
   "cell_type": "markdown",
   "id": "2f719eb2",
   "metadata": {},
   "source": [
    "As seen above we see that the accuracy of the DecisionTreeClassifier for the train set is a little less accurate as it is 99.51%"
   ]
  },
  {
   "cell_type": "code",
   "execution_count": 348,
   "id": "83e8beca",
   "metadata": {},
   "outputs": [],
   "source": [
    "from sklearn.feature_extraction.text import TfidfVectorizer\n",
    "from sklearn.svm import LinearSVC\n",
    "from sklearn.pipeline import Pipeline\n",
    "\n",
    "text_clf = Pipeline([('tfidf',TfidfVectorizer(x_train)),('clf',LinearSVC(x_train))])"
   ]
  },
  {
   "cell_type": "markdown",
   "id": "53e96189",
   "metadata": {},
   "source": [
    "As seen above the shape of my X and Y train and test sets have 34,108 rows and three variables for my disney parks and one for my review_update text variable."
   ]
  },
  {
   "cell_type": "markdown",
   "id": "978b80e1",
   "metadata": {},
   "source": [
    "### Create a logistic regression with the train data"
   ]
  },
  {
   "cell_type": "code",
   "execution_count": 384,
   "id": "c49e5f06",
   "metadata": {},
   "outputs": [],
   "source": [
    "# Initialize a logistic regression model \n",
    "logistic = LogisticRegression()\n",
    "# Train the model\n",
    "logistic = logistic.fit(x_train_vector, y_train)"
   ]
  },
  {
   "cell_type": "code",
   "execution_count": 385,
   "id": "a0d2e502",
   "metadata": {},
   "outputs": [
    {
     "name": "stdout",
     "output_type": "stream",
     "text": [
      "0.8875630350650874\n"
     ]
    }
   ],
   "source": [
    "# Next I will print the score of the model\n",
    "print(logistic.score(x_train_vector, y_train))"
   ]
  },
  {
   "cell_type": "markdown",
   "id": "40daf4e1",
   "metadata": {},
   "source": [
    "As seen above the LogisticRegression has an accuracy of 88.75% on the train data sets which is way less than what was seen with the Decision Tree Analysis and the Random Forest Analysis"
   ]
  },
  {
   "cell_type": "markdown",
   "id": "3ec1dc69",
   "metadata": {},
   "source": [
    "### Split Disney_Data into training and test sets for Disneyland California"
   ]
  },
  {
   "cell_type": "code",
   "execution_count": 433,
   "id": "ac7dd157",
   "metadata": {},
   "outputs": [],
   "source": [
    "# Now I will separate the Target and Predictor Variables\n",
    "Target = ['Review_update']\n",
    "Predict= ['Disneyland_California']\n",
    "\n",
    "X=Disney_Data[Target].values\n",
    "Y=Disney_Data[Predict].values\n",
    "\n",
    "# Next I will split my data into a training and test sets\n",
    "x_train, x_test, y_train, y_test = train_test_split(X,Y, stratify=Y, test_size=.2, random_state=0)"
   ]
  },
  {
   "cell_type": "code",
   "execution_count": 434,
   "id": "cd3e49d5",
   "metadata": {},
   "outputs": [
    {
     "name": "stdout",
     "output_type": "stream",
     "text": [
      "(34108, 1)\n",
      "(8528, 1)\n"
     ]
    }
   ],
   "source": [
    "# Next I will view the shape for my training and test sets\n",
    "print(x_train.shape)\n",
    "print(x_test.shape)"
   ]
  },
  {
   "cell_type": "code",
   "execution_count": 435,
   "id": "1fa3d2c6",
   "metadata": {},
   "outputs": [
    {
     "name": "stdout",
     "output_type": "stream",
     "text": [
      "(34108, 1)\n",
      "(8528, 1)\n"
     ]
    }
   ],
   "source": [
    "# I will now check my test and training sets for my target review_update variable\n",
    "print(y_train.shape)\n",
    "print(y_test.shape)"
   ]
  },
  {
   "cell_type": "markdown",
   "id": "46cccdf6",
   "metadata": {},
   "source": [
    "### TFIDF Vectorization to the training set data for Disneyland California"
   ]
  },
  {
   "cell_type": "code",
   "execution_count": 436,
   "id": "cf35f165",
   "metadata": {},
   "outputs": [],
   "source": [
    "# First I will now use LabelEncoder on my 'Reviewer_Location','Year' variables\n",
    "encode_label = LabelEncoder()\n",
    "\n",
    "for i in ['Reviewer_Location','Year']:\n",
    "    Disney_Data[i] = encode_label.fit_transform(Disney_Data[i])"
   ]
  },
  {
   "cell_type": "code",
   "execution_count": 437,
   "id": "292be9d4",
   "metadata": {},
   "outputs": [
    {
     "data": {
      "text/html": [
       "<div>\n",
       "<style scoped>\n",
       "    .dataframe tbody tr th:only-of-type {\n",
       "        vertical-align: middle;\n",
       "    }\n",
       "\n",
       "    .dataframe tbody tr th {\n",
       "        vertical-align: top;\n",
       "    }\n",
       "\n",
       "    .dataframe thead th {\n",
       "        text-align: right;\n",
       "    }\n",
       "</style>\n",
       "<table border=\"1\" class=\"dataframe\">\n",
       "  <thead>\n",
       "    <tr style=\"text-align: right;\">\n",
       "      <th></th>\n",
       "      <th>Review_ID</th>\n",
       "      <th>Rating</th>\n",
       "      <th>Reviewer_Location</th>\n",
       "      <th>Review_Text</th>\n",
       "      <th>Branch</th>\n",
       "      <th>Year</th>\n",
       "      <th>Month</th>\n",
       "      <th>Review_update</th>\n",
       "      <th>Review_Polarity</th>\n",
       "      <th>Vader_rating</th>\n",
       "      <th>Vader_polarity</th>\n",
       "      <th>Disneyland_California</th>\n",
       "      <th>Disneyland_HongKong</th>\n",
       "      <th>Disneyland_Paris</th>\n",
       "    </tr>\n",
       "  </thead>\n",
       "  <tbody>\n",
       "    <tr>\n",
       "      <th>0</th>\n",
       "      <td>670772142</td>\n",
       "      <td>4</td>\n",
       "      <td>8</td>\n",
       "      <td>If you've ever been to Disneyland anywhere you...</td>\n",
       "      <td>Disneyland_HongKong</td>\n",
       "      <td>9</td>\n",
       "      <td>4</td>\n",
       "      <td>ever disneyland anywhere find disneyland hong ...</td>\n",
       "      <td>2</td>\n",
       "      <td>0.7889</td>\n",
       "      <td>2</td>\n",
       "      <td>0</td>\n",
       "      <td>1</td>\n",
       "      <td>0</td>\n",
       "    </tr>\n",
       "    <tr>\n",
       "      <th>1</th>\n",
       "      <td>670682799</td>\n",
       "      <td>4</td>\n",
       "      <td>114</td>\n",
       "      <td>Its been a while since d last time we visit HK...</td>\n",
       "      <td>Disneyland_HongKong</td>\n",
       "      <td>9</td>\n",
       "      <td>5</td>\n",
       "      <td>since last time visit hk disneyland yet time s...</td>\n",
       "      <td>2</td>\n",
       "      <td>0.9860</td>\n",
       "      <td>2</td>\n",
       "      <td>0</td>\n",
       "      <td>1</td>\n",
       "      <td>0</td>\n",
       "    </tr>\n",
       "    <tr>\n",
       "      <th>2</th>\n",
       "      <td>670623270</td>\n",
       "      <td>4</td>\n",
       "      <td>151</td>\n",
       "      <td>Thanks God it wasn   t too hot or too humid wh...</td>\n",
       "      <td>Disneyland_HongKong</td>\n",
       "      <td>9</td>\n",
       "      <td>4</td>\n",
       "      <td>thanks god hot humid visiting park otherwise w...</td>\n",
       "      <td>2</td>\n",
       "      <td>0.9864</td>\n",
       "      <td>2</td>\n",
       "      <td>0</td>\n",
       "      <td>1</td>\n",
       "      <td>0</td>\n",
       "    </tr>\n",
       "    <tr>\n",
       "      <th>3</th>\n",
       "      <td>670607911</td>\n",
       "      <td>4</td>\n",
       "      <td>8</td>\n",
       "      <td>HK Disneyland is a great compact park. Unfortu...</td>\n",
       "      <td>Disneyland_HongKong</td>\n",
       "      <td>9</td>\n",
       "      <td>4</td>\n",
       "      <td>hk disneyland great compact park unfortunately...</td>\n",
       "      <td>2</td>\n",
       "      <td>0.8739</td>\n",
       "      <td>2</td>\n",
       "      <td>0</td>\n",
       "      <td>1</td>\n",
       "      <td>0</td>\n",
       "    </tr>\n",
       "    <tr>\n",
       "      <th>4</th>\n",
       "      <td>670607296</td>\n",
       "      <td>4</td>\n",
       "      <td>152</td>\n",
       "      <td>the location is not in the city, took around 1...</td>\n",
       "      <td>Disneyland_HongKong</td>\n",
       "      <td>9</td>\n",
       "      <td>4</td>\n",
       "      <td>location city took around hour kowlon kid like...</td>\n",
       "      <td>2</td>\n",
       "      <td>0.5106</td>\n",
       "      <td>2</td>\n",
       "      <td>0</td>\n",
       "      <td>1</td>\n",
       "      <td>0</td>\n",
       "    </tr>\n",
       "    <tr>\n",
       "      <th>...</th>\n",
       "      <td>...</td>\n",
       "      <td>...</td>\n",
       "      <td>...</td>\n",
       "      <td>...</td>\n",
       "      <td>...</td>\n",
       "      <td>...</td>\n",
       "      <td>...</td>\n",
       "      <td>...</td>\n",
       "      <td>...</td>\n",
       "      <td>...</td>\n",
       "      <td>...</td>\n",
       "      <td>...</td>\n",
       "      <td>...</td>\n",
       "      <td>...</td>\n",
       "    </tr>\n",
       "    <tr>\n",
       "      <th>42651</th>\n",
       "      <td>1765031</td>\n",
       "      <td>5</td>\n",
       "      <td>152</td>\n",
       "      <td>i went to disneyland paris in july 03 and thou...</td>\n",
       "      <td>Disneyland_Paris</td>\n",
       "      <td>0</td>\n",
       "      <td>9</td>\n",
       "      <td>went disneyland paris july thought brilliant v...</td>\n",
       "      <td>2</td>\n",
       "      <td>0.9819</td>\n",
       "      <td>2</td>\n",
       "      <td>0</td>\n",
       "      <td>0</td>\n",
       "      <td>1</td>\n",
       "    </tr>\n",
       "    <tr>\n",
       "      <th>42652</th>\n",
       "      <td>1659553</td>\n",
       "      <td>5</td>\n",
       "      <td>22</td>\n",
       "      <td>2 adults and 1 child of 11 visited Disneyland ...</td>\n",
       "      <td>Disneyland_Paris</td>\n",
       "      <td>0</td>\n",
       "      <td>9</td>\n",
       "      <td>adult child visited disneyland paris beginning...</td>\n",
       "      <td>2</td>\n",
       "      <td>0.9878</td>\n",
       "      <td>2</td>\n",
       "      <td>0</td>\n",
       "      <td>0</td>\n",
       "      <td>1</td>\n",
       "    </tr>\n",
       "    <tr>\n",
       "      <th>42653</th>\n",
       "      <td>1645894</td>\n",
       "      <td>5</td>\n",
       "      <td>130</td>\n",
       "      <td>My eleven year old daughter and myself went to...</td>\n",
       "      <td>Disneyland_Paris</td>\n",
       "      <td>0</td>\n",
       "      <td>9</td>\n",
       "      <td>eleven year old daughter went visit son london...</td>\n",
       "      <td>2</td>\n",
       "      <td>0.8402</td>\n",
       "      <td>2</td>\n",
       "      <td>0</td>\n",
       "      <td>0</td>\n",
       "      <td>1</td>\n",
       "    </tr>\n",
       "    <tr>\n",
       "      <th>42654</th>\n",
       "      <td>1618637</td>\n",
       "      <td>4</td>\n",
       "      <td>153</td>\n",
       "      <td>This hotel, part of the Disneyland Paris compl...</td>\n",
       "      <td>Disneyland_Paris</td>\n",
       "      <td>0</td>\n",
       "      <td>9</td>\n",
       "      <td>hotel part disneyland paris complex wonderful ...</td>\n",
       "      <td>2</td>\n",
       "      <td>0.9517</td>\n",
       "      <td>2</td>\n",
       "      <td>0</td>\n",
       "      <td>0</td>\n",
       "      <td>1</td>\n",
       "    </tr>\n",
       "    <tr>\n",
       "      <th>42655</th>\n",
       "      <td>1536786</td>\n",
       "      <td>4</td>\n",
       "      <td>152</td>\n",
       "      <td>I went to the Disneyparis resort, in 1996, wit...</td>\n",
       "      <td>Disneyland_Paris</td>\n",
       "      <td>0</td>\n",
       "      <td>9</td>\n",
       "      <td>went disneyparis resort small child minute ent...</td>\n",
       "      <td>2</td>\n",
       "      <td>0.9815</td>\n",
       "      <td>2</td>\n",
       "      <td>0</td>\n",
       "      <td>0</td>\n",
       "      <td>1</td>\n",
       "    </tr>\n",
       "  </tbody>\n",
       "</table>\n",
       "<p>42636 rows × 14 columns</p>\n",
       "</div>"
      ],
      "text/plain": [
       "       Review_ID  Rating  Reviewer_Location  \\\n",
       "0      670772142       4                  8   \n",
       "1      670682799       4                114   \n",
       "2      670623270       4                151   \n",
       "3      670607911       4                  8   \n",
       "4      670607296       4                152   \n",
       "...          ...     ...                ...   \n",
       "42651    1765031       5                152   \n",
       "42652    1659553       5                 22   \n",
       "42653    1645894       5                130   \n",
       "42654    1618637       4                153   \n",
       "42655    1536786       4                152   \n",
       "\n",
       "                                             Review_Text               Branch  \\\n",
       "0      If you've ever been to Disneyland anywhere you...  Disneyland_HongKong   \n",
       "1      Its been a while since d last time we visit HK...  Disneyland_HongKong   \n",
       "2      Thanks God it wasn   t too hot or too humid wh...  Disneyland_HongKong   \n",
       "3      HK Disneyland is a great compact park. Unfortu...  Disneyland_HongKong   \n",
       "4      the location is not in the city, took around 1...  Disneyland_HongKong   \n",
       "...                                                  ...                  ...   \n",
       "42651  i went to disneyland paris in july 03 and thou...     Disneyland_Paris   \n",
       "42652  2 adults and 1 child of 11 visited Disneyland ...     Disneyland_Paris   \n",
       "42653  My eleven year old daughter and myself went to...     Disneyland_Paris   \n",
       "42654  This hotel, part of the Disneyland Paris compl...     Disneyland_Paris   \n",
       "42655  I went to the Disneyparis resort, in 1996, wit...     Disneyland_Paris   \n",
       "\n",
       "       Year  Month                                      Review_update  \\\n",
       "0         9      4  ever disneyland anywhere find disneyland hong ...   \n",
       "1         9      5  since last time visit hk disneyland yet time s...   \n",
       "2         9      4  thanks god hot humid visiting park otherwise w...   \n",
       "3         9      4  hk disneyland great compact park unfortunately...   \n",
       "4         9      4  location city took around hour kowlon kid like...   \n",
       "...     ...    ...                                                ...   \n",
       "42651     0      9  went disneyland paris july thought brilliant v...   \n",
       "42652     0      9  adult child visited disneyland paris beginning...   \n",
       "42653     0      9  eleven year old daughter went visit son london...   \n",
       "42654     0      9  hotel part disneyland paris complex wonderful ...   \n",
       "42655     0      9  went disneyparis resort small child minute ent...   \n",
       "\n",
       "       Review_Polarity  Vader_rating  Vader_polarity  Disneyland_California  \\\n",
       "0                    2        0.7889               2                      0   \n",
       "1                    2        0.9860               2                      0   \n",
       "2                    2        0.9864               2                      0   \n",
       "3                    2        0.8739               2                      0   \n",
       "4                    2        0.5106               2                      0   \n",
       "...                ...           ...             ...                    ...   \n",
       "42651                2        0.9819               2                      0   \n",
       "42652                2        0.9878               2                      0   \n",
       "42653                2        0.8402               2                      0   \n",
       "42654                2        0.9517               2                      0   \n",
       "42655                2        0.9815               2                      0   \n",
       "\n",
       "       Disneyland_HongKong  Disneyland_Paris  \n",
       "0                        1                 0  \n",
       "1                        1                 0  \n",
       "2                        1                 0  \n",
       "3                        1                 0  \n",
       "4                        1                 0  \n",
       "...                    ...               ...  \n",
       "42651                    0                 1  \n",
       "42652                    0                 1  \n",
       "42653                    0                 1  \n",
       "42654                    0                 1  \n",
       "42655                    0                 1  \n",
       "\n",
       "[42636 rows x 14 columns]"
      ]
     },
     "execution_count": 437,
     "metadata": {},
     "output_type": "execute_result"
    }
   ],
   "source": [
    "# Next I will convert my month to numeric\n",
    "Disney_Data[\"Month\"] = pd.to_numeric(Disney_Data[\"Month\"])\n",
    "Disney_Data"
   ]
  },
  {
   "cell_type": "code",
   "execution_count": 438,
   "id": "f105c2d0",
   "metadata": {},
   "outputs": [],
   "source": [
    "# Next I will create the TfidfVectorizer feature wih the x_train\n",
    "Park_tfidfs = TfidfVectorizer()\n",
    "Parks_x_train_vector = Park_tfidfs.fit_transform(x_train.ravel())"
   ]
  },
  {
   "cell_type": "code",
   "execution_count": 439,
   "id": "a864a362",
   "metadata": {},
   "outputs": [
    {
     "data": {
      "text/plain": [
       "(34108, 32955)"
      ]
     },
     "execution_count": 439,
     "metadata": {},
     "output_type": "execute_result"
    }
   ],
   "source": [
    "# I will now pull the shape of my train\n",
    "Parks_x_train_vector.shape"
   ]
  },
  {
   "cell_type": "code",
   "execution_count": 440,
   "id": "832f34fd",
   "metadata": {},
   "outputs": [
    {
     "data": {
      "text/plain": [
       "<34108x32955 sparse matrix of type '<class 'numpy.float64'>'\n",
       "\twith 1766054 stored elements in Compressed Sparse Row format>"
      ]
     },
     "execution_count": 440,
     "metadata": {},
     "output_type": "execute_result"
    }
   ],
   "source": [
    "# Next I will view my TfidfVectorizer feature for the x_train\n",
    "Parks_x_train_vector"
   ]
  },
  {
   "cell_type": "markdown",
   "id": "a12d26a8",
   "metadata": {},
   "source": [
    "As seen above the vector shows (34108, 32782) for Parks_x_train_vector with 1770550 stored elements that are in a sparse row format."
   ]
  },
  {
   "cell_type": "code",
   "execution_count": 459,
   "id": "6083deeb",
   "metadata": {},
   "outputs": [
    {
     "name": "stdout",
     "output_type": "stream",
     "text": [
      "n_samples: 34108, n_features: 32955\n"
     ]
    }
   ],
   "source": [
    "# Next I will check the dimensions of the data\n",
    "print(\"n_samples: %d, n_features: %d\" % Parks_x_train_vector.shape)"
   ]
  },
  {
   "cell_type": "code",
   "execution_count": 460,
   "id": "f88a5099",
   "metadata": {},
   "outputs": [
    {
     "data": {
      "text/plain": [
       "array([[0., 0., 0., ..., 0., 0., 0.],\n",
       "       [0., 0., 0., ..., 0., 0., 0.],\n",
       "       [0., 0., 0., ..., 0., 0., 0.],\n",
       "       ...,\n",
       "       [0., 0., 0., ..., 0., 0., 0.],\n",
       "       [0., 0., 0., ..., 0., 0., 0.],\n",
       "       [0., 0., 0., ..., 0., 0., 0.]])"
      ]
     },
     "execution_count": 460,
     "metadata": {},
     "output_type": "execute_result"
    }
   ],
   "source": [
    "# I will use .toarray to view the array\n",
    "Parks_x_train_vector.toarray()"
   ]
  },
  {
   "cell_type": "code",
   "execution_count": 441,
   "id": "c8cfe7a6",
   "metadata": {},
   "outputs": [
    {
     "data": {
      "text/plain": [
       "<34108x32817 sparse matrix of type '<class 'numpy.float64'>'\n",
       "\twith 1735188 stored elements in Compressed Sparse Row format>"
      ]
     },
     "execution_count": 441,
     "metadata": {},
     "output_type": "execute_result"
    }
   ],
   "source": [
    "stop_words = stopwords.words('english')\n",
    "\n",
    "vect = TfidfVectorizer(stop_words=stop_words).fit(x_train.ravel())\n",
    "X_train_vectorized = vect.transform(x_train.ravel())\n",
    "\n",
    "X_train_vectorized"
   ]
  },
  {
   "cell_type": "markdown",
   "id": "6b878882",
   "metadata": {},
   "source": [
    "# FIT TFIDF Vectorization to Test Set for Disneyland California"
   ]
  },
  {
   "cell_type": "code",
   "execution_count": 461,
   "id": "f7fa6288",
   "metadata": {},
   "outputs": [],
   "source": [
    "# Next I will apply the the transform to the test data set\n",
    "x_test_vector = Park_tfidfs.transform(x_test.ravel())"
   ]
  },
  {
   "cell_type": "code",
   "execution_count": 462,
   "id": "1cbba355",
   "metadata": {},
   "outputs": [
    {
     "data": {
      "text/plain": [
       "array([[0., 0., 0., ..., 0., 0., 0.],\n",
       "       [0., 0., 0., ..., 0., 0., 0.],\n",
       "       [0., 0., 0., ..., 0., 0., 0.],\n",
       "       ...,\n",
       "       [0., 0., 0., ..., 0., 0., 0.],\n",
       "       [0., 0., 0., ..., 0., 0., 0.],\n",
       "       [0., 0., 0., ..., 0., 0., 0.]])"
      ]
     },
     "execution_count": 462,
     "metadata": {},
     "output_type": "execute_result"
    }
   ],
   "source": [
    "# Next I will use .toarray to see the array \n",
    "x_test_vector.toarray()"
   ]
  },
  {
   "cell_type": "code",
   "execution_count": 463,
   "id": "5d5f6045",
   "metadata": {},
   "outputs": [
    {
     "data": {
      "text/plain": [
       "(8528, 32955)"
      ]
     },
     "execution_count": 463,
     "metadata": {},
     "output_type": "execute_result"
    }
   ],
   "source": [
    "# Next I will view the shape of my x_test_vector\n",
    "x_test_vector.shape"
   ]
  },
  {
   "cell_type": "markdown",
   "id": "004b94a9",
   "metadata": {},
   "source": [
    "## Train a logistic regression using the training data for Disneyland California"
   ]
  },
  {
   "cell_type": "code",
   "execution_count": 464,
   "id": "03611a7f",
   "metadata": {},
   "outputs": [],
   "source": [
    "from sklearn.linear_model import LogisticRegression\n",
    "# Initialize a logistic regression model \n",
    "logistic = LogisticRegression()\n",
    "# Train the model\n",
    "logistic = logistic.fit(Parks_x_train_vector, y_train)"
   ]
  },
  {
   "cell_type": "code",
   "execution_count": 465,
   "id": "f0fc1507",
   "metadata": {},
   "outputs": [
    {
     "name": "stdout",
     "output_type": "stream",
     "text": [
      "0.9193737539580157\n"
     ]
    }
   ],
   "source": [
    "# Next I will print the score of the model\n",
    "print(logistic.score(Parks_x_train_vector, y_train))"
   ]
  },
  {
   "cell_type": "markdown",
   "id": "cf0072c5",
   "metadata": {},
   "source": [
    "As seen above the logistic sore for the taining data for Disneyland California has a high score of 91.93%"
   ]
  },
  {
   "cell_type": "markdown",
   "id": "363375fa",
   "metadata": {},
   "source": [
    "## Model accuracy on test set for Disneyland California"
   ]
  },
  {
   "cell_type": "code",
   "execution_count": 466,
   "id": "7639041e",
   "metadata": {},
   "outputs": [
    {
     "name": "stdout",
     "output_type": "stream",
     "text": [
      "Accuracy: 0.8959896810506567\n"
     ]
    }
   ],
   "source": [
    "from sklearn import metrics\n",
    "# I will use logistic to predict the x_test_vector \n",
    "yhat = logistic.predict(x_test_vector)\n",
    "# Then I will use metrics to find the accuracy_score for the y_test and yhat\n",
    "print(\"Accuracy:\",metrics.accuracy_score(y_test, yhat))"
   ]
  },
  {
   "cell_type": "markdown",
   "id": "4e157dca",
   "metadata": {},
   "source": [
    "As seen above we can see that the accuracy of the logistic prediction for Disneyland California is 89.59%"
   ]
  },
  {
   "cell_type": "markdown",
   "id": "c9d5fa47",
   "metadata": {},
   "source": [
    "## Confusion matrix for the test set predictions for Disneyland California"
   ]
  },
  {
   "cell_type": "code",
   "execution_count": 467,
   "id": "cad94d5b",
   "metadata": {},
   "outputs": [
    {
     "name": "stdout",
     "output_type": "stream",
     "text": [
      "[[4238  410]\n",
      " [ 477 3403]]\n"
     ]
    }
   ],
   "source": [
    "from sklearn.metrics import confusion_matrix\n",
    "Confusion_matrix = confusion_matrix(y_test, yhat)\n",
    "print(Confusion_matrix)"
   ]
  },
  {
   "cell_type": "markdown",
   "id": "d9858535",
   "metadata": {},
   "source": [
    "As seen above the confusion matrix for Disneyland California has 4238 negative reviews and 410 for the true class and 3403 negative and 477 positive review for predicted."
   ]
  },
  {
   "cell_type": "markdown",
   "id": "5abac37b",
   "metadata": {},
   "source": [
    "## Precision, recall, and F1-score for the test set predictions for Disneyland California"
   ]
  },
  {
   "cell_type": "code",
   "execution_count": 468,
   "id": "906f359b",
   "metadata": {},
   "outputs": [
    {
     "name": "stdout",
     "output_type": "stream",
     "text": [
      "              precision    recall  f1-score   support\n",
      "\n",
      "           0       0.90      0.91      0.91      4648\n",
      "           1       0.89      0.88      0.88      3880\n",
      "\n",
      "    accuracy                           0.90      8528\n",
      "   macro avg       0.90      0.89      0.89      8528\n",
      "weighted avg       0.90      0.90      0.90      8528\n",
      "\n"
     ]
    }
   ],
   "source": [
    "# I will import classification_report and use my yhat to pull the \n",
    "# classification_report with the y_test\n",
    "from sklearn.metrics import classification_report\n",
    "print(classification_report(y_test, yhat))"
   ]
  },
  {
   "cell_type": "markdown",
   "id": "d2189196",
   "metadata": {},
   "source": [
    "As seen above we can see the accuracy, macro avg, and weighted avg for the precision, recall, f1-score, support for 0 and 1. As we see 0 has the highest recall and f1-score at 0.91 and 1 had the highest at 0.89 for precision."
   ]
  },
  {
   "cell_type": "markdown",
   "id": "5d4e23e4",
   "metadata": {},
   "source": [
    "## ROC curve for the test set for Disneyland California"
   ]
  },
  {
   "cell_type": "code",
   "execution_count": 469,
   "id": "4be2a972",
   "metadata": {},
   "outputs": [
    {
     "data": {
      "image/png": "[encoded data removed]",
      "text/plain": [
       "<Figure size 432x288 with 1 Axes>"
      ]
     },
     "metadata": {
      "needs_background": "light"
     },
     "output_type": "display_data"
    }
   ],
   "source": [
    "# I will import matplotlib.pyplot and set my fpr, tpr, _ equal to the metrics.roc_curve\n",
    "# for the y_test, yhat probability \n",
    "import matplotlib.pyplot as plt\n",
    "fpr, tpr, _ = metrics.roc_curve(y_test, yhat)\n",
    "auc = metrics.roc_auc_score(y_test, yhat)\n",
    "plt.plot(fpr,tpr,label=\"data 1, auc=\"+str(auc))\n",
    "plt.legend(loc=4)\n",
    "plt.show()"
   ]
  },
  {
   "cell_type": "markdown",
   "id": "50a1f8d5",
   "metadata": {},
   "source": [
    "As seen above we see that the accuracy of the ROC curve for Disneyland California has a accuracy curve at 89.44%"
   ]
  },
  {
   "cell_type": "markdown",
   "id": "d5df843a",
   "metadata": {},
   "source": [
    "## Split Disney_Data into training and test sets for Disneyland_HongKong"
   ]
  },
  {
   "cell_type": "code",
   "execution_count": 470,
   "id": "a64599a8",
   "metadata": {},
   "outputs": [],
   "source": [
    "# Now I will separate the Target and Predictor Variables\n",
    "Target = ['Review_update']\n",
    "Predict= ['Disneyland_HongKong']\n",
    "\n",
    "X=Disney_Data[Target].values\n",
    "Y=Disney_Data[Predict].values\n",
    "\n",
    "# Next I will split my data into a training and test sets\n",
    "x_train, x_test, y_train, y_test = train_test_split(X,Y, stratify=Y, test_size=.2, random_state=0)"
   ]
  },
  {
   "cell_type": "code",
   "execution_count": 472,
   "id": "853c9818",
   "metadata": {},
   "outputs": [
    {
     "name": "stdout",
     "output_type": "stream",
     "text": [
      "(34108, 1)\n",
      "(8528, 1)\n",
      "(34108, 1)\n",
      "(8528, 1)\n"
     ]
    }
   ],
   "source": [
    "# Next I will view the shape for my training and test sets\n",
    "# and check my test and training sets for my target review_update variable\n",
    "print(x_train.shape)\n",
    "print(x_test.shape)\n",
    "print(y_train.shape)\n",
    "print(y_test.shape)"
   ]
  },
  {
   "cell_type": "markdown",
   "id": "ec56bcb9",
   "metadata": {},
   "source": [
    "## TFIDF Vectorization to the training set data for Disneyland HongKong"
   ]
  },
  {
   "cell_type": "code",
   "execution_count": 473,
   "id": "8de4487e",
   "metadata": {},
   "outputs": [],
   "source": [
    "# Next I will create the TfidfVectorizer feature wih the x_train\n",
    "Hong_Park_tfidfs = TfidfVectorizer()\n",
    "Hong_x_train_vector = Hong_Park_tfidfs.fit_transform(x_train.ravel())"
   ]
  },
  {
   "cell_type": "code",
   "execution_count": 474,
   "id": "17a3fa2c",
   "metadata": {},
   "outputs": [
    {
     "data": {
      "text/plain": [
       "(34108, 32862)"
      ]
     },
     "execution_count": 474,
     "metadata": {},
     "output_type": "execute_result"
    }
   ],
   "source": [
    "# I will now pull the shape of my train\n",
    "Hong_x_train_vector.shape"
   ]
  },
  {
   "cell_type": "code",
   "execution_count": 476,
   "id": "e48405b2",
   "metadata": {},
   "outputs": [
    {
     "data": {
      "text/plain": [
       "<34108x32862 sparse matrix of type '<class 'numpy.float64'>'\n",
       "\twith 1761854 stored elements in Compressed Sparse Row format>"
      ]
     },
     "execution_count": 476,
     "metadata": {},
     "output_type": "execute_result"
    }
   ],
   "source": [
    "# Next I will view my TfidfVectorizer feature for the x_train\n",
    "Hong_x_train_vector"
   ]
  },
  {
   "cell_type": "code",
   "execution_count": 477,
   "id": "7a5797c7",
   "metadata": {},
   "outputs": [
    {
     "name": "stdout",
     "output_type": "stream",
     "text": [
      "n_samples: 34108, n_features: 32862\n"
     ]
    }
   ],
   "source": [
    "# Next I will check the dimensions of the data\n",
    "print(\"n_samples: %d, n_features: %d\" % Hong_x_train_vector.shape)"
   ]
  },
  {
   "cell_type": "code",
   "execution_count": 478,
   "id": "7662e77e",
   "metadata": {},
   "outputs": [
    {
     "data": {
      "text/plain": [
       "array([[0., 0., 0., ..., 0., 0., 0.],\n",
       "       [0., 0., 0., ..., 0., 0., 0.],\n",
       "       [0., 0., 0., ..., 0., 0., 0.],\n",
       "       ...,\n",
       "       [0., 0., 0., ..., 0., 0., 0.],\n",
       "       [0., 0., 0., ..., 0., 0., 0.],\n",
       "       [0., 0., 0., ..., 0., 0., 0.]])"
      ]
     },
     "execution_count": 478,
     "metadata": {},
     "output_type": "execute_result"
    }
   ],
   "source": [
    "# I will use .toarray to view the array\n",
    "Hong_x_train_vector.toarray()"
   ]
  },
  {
   "cell_type": "markdown",
   "id": "89aaf050",
   "metadata": {},
   "source": [
    "## FIT TFIDF Vectorization to Test Set for Disneyland HongKong"
   ]
  },
  {
   "cell_type": "code",
   "execution_count": 479,
   "id": "b7588f0a",
   "metadata": {},
   "outputs": [],
   "source": [
    "# Next I will apply the the transform to the test data set\n",
    "x_Hong_vector = Hong_Park_tfidfs.transform(x_test.ravel())"
   ]
  },
  {
   "cell_type": "code",
   "execution_count": 480,
   "id": "d8a2774d",
   "metadata": {},
   "outputs": [
    {
     "data": {
      "text/plain": [
       "array([[0., 0., 0., ..., 0., 0., 0.],\n",
       "       [0., 0., 0., ..., 0., 0., 0.],\n",
       "       [0., 0., 0., ..., 0., 0., 0.],\n",
       "       ...,\n",
       "       [0., 0., 0., ..., 0., 0., 0.],\n",
       "       [0., 0., 0., ..., 0., 0., 0.],\n",
       "       [0., 0., 0., ..., 0., 0., 0.]])"
      ]
     },
     "execution_count": 480,
     "metadata": {},
     "output_type": "execute_result"
    }
   ],
   "source": [
    "# Next I will use .toarray to see the array \n",
    "x_Hong_vector.toarray()"
   ]
  },
  {
   "cell_type": "code",
   "execution_count": 481,
   "id": "1c343434",
   "metadata": {},
   "outputs": [
    {
     "data": {
      "text/plain": [
       "(8528, 32862)"
      ]
     },
     "execution_count": 481,
     "metadata": {},
     "output_type": "execute_result"
    }
   ],
   "source": [
    "# Next I will view the shape of my x_test_vector\n",
    "x_Hong_vector.shape"
   ]
  },
  {
   "cell_type": "markdown",
   "id": "facc7dab",
   "metadata": {},
   "source": [
    "## Train a logistic regression using the training data for Disneyland HongKong"
   ]
  },
  {
   "cell_type": "code",
   "execution_count": 482,
   "id": "e1ca44cb",
   "metadata": {},
   "outputs": [],
   "source": [
    "from sklearn.linear_model import LogisticRegression\n",
    "# Initialize a logistic regression model \n",
    "logistic_hong = LogisticRegression()\n",
    "# Train the model\n",
    "logistic_hong = logistic.fit(Hong_x_train_vector, y_train)"
   ]
  },
  {
   "cell_type": "code",
   "execution_count": 483,
   "id": "fe643476",
   "metadata": {},
   "outputs": [
    {
     "name": "stdout",
     "output_type": "stream",
     "text": [
      "0.937668582150815\n"
     ]
    }
   ],
   "source": [
    "# Next I will print the score of the model\n",
    "print(logistic_hong.score(Hong_x_train_vector, y_train))"
   ]
  },
  {
   "cell_type": "markdown",
   "id": "c82abcff",
   "metadata": {},
   "source": [
    "As seen above the logistic sore for the taining data for Disneyland Hong Kong has a high score of 93.76%"
   ]
  },
  {
   "cell_type": "markdown",
   "id": "4ac78bcb",
   "metadata": {},
   "source": [
    "## Model accuracy on test set for Disneyland HongKong"
   ]
  },
  {
   "cell_type": "code",
   "execution_count": 505,
   "id": "872f49f9",
   "metadata": {},
   "outputs": [
    {
     "ename": "ValueError",
     "evalue": "X has 32862 features per sample; expecting 32817",
     "output_type": "error",
     "traceback": [
      "\u001b[0;31m---------------------------------------------------------------------------\u001b[0m",
      "\u001b[0;31mValueError\u001b[0m                                Traceback (most recent call last)",
      "\u001b[0;32m<ipython-input-505-bc457953f5a6>\u001b[0m in \u001b[0;36m<module>\u001b[0;34m\u001b[0m\n\u001b[1;32m      1\u001b[0m \u001b[0;31m# I will use logistic to predict the x_Hong_vector\u001b[0m\u001b[0;34m\u001b[0m\u001b[0;34m\u001b[0m\u001b[0;34m\u001b[0m\u001b[0m\n\u001b[0;32m----> 2\u001b[0;31m \u001b[0mhong_yhat\u001b[0m \u001b[0;34m=\u001b[0m \u001b[0mlogistic\u001b[0m\u001b[0;34m.\u001b[0m\u001b[0mpredict\u001b[0m\u001b[0;34m(\u001b[0m\u001b[0mx_Hong_vector\u001b[0m\u001b[0;34m)\u001b[0m\u001b[0;34m\u001b[0m\u001b[0;34m\u001b[0m\u001b[0m\n\u001b[0m\u001b[1;32m      3\u001b[0m \u001b[0;31m# Then I will use metrics to find the accuracy_score for the y_test and hong_yhat\u001b[0m\u001b[0;34m\u001b[0m\u001b[0;34m\u001b[0m\u001b[0;34m\u001b[0m\u001b[0m\n\u001b[1;32m      4\u001b[0m \u001b[0mprint\u001b[0m\u001b[0;34m(\u001b[0m\u001b[0;34m\"Hong Kong Accuracy:\"\u001b[0m\u001b[0;34m,\u001b[0m\u001b[0mmetrics\u001b[0m\u001b[0;34m.\u001b[0m\u001b[0maccuracy_score\u001b[0m\u001b[0;34m(\u001b[0m\u001b[0my_test\u001b[0m\u001b[0;34m,\u001b[0m \u001b[0mhong_yhat\u001b[0m\u001b[0;34m)\u001b[0m\u001b[0;34m)\u001b[0m\u001b[0;34m\u001b[0m\u001b[0;34m\u001b[0m\u001b[0m\n",
      "\u001b[0;32m~/opt/anaconda3/lib/python3.8/site-packages/sklearn/linear_model/_base.py\u001b[0m in \u001b[0;36mpredict\u001b[0;34m(self, X)\u001b[0m\n\u001b[1;32m    307\u001b[0m         \u001b[0mprob\u001b[0m \u001b[0;34m=\u001b[0m \u001b[0mself\u001b[0m\u001b[0;34m.\u001b[0m\u001b[0mdecision_function\u001b[0m\u001b[0;34m(\u001b[0m\u001b[0mX\u001b[0m\u001b[0;34m)\u001b[0m\u001b[0;34m\u001b[0m\u001b[0;34m\u001b[0m\u001b[0m\n\u001b[1;32m    308\u001b[0m         \u001b[0mexpit\u001b[0m\u001b[0;34m(\u001b[0m\u001b[0mprob\u001b[0m\u001b[0;34m,\u001b[0m \u001b[0mout\u001b[0m\u001b[0;34m=\u001b[0m\u001b[0mprob\u001b[0m\u001b[0;34m)\u001b[0m\u001b[0;34m\u001b[0m\u001b[0;34m\u001b[0m\u001b[0m\n\u001b[0;32m--> 309\u001b[0;31m         \u001b[0;32mif\u001b[0m \u001b[0mprob\u001b[0m\u001b[0;34m.\u001b[0m\u001b[0mndim\u001b[0m \u001b[0;34m==\u001b[0m \u001b[0;36m1\u001b[0m\u001b[0;34m:\u001b[0m\u001b[0;34m\u001b[0m\u001b[0;34m\u001b[0m\u001b[0m\n\u001b[0m\u001b[1;32m    310\u001b[0m             \u001b[0;32mreturn\u001b[0m \u001b[0mnp\u001b[0m\u001b[0;34m.\u001b[0m\u001b[0mvstack\u001b[0m\u001b[0;34m(\u001b[0m\u001b[0;34m[\u001b[0m\u001b[0;36m1\u001b[0m \u001b[0;34m-\u001b[0m \u001b[0mprob\u001b[0m\u001b[0;34m,\u001b[0m \u001b[0mprob\u001b[0m\u001b[0;34m]\u001b[0m\u001b[0;34m)\u001b[0m\u001b[0;34m.\u001b[0m\u001b[0mT\u001b[0m\u001b[0;34m\u001b[0m\u001b[0;34m\u001b[0m\u001b[0m\n\u001b[1;32m    311\u001b[0m         \u001b[0;32melse\u001b[0m\u001b[0;34m:\u001b[0m\u001b[0;34m\u001b[0m\u001b[0;34m\u001b[0m\u001b[0m\n",
      "\u001b[0;32m~/opt/anaconda3/lib/python3.8/site-packages/sklearn/linear_model/_base.py\u001b[0m in \u001b[0;36mdecision_function\u001b[0;34m(self, X)\u001b[0m\n\u001b[1;32m    286\u001b[0m             \u001b[0mSamples\u001b[0m\u001b[0;34m.\u001b[0m\u001b[0;34m\u001b[0m\u001b[0;34m\u001b[0m\u001b[0m\n\u001b[1;32m    287\u001b[0m \u001b[0;34m\u001b[0m\u001b[0m\n\u001b[0;32m--> 288\u001b[0;31m         \u001b[0mReturns\u001b[0m\u001b[0;34m\u001b[0m\u001b[0;34m\u001b[0m\u001b[0m\n\u001b[0m\u001b[1;32m    289\u001b[0m         \u001b[0;34m-\u001b[0m\u001b[0;34m-\u001b[0m\u001b[0;34m-\u001b[0m\u001b[0;34m-\u001b[0m\u001b[0;34m-\u001b[0m\u001b[0;34m-\u001b[0m\u001b[0;34m-\u001b[0m\u001b[0;34m\u001b[0m\u001b[0;34m\u001b[0m\u001b[0m\n\u001b[1;32m    290\u001b[0m         \u001b[0mC\u001b[0m \u001b[0;34m:\u001b[0m \u001b[0marray\u001b[0m\u001b[0;34m,\u001b[0m \u001b[0mshape\u001b[0m \u001b[0;34m[\u001b[0m\u001b[0mn_samples\u001b[0m\u001b[0;34m]\u001b[0m\u001b[0;34m\u001b[0m\u001b[0;34m\u001b[0m\u001b[0m\n",
      "\u001b[0;31mValueError\u001b[0m: X has 32862 features per sample; expecting 32817"
     ]
    }
   ],
   "source": [
    "# I will use logistic to predict the x_Hong_vector \n",
    "hong_yhat = logistic.predict(x_Hong_vector)\n",
    "# Then I will use metrics to find the accuracy_score for the y_test and hong_yhat\n",
    "print(\"Hong Kong Accuracy:\",metrics.accuracy_score(y_test, hong_yhat))"
   ]
  },
  {
   "cell_type": "markdown",
   "id": "2146b161",
   "metadata": {},
   "source": [
    "As seen above we can see that the accuracy of the logistic prediction for Disneyland Hong Kong is 92.64%"
   ]
  },
  {
   "cell_type": "markdown",
   "id": "d37cd640",
   "metadata": {},
   "source": [
    "## Confusion matrix for the test set predictions for Disneyland HongKong"
   ]
  },
  {
   "cell_type": "code",
   "execution_count": 485,
   "id": "4242eace",
   "metadata": {},
   "outputs": [
    {
     "name": "stdout",
     "output_type": "stream",
     "text": [
      "[[6516   90]\n",
      " [ 537 1385]]\n"
     ]
    }
   ],
   "source": [
    "Confusion_matrix_Hong = confusion_matrix(y_test, hong_yhat)\n",
    "print(Confusion_matrix_Hong)"
   ]
  },
  {
   "cell_type": "markdown",
   "id": "d4fcbe9d",
   "metadata": {},
   "source": [
    "As seen above the confusion matrix for Disneyland California has 6516 negative reviews and 90 for the true class and 1385 negative and 537 positive review for predicted."
   ]
  },
  {
   "cell_type": "markdown",
   "id": "7083ba43",
   "metadata": {},
   "source": [
    "## Precision, recall, and F1-score for the test set predictions for Disneyland HongKong"
   ]
  },
  {
   "cell_type": "code",
   "execution_count": 486,
   "id": "876e1011",
   "metadata": {},
   "outputs": [
    {
     "name": "stdout",
     "output_type": "stream",
     "text": [
      "              precision    recall  f1-score   support\n",
      "\n",
      "           0       0.92      0.99      0.95      6606\n",
      "           1       0.94      0.72      0.82      1922\n",
      "\n",
      "    accuracy                           0.93      8528\n",
      "   macro avg       0.93      0.85      0.88      8528\n",
      "weighted avg       0.93      0.93      0.92      8528\n",
      "\n"
     ]
    }
   ],
   "source": [
    "# I will import classification_report and use my yhat to pull the \n",
    "# classification_report with the hong_yhat\n",
    "print(classification_report(y_test, hong_yhat))"
   ]
  },
  {
   "cell_type": "markdown",
   "id": "2a74c605",
   "metadata": {},
   "source": [
    "As seen above we can see the accuracy, macro avg, and weighted avg for the precision, recall, f1-score, support for 0 and 1. As we see 0 has the highest recall at 0.99 and 1 had the highest at 0.94 for precision."
   ]
  },
  {
   "cell_type": "markdown",
   "id": "862f1e99",
   "metadata": {},
   "source": [
    "## ROC curve for the test set for Disneyland HongKong"
   ]
  },
  {
   "cell_type": "code",
   "execution_count": 487,
   "id": "95ed08ea",
   "metadata": {},
   "outputs": [
    {
     "data": {
      "image/png": "[encoded data removed]",
      "text/plain": [
       "<Figure size 432x288 with 1 Axes>"
      ]
     },
     "metadata": {
      "needs_background": "light"
     },
     "output_type": "display_data"
    }
   ],
   "source": [
    "# I will import matplotlib.pyplot and set my fpr, tpr, _ equal to the metrics.roc_curve\n",
    "# for the y_test, hong_yhat probability \n",
    "import matplotlib.pyplot as plt\n",
    "fpr, tpr, _ = metrics.roc_curve(y_test, hong_yhat)\n",
    "auc = metrics.roc_auc_score(y_test, hong_yhat)\n",
    "plt.plot(fpr,tpr,label=\"data 1, auc=\"+str(auc))\n",
    "plt.legend(loc=4)\n",
    "plt.show()"
   ]
  },
  {
   "cell_type": "markdown",
   "id": "84c788c1",
   "metadata": {},
   "source": [
    "As seen above we see that the accuracy of the ROC curve for Disneyland HongKong has a accuracy curve at 85.34%"
   ]
  },
  {
   "cell_type": "markdown",
   "id": "68a79f80",
   "metadata": {},
   "source": [
    "## Split Disney_Data into training and test sets for Disneyland Paris"
   ]
  },
  {
   "cell_type": "code",
   "execution_count": 488,
   "id": "47cf1357",
   "metadata": {},
   "outputs": [],
   "source": [
    "# Now I will separate the Target and Predictor Variables\n",
    "Target = ['Review_update']\n",
    "Predict= ['Disneyland_Paris']\n",
    "\n",
    "X=Disney_Data[Target].values\n",
    "Y=Disney_Data[Predict].values\n",
    "\n",
    "# Next I will split my data into a training and test sets\n",
    "x_train, x_test, y_train, y_test = train_test_split(X,Y, stratify=Y, test_size=.2, random_state=0)"
   ]
  },
  {
   "cell_type": "code",
   "execution_count": 489,
   "id": "0d131e86",
   "metadata": {},
   "outputs": [
    {
     "name": "stdout",
     "output_type": "stream",
     "text": [
      "(34108, 1)\n",
      "(8528, 1)\n",
      "(34108, 1)\n",
      "(8528, 1)\n"
     ]
    }
   ],
   "source": [
    "# Next I will view the shape for my training and test sets\n",
    "# and check my test and training sets for my target review_update variable\n",
    "print(x_train.shape)\n",
    "print(x_test.shape)\n",
    "print(y_train.shape)\n",
    "print(y_test.shape)"
   ]
  },
  {
   "cell_type": "markdown",
   "id": "b6123cce",
   "metadata": {},
   "source": [
    "## TFIDF Vectorization to the training set data for Disneyland Paris"
   ]
  },
  {
   "cell_type": "code",
   "execution_count": 490,
   "id": "b4ca1e37",
   "metadata": {},
   "outputs": [],
   "source": [
    "# Next I will create the TfidfVectorizer feature wih the x_train\n",
    "Paris_Park_tfidfs = TfidfVectorizer()\n",
    "Paris_x_train_vector = Paris_Park_tfidfs.fit_transform(x_train.ravel())"
   ]
  },
  {
   "cell_type": "code",
   "execution_count": 491,
   "id": "8f54d935",
   "metadata": {},
   "outputs": [
    {
     "data": {
      "text/plain": [
       "(34108, 32817)"
      ]
     },
     "execution_count": 491,
     "metadata": {},
     "output_type": "execute_result"
    }
   ],
   "source": [
    "# I will now pull the shape of my train\n",
    "Paris_x_train_vector.shape"
   ]
  },
  {
   "cell_type": "code",
   "execution_count": 492,
   "id": "e56ef02f",
   "metadata": {},
   "outputs": [
    {
     "data": {
      "text/plain": [
       "<34108x32817 sparse matrix of type '<class 'numpy.float64'>'\n",
       "\twith 1767680 stored elements in Compressed Sparse Row format>"
      ]
     },
     "execution_count": 492,
     "metadata": {},
     "output_type": "execute_result"
    }
   ],
   "source": [
    "# Next I will view my TfidfVectorizer feature for the x_train\n",
    "Paris_x_train_vector"
   ]
  },
  {
   "cell_type": "code",
   "execution_count": 493,
   "id": "a3380f2c",
   "metadata": {},
   "outputs": [
    {
     "name": "stdout",
     "output_type": "stream",
     "text": [
      "n_samples: 34108, n_features: 32817\n"
     ]
    }
   ],
   "source": [
    "# Next I will check the dimensions of the data\n",
    "print(\"n_samples: %d, n_features: %d\" % Paris_x_train_vector.shape)"
   ]
  },
  {
   "cell_type": "code",
   "execution_count": 494,
   "id": "0649d9af",
   "metadata": {},
   "outputs": [
    {
     "data": {
      "text/plain": [
       "array([[0., 0., 0., ..., 0., 0., 0.],\n",
       "       [0., 0., 0., ..., 0., 0., 0.],\n",
       "       [0., 0., 0., ..., 0., 0., 0.],\n",
       "       ...,\n",
       "       [0., 0., 0., ..., 0., 0., 0.],\n",
       "       [0., 0., 0., ..., 0., 0., 0.],\n",
       "       [0., 0., 0., ..., 0., 0., 0.]])"
      ]
     },
     "execution_count": 494,
     "metadata": {},
     "output_type": "execute_result"
    }
   ],
   "source": [
    "# I will use .toarray to view the array\n",
    "Paris_x_train_vector.toarray()"
   ]
  },
  {
   "cell_type": "markdown",
   "id": "24177032",
   "metadata": {},
   "source": [
    "## FIT TFIDF Vectorization to Test Set for Disneyland Paris"
   ]
  },
  {
   "cell_type": "code",
   "execution_count": 495,
   "id": "26a0be4f",
   "metadata": {},
   "outputs": [],
   "source": [
    "# Next I will apply the the transform to the test data set\n",
    "x_Paris_vector = Paris_Park_tfidfs.transform(x_test.ravel())"
   ]
  },
  {
   "cell_type": "code",
   "execution_count": 496,
   "id": "c34a799a",
   "metadata": {},
   "outputs": [
    {
     "data": {
      "text/plain": [
       "array([[0., 0., 0., ..., 0., 0., 0.],\n",
       "       [0., 0., 0., ..., 0., 0., 0.],\n",
       "       [0., 0., 0., ..., 0., 0., 0.],\n",
       "       ...,\n",
       "       [0., 0., 0., ..., 0., 0., 0.],\n",
       "       [0., 0., 0., ..., 0., 0., 0.],\n",
       "       [0., 0., 0., ..., 0., 0., 0.]])"
      ]
     },
     "execution_count": 496,
     "metadata": {},
     "output_type": "execute_result"
    }
   ],
   "source": [
    "# Next I will use .toarray to see the array \n",
    "x_Paris_vector.toarray()"
   ]
  },
  {
   "cell_type": "code",
   "execution_count": 497,
   "id": "000ac367",
   "metadata": {},
   "outputs": [
    {
     "data": {
      "text/plain": [
       "(8528, 32817)"
      ]
     },
     "execution_count": 497,
     "metadata": {},
     "output_type": "execute_result"
    }
   ],
   "source": [
    "# Next I will view the shape of my x_test_vector\n",
    "x_Paris_vector.shape"
   ]
  },
  {
   "cell_type": "markdown",
   "id": "f3408c96",
   "metadata": {},
   "source": [
    "## Train a logistic regression using the training data for Disneyland Paris"
   ]
  },
  {
   "cell_type": "code",
   "execution_count": 498,
   "id": "939fd532",
   "metadata": {},
   "outputs": [],
   "source": [
    "# Initialize a logistic regression model \n",
    "logistic_Paris = LogisticRegression()\n",
    "# Train the model\n",
    "logistic_Paris = logistic.fit(Paris_x_train_vector, y_train)"
   ]
  },
  {
   "cell_type": "code",
   "execution_count": 499,
   "id": "d6df3e56",
   "metadata": {},
   "outputs": [
    {
     "name": "stdout",
     "output_type": "stream",
     "text": [
      "0.9201653571009734\n"
     ]
    }
   ],
   "source": [
    "# Next I will print the score of the model\n",
    "print(logistic_Paris.score(Paris_x_train_vector, y_train))"
   ]
  },
  {
   "cell_type": "markdown",
   "id": "e16e11dc",
   "metadata": {},
   "source": [
    "As seen above the logistic sore for the taining data for Disneyland Paris has a high score of 92.01%"
   ]
  },
  {
   "cell_type": "markdown",
   "id": "0d70cf14",
   "metadata": {},
   "source": [
    "## Model accuracy on test set for Disneyland Paris"
   ]
  },
  {
   "cell_type": "code",
   "execution_count": 501,
   "id": "997d81aa",
   "metadata": {},
   "outputs": [
    {
     "name": "stdout",
     "output_type": "stream",
     "text": [
      "Paris Accuracy: 0.900562851782364\n"
     ]
    }
   ],
   "source": [
    "# I will use logistic to predict the x_Paris_vector \n",
    "Paris_yhat = logistic.predict(x_Paris_vector)\n",
    "# Then I will use metrics to find the accuracy_score for the y_test and Paris_yhat\n",
    "print(\"Paris Accuracy:\",metrics.accuracy_score(y_test, Paris_yhat))"
   ]
  },
  {
   "cell_type": "markdown",
   "id": "199a3b7d",
   "metadata": {},
   "source": [
    "As seen above we can see that the accuracy of the logistic prediction for Disneyland Paris is 90.05%"
   ]
  },
  {
   "cell_type": "markdown",
   "id": "696706b5",
   "metadata": {},
   "source": [
    "## Confusion matrix for the test set predictions for Disneyland Paris"
   ]
  },
  {
   "cell_type": "code",
   "execution_count": 502,
   "id": "1d475d48",
   "metadata": {},
   "outputs": [
    {
     "name": "stdout",
     "output_type": "stream",
     "text": [
      "[[5551  251]\n",
      " [ 597 2129]]\n"
     ]
    }
   ],
   "source": [
    "Confusion_matrix_Paris = confusion_matrix(y_test, Paris_yhat)\n",
    "print(Confusion_matrix_Paris)"
   ]
  },
  {
   "cell_type": "markdown",
   "id": "b92a6cd7",
   "metadata": {},
   "source": [
    "As seen above the confusion matrix for Disneyland California has 5551 negative reviews and 251 for the true class and 2129 negative and 597 positive review for predicted."
   ]
  },
  {
   "cell_type": "markdown",
   "id": "d967277a",
   "metadata": {},
   "source": [
    "## Precision, recall, and F1-score for the test set predictions for Disneyland Paris"
   ]
  },
  {
   "cell_type": "code",
   "execution_count": 503,
   "id": "305e2cb2",
   "metadata": {},
   "outputs": [
    {
     "name": "stdout",
     "output_type": "stream",
     "text": [
      "              precision    recall  f1-score   support\n",
      "\n",
      "           0       0.90      0.96      0.93      5802\n",
      "           1       0.89      0.78      0.83      2726\n",
      "\n",
      "    accuracy                           0.90      8528\n",
      "   macro avg       0.90      0.87      0.88      8528\n",
      "weighted avg       0.90      0.90      0.90      8528\n",
      "\n"
     ]
    }
   ],
   "source": [
    "# I will import classification_report and use my yhat to pull the \n",
    "# classification_report with the Paris_yhat\n",
    "print(classification_report(y_test, Paris_yhat))"
   ]
  },
  {
   "cell_type": "markdown",
   "id": "c466c370",
   "metadata": {},
   "source": [
    "As seen above we can see the accuracy, macro avg, and weighted avg for the precision, recall, f1-score, support for 0 and 1. As we see 0 has the highest recall at 0.96 and 1 had the highest at 0.89 for precision."
   ]
  },
  {
   "cell_type": "markdown",
   "id": "54084d94",
   "metadata": {},
   "source": [
    "## ROC curve for the test set for Disneyland Paris"
   ]
  },
  {
   "cell_type": "code",
   "execution_count": 504,
   "id": "46e4bc1a",
   "metadata": {},
   "outputs": [
    {
     "data": {
      "image/png": "[encoded data removed]",
      "text/plain": [
       "<Figure size 432x288 with 1 Axes>"
      ]
     },
     "metadata": {
      "needs_background": "light"
     },
     "output_type": "display_data"
    }
   ],
   "source": [
    "# I will import matplotlib.pyplot and set my fpr, tpr, _ equal to the metrics.roc_curve\n",
    "# for the y_test, Paris_yhat probability \n",
    "import matplotlib.pyplot as plt\n",
    "fpr, tpr, _ = metrics.roc_curve(y_test, Paris_yhat)\n",
    "auc = metrics.roc_auc_score(y_test, Paris_yhat)\n",
    "plt.plot(fpr,tpr,label=\"data 1, auc=\"+str(auc))\n",
    "plt.legend(loc=4)\n",
    "plt.show()"
   ]
  },
  {
   "cell_type": "markdown",
   "id": "d164c74d",
   "metadata": {},
   "source": [
    "As seen above we see that the accuracy of the ROC curve for Disneyland Paris has a accuracy curve at 86.88%"
   ]
  },
  {
   "cell_type": "markdown",
   "id": "1e220f8d",
   "metadata": {},
   "source": [
    "## Conclusion"
   ]
  },
  {
   "cell_type": "markdown",
   "id": "e99fb4de",
   "metadata": {},
   "source": [
    "    When building my models, I decided to start with a TFIDF Vectorization on my updated reviews variable and my Polarity review rating that I calculated. When calculating this I started with a Random Forest Analysis for my training set and found that the accuracy to be very high such as 99.87% which is great. As I went on, I created a Decision Tree Analysis and found my accuracy to be a little less falling in at 99.51%. Last I decided to create a logistic regression and pulled a score of 88.75 which was even lower for the Polarity review rating. With the highest accuracy model, I found for my updated reviews variable and my Polarity review rating was from Random Forest Analysis which was 99.87%. \n",
    "\tI also decided to create three different splits for each park and the updated reviews that started with a TFIDF Vectorization and set the training data in a logistic regression that told me that Hong Kong had the highest accuracy at 93.76% then Paris at 92.01% and last California with 91.93% accuracy. Next, I pulled the model accuracy for the test set for each park and found that the highest accuracy was from Hong Kong again at 92.64% then Paris as 90.02% and California in last again at 89.59%. Following that I created a Confusion matrix for each park and found that the true class for Hong Kong had the highest negative reviews coming in at 6,516 while California had the lowest true negative reviews at 4238. On another note, on the predicted side, we saw that the highest positive reviews came from Paris at 597 and the lowest positive was California at 477 predicted. A classification report ran on all three parks and found the highest recall score at Hong Kong coming in at 0.99 for negative reviews while the highest precision came from Hong Kong as well at 0.94 for positive reviews. Last the ROC curve told us that the accuracy of each park was in the upper 80% with California being the highest at 89.44%. Overall, I felt these models showed a lot and wasn’t what I was expecting as we learned that Hong Kong had the highest accuracy in most of our models. While our ROC curve showed California to be the most accurate. \n"
   ]
  },
  {
   "cell_type": "code",
   "execution_count": null,
   "id": "2c333d5c",
   "metadata": {},
   "outputs": [],
   "source": []
  }
 ],
 "metadata": {
  "kernelspec": {
   "display_name": "Python 3",
   "language": "python",
   "name": "python3"
  },
  "language_info": {
   "codemirror_mode": {
    "name": "ipython",
    "version": 3
   },
   "file_extension": ".py",
   "mimetype": "text/x-python",
   "name": "python",
   "nbconvert_exporter": "python",
   "pygments_lexer": "ipython3",
   "version": "3.8.8"
  }
 },
 "nbformat": 4,
 "nbformat_minor": 5
}
