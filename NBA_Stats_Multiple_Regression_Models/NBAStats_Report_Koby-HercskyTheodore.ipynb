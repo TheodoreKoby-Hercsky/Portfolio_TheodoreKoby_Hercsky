{
 "cells": [
  {
   "cell_type": "markdown",
   "id": "926c78fb",
   "metadata": {},
   "source": [
    "# Term project - 10.4 Assignment 2018 - 2019 NBA Stats \n",
    "\n",
    "Reference: StoRmEx. (2019, April 23). NBA 2019 SEASON ratings, stats &amp; details. Kaggle. https://www.kaggle.com/stormex/nba-2019-season-ratings-stats-details. "
   ]
  },
  {
   "cell_type": "markdown",
   "id": "e811b34c",
   "metadata": {},
   "source": [
    "# Statistical Question\n",
    "Does the salary of an NBA player accurately compensate for their statistics throughout the season in comparison to others within the NBA? "
   ]
  },
  {
   "cell_type": "markdown",
   "id": "a533f36d",
   "metadata": {},
   "source": [
    "# Hypothesis\n",
    "If an NBA player has higher stats, they will have a higher salary."
   ]
  },
  {
   "cell_type": "markdown",
   "id": "5b7ee722",
   "metadata": {},
   "source": [
    "# NBA Statistical Data for the 2018 - 2019 Seanson\n",
    "As seen below we see a snap shot of the 2018 - 2019 NBA data frame:"
   ]
  },
  {
   "cell_type": "code",
   "execution_count": 89,
   "id": "2501fcc8",
   "metadata": {
    "scrolled": false
   },
   "outputs": [
    {
     "data": {
      "text/html": [
       "<div>\n",
       "<style scoped>\n",
       "    .dataframe tbody tr th:only-of-type {\n",
       "        vertical-align: middle;\n",
       "    }\n",
       "\n",
       "    .dataframe tbody tr th {\n",
       "        vertical-align: top;\n",
       "    }\n",
       "\n",
       "    .dataframe thead th {\n",
       "        text-align: right;\n",
       "    }\n",
       "</style>\n",
       "<table border=\"1\" class=\"dataframe\">\n",
       "  <thead>\n",
       "    <tr style=\"text-align: right;\">\n",
       "      <th></th>\n",
       "      <th>Unnamed: 0</th>\n",
       "      <th>Player</th>\n",
       "      <th>Ratings</th>\n",
       "      <th>Team</th>\n",
       "      <th>Age</th>\n",
       "      <th>Height</th>\n",
       "      <th>Weight</th>\n",
       "      <th>College</th>\n",
       "      <th>Country</th>\n",
       "      <th>Draft_Year</th>\n",
       "      <th>...</th>\n",
       "      <th>Free_Throws_Attempted</th>\n",
       "      <th>Free_Throws_Percentage</th>\n",
       "      <th>Offensive_Rebounds</th>\n",
       "      <th>Defensive_Rebounds</th>\n",
       "      <th>Rebounds</th>\n",
       "      <th>Assists</th>\n",
       "      <th>Steals</th>\n",
       "      <th>Blocks</th>\n",
       "      <th>Turnovers</th>\n",
       "      <th>Efficiency_Rating</th>\n",
       "    </tr>\n",
       "  </thead>\n",
       "  <tbody>\n",
       "    <tr>\n",
       "      <th>0</th>\n",
       "      <td>0</td>\n",
       "      <td>Kent Bazemore</td>\n",
       "      <td>76</td>\n",
       "      <td>ATL</td>\n",
       "      <td>29</td>\n",
       "      <td>5-Jun</td>\n",
       "      <td>201</td>\n",
       "      <td>Old</td>\n",
       "      <td>Dominion</td>\n",
       "      <td>USA</td>\n",
       "      <td>...</td>\n",
       "      <td>2.6</td>\n",
       "      <td>72.6</td>\n",
       "      <td>0.6</td>\n",
       "      <td>3.3</td>\n",
       "      <td>3.9</td>\n",
       "      <td>2.3</td>\n",
       "      <td>1.3</td>\n",
       "      <td>0.6</td>\n",
       "      <td>1.8</td>\n",
       "      <td>11.1</td>\n",
       "    </tr>\n",
       "    <tr>\n",
       "      <th>1</th>\n",
       "      <td>1</td>\n",
       "      <td>Dewayne Dedmon</td>\n",
       "      <td>77</td>\n",
       "      <td>ATL</td>\n",
       "      <td>29</td>\n",
       "      <td>Jul-00</td>\n",
       "      <td>245</td>\n",
       "      <td>Southern</td>\n",
       "      <td>California</td>\n",
       "      <td>USA</td>\n",
       "      <td>...</td>\n",
       "      <td>1.8</td>\n",
       "      <td>81.4</td>\n",
       "      <td>1.6</td>\n",
       "      <td>5.9</td>\n",
       "      <td>7.5</td>\n",
       "      <td>1.4</td>\n",
       "      <td>1.1</td>\n",
       "      <td>1.1</td>\n",
       "      <td>1.3</td>\n",
       "      <td>16.1</td>\n",
       "    </tr>\n",
       "    <tr>\n",
       "      <th>2</th>\n",
       "      <td>2</td>\n",
       "      <td>John Collins</td>\n",
       "      <td>84</td>\n",
       "      <td>ATL</td>\n",
       "      <td>21</td>\n",
       "      <td>10-Jun</td>\n",
       "      <td>235</td>\n",
       "      <td>Wake</td>\n",
       "      <td>Forest</td>\n",
       "      <td>USA</td>\n",
       "      <td>...</td>\n",
       "      <td>4.4</td>\n",
       "      <td>76.3</td>\n",
       "      <td>3.6</td>\n",
       "      <td>6.2</td>\n",
       "      <td>9.8</td>\n",
       "      <td>2.0</td>\n",
       "      <td>0.4</td>\n",
       "      <td>0.6</td>\n",
       "      <td>2.0</td>\n",
       "      <td>23.2</td>\n",
       "    </tr>\n",
       "    <tr>\n",
       "      <th>3</th>\n",
       "      <td>3</td>\n",
       "      <td>Trae Young</td>\n",
       "      <td>84</td>\n",
       "      <td>ATL</td>\n",
       "      <td>20</td>\n",
       "      <td>2-Jun</td>\n",
       "      <td>180</td>\n",
       "      <td>Oklahoma</td>\n",
       "      <td>USA</td>\n",
       "      <td>2018</td>\n",
       "      <td>...</td>\n",
       "      <td>5.1</td>\n",
       "      <td>82.9</td>\n",
       "      <td>0.8</td>\n",
       "      <td>2.9</td>\n",
       "      <td>3.7</td>\n",
       "      <td>8.1</td>\n",
       "      <td>0.9</td>\n",
       "      <td>0.2</td>\n",
       "      <td>3.8</td>\n",
       "      <td>18.3</td>\n",
       "    </tr>\n",
       "    <tr>\n",
       "      <th>4</th>\n",
       "      <td>4</td>\n",
       "      <td>Kevin Huerter</td>\n",
       "      <td>74</td>\n",
       "      <td>ATL</td>\n",
       "      <td>20</td>\n",
       "      <td>7-Jun</td>\n",
       "      <td>190</td>\n",
       "      <td>Maryland</td>\n",
       "      <td>USA</td>\n",
       "      <td>2018</td>\n",
       "      <td>...</td>\n",
       "      <td>0.7</td>\n",
       "      <td>73.2</td>\n",
       "      <td>0.8</td>\n",
       "      <td>2.5</td>\n",
       "      <td>3.3</td>\n",
       "      <td>2.9</td>\n",
       "      <td>0.9</td>\n",
       "      <td>0.3</td>\n",
       "      <td>1.5</td>\n",
       "      <td>10.3</td>\n",
       "    </tr>\n",
       "  </tbody>\n",
       "</table>\n",
       "<p>5 rows × 34 columns</p>\n",
       "</div>"
      ],
      "text/plain": [
       "   Unnamed: 0          Player  Ratings Team  Age  Height  Weight   College  \\\n",
       "0           0   Kent Bazemore       76  ATL   29   5-Jun     201       Old   \n",
       "1           1  Dewayne Dedmon       77  ATL   29  Jul-00     245  Southern   \n",
       "2           2    John Collins       84  ATL   21  10-Jun     235      Wake   \n",
       "3           3      Trae Young       84  ATL   20   2-Jun     180  Oklahoma   \n",
       "4           4   Kevin Huerter       74  ATL   20   7-Jun     190  Maryland   \n",
       "\n",
       "      Country Draft_Year  ... Free_Throws_Attempted Free_Throws_Percentage  \\\n",
       "0    Dominion        USA  ...                   2.6                   72.6   \n",
       "1  California        USA  ...                   1.8                   81.4   \n",
       "2      Forest        USA  ...                   4.4                   76.3   \n",
       "3         USA       2018  ...                   5.1                   82.9   \n",
       "4         USA       2018  ...                   0.7                   73.2   \n",
       "\n",
       "  Offensive_Rebounds  Defensive_Rebounds  Rebounds  Assists  Steals  Blocks  \\\n",
       "0                0.6                 3.3       3.9      2.3     1.3     0.6   \n",
       "1                1.6                 5.9       7.5      1.4     1.1     1.1   \n",
       "2                3.6                 6.2       9.8      2.0     0.4     0.6   \n",
       "3                0.8                 2.9       3.7      8.1     0.9     0.2   \n",
       "4                0.8                 2.5       3.3      2.9     0.9     0.3   \n",
       "\n",
       "   Turnovers  Efficiency_Rating  \n",
       "0        1.8               11.1  \n",
       "1        1.3               16.1  \n",
       "2        2.0               23.2  \n",
       "3        3.8               18.3  \n",
       "4        1.5               10.3  \n",
       "\n",
       "[5 rows x 34 columns]"
      ]
     },
     "execution_count": 89,
     "metadata": {},
     "output_type": "execute_result"
    }
   ],
   "source": [
    "import pandas as pd\n",
    "NBA_Data = pd.read_csv('/Users/Robyn/Documents/DSC530-T302/ThinkStats2/code/NBAData.csv')\n",
    "NBA_Data.head()"
   ]
  },
  {
   "attachments": {},
   "cell_type": "markdown",
   "id": "5f4460bc",
   "metadata": {},
   "source": [
    "# Variables for the 2018 - 2019 NBA Data\n",
    "As seen below are the variable names that are in our NBA_Data frame and listed below are the are the variables that are going to be used within this analysis:\n",
    "\n",
    "- **Player** is the name of the professional basketball player.\n",
    "- **Ratings** is the rank the player falls in within the NBA League.\n",
    "- **Age** is how old the player is in comparison to others within the NBA.\n",
    "- **Weight** is the number of pounds the player weighs.\n",
    "- **Salary 2018/2019** is the salary of the player for the 2018 to 2019 season.\n",
    "- **Games Played** is the number of games played with in the 2018 to 2019 season.\n",
    "- **Minutes** is the average amount of minutes played within the 2018 to 2019 season.\n",
    "- **Points** is the average points the player has made within the 2018 to 2019 season.\n",
    "- **Field Goals Made** is the average number of 2 point field goals that the player made.\n",
    "- **Field Goals Attempted** is the average number of 2 point field goals that the player attempted.\n",
    "- **Field Goals Percentage** is the average percentage of the number of 2-point field goals that the player has made. Which the formula is Field Goals Made / Field Goals Attempted. \n",
    "- **Three Points Made** is the average number of 3 point field goals that the player makes.\n",
    "- **Three Points Attempted** is the average number of 3 point field goals that the player Attempted.\n",
    "- **Three Points Percentage** is the average percentage of 3 point field goals that the player makes. Which the formula is Three points made / Three Points Attempted. \n",
    "- **Free Throws Made** is the average number of free throws that the player makes.\n",
    "- **Free Throws Attempted** is the average number of free throws that the player Attempted.\n",
    "- **Free Throws Percentage** is the average percentage of free throw attempts that the player makes. Which the formula is Free Throws Made / Free Throws Attempted.\n",
    "- **Offensive Rebounds** is the average number of rebounds the player collects while on offense.\n",
    "- **Defensive Rebounds** is the average number of rebounds the player collects while on defense.\n",
    "- **Rebounds** is the average number of rebounds the player collects during the game.\n",
    "- **Assists** is the average number of passes that lead directly to a made basket by the player.\n",
    "- **Steals** is the average number of times the player legally takes the ball away from an opponent, intercepts a pass, or otherwise gains possession following an opponent turnover (provided the ball remains in bounds and the clock has not stopped).\n",
    "- **Blocks** is the average number of blocks a shot that is touched or deflected by a defensive player that alters the trajectory of the shot attempt by the player.\n",
    "- **Turnovers** is the average number of times the player loses possession of the ball without attempting a field goal or free throw (except at the end of a period).\n"
   ]
  },
  {
   "cell_type": "code",
   "execution_count": 90,
   "id": "a1bef0eb",
   "metadata": {},
   "outputs": [
    {
     "data": {
      "text/plain": [
       "Index(['Unnamed: 0', 'Player', 'Ratings', 'Team', 'Age', 'Height', 'Weight',\n",
       "       'College', 'Country', 'Draft_Year', 'Draft_Round', 'Draft_Number',\n",
       "       'Shoes', 'Salary_2018_19', 'Game_Played', 'Minutes', 'Points',\n",
       "       'Field_Goals_Made', 'Field_Goals_Attempted', 'Field_Goals_Percentage',\n",
       "       'Three_Points_Made', 'Three_Points_Attempted',\n",
       "       'Three_Points_Percentage', 'Free_Throws_Made', 'Free_Throws_Attempted',\n",
       "       'Free_Throws_Percentage', 'Offensive_Rebounds', 'Defensive_Rebounds',\n",
       "       'Rebounds', 'Assists', 'Steals', 'Blocks', 'Turnovers',\n",
       "       'Efficiency_Rating'],\n",
       "      dtype='object')"
      ]
     },
     "execution_count": 90,
     "metadata": {},
     "output_type": "execute_result"
    }
   ],
   "source": [
    "NBA_Data.columns"
   ]
  },
  {
   "cell_type": "markdown",
   "id": "ef139219",
   "metadata": {},
   "source": [
    "# Histograms"
   ]
  },
  {
   "cell_type": "markdown",
   "id": "0a1bf787",
   "metadata": {},
   "source": [
    "### Field_Goals_Made and Field_Goals_Attempted Histogram\n",
    "From the NBA_Data frame, we can selection Field_Goals_Made and Field_Goals_Attempted and then compute a histogram for the two groups to show a comparison. "
   ]
  },
  {
   "cell_type": "code",
   "execution_count": 38,
   "id": "d3c20b4b",
   "metadata": {},
   "outputs": [],
   "source": [
    "import thinkstats2\n",
    "import thinkplot\n",
    "made = NBA_Data.Field_Goals_Made\n",
    "attempted = NBA_Data.Field_Goals_Attempted\n",
    "\n",
    "made_hist = thinkstats2.Hist(made, label='made')\n",
    "attempted_hist = thinkstats2.Hist(attempted, label='attempted')"
   ]
  },
  {
   "cell_type": "markdown",
   "id": "5cd43c85",
   "metadata": {},
   "source": [
    "Next we can use width to set the with of our bars while also using align to plot two histograms side-by-side."
   ]
  },
  {
   "cell_type": "code",
   "execution_count": 56,
   "id": "009d07ba",
   "metadata": {},
   "outputs": [
    {
     "data": {
      "image/png": "[encoded data removed]",
      "text/plain": [
       "<Figure size 432x288 with 1 Axes>"
      ]
     },
     "metadata": {
      "needs_background": "light"
     },
     "output_type": "display_data"
    }
   ],
   "source": [
    "width = 0.25\n",
    "thinkplot.PrePlot(8)\n",
    "thinkplot.Hist(made_hist, align='right', width=width)\n",
    "thinkplot.Hist(attempted_hist, align='left', width=width)\n",
    "thinkplot.Config(xlabel='shots', ylabel='Count', xlim=[-1, 25])"
   ]
  },
  {
   "attachments": {},
   "cell_type": "markdown",
   "id": "f37bb8dc",
   "metadata": {},
   "source": [
    "As seen in this histogram we have a large outlier in the 25 range for average shots taken with 10.8 made as this came from James Harden who was paid $30,570,000 for the season. While also seen in this histogram is our rightward facing tail that pulls towards higher shots taken."
   ]
  },
  {
   "cell_type": "markdown",
   "id": "9a399bfb",
   "metadata": {},
   "source": [
    "### Three_Points_Made and Three_Points_Attempted Histogram \n",
    "From the NBA_Data frame, we can selection Three_Points_Attempted and Three_Points_Made and then compute a histogram for the two groups to show a comparison. "
   ]
  },
  {
   "cell_type": "code",
   "execution_count": 58,
   "id": "3d96c53f",
   "metadata": {},
   "outputs": [],
   "source": [
    "import thinkstats2\n",
    "import thinkplot\n",
    "three_attempted = NBA_Data.Three_Points_Attempted\n",
    "three_made = NBA_Data.Three_Points_Made\n",
    "\n",
    "attempted_hist = thinkstats2.Hist(three_attempted, label='attempted')\n",
    "made_hist = thinkstats2.Hist(three_made, label='made')"
   ]
  },
  {
   "cell_type": "markdown",
   "id": "26ffe724",
   "metadata": {},
   "source": [
    "Next we can use width to set the with of our bars while also using align to plot two histograms side-by-side."
   ]
  },
  {
   "cell_type": "code",
   "execution_count": 60,
   "id": "4fc0ae3c",
   "metadata": {},
   "outputs": [
    {
     "data": {
      "image/png": "[encoded data removed]",
      "text/plain": [
       "<Figure size 432x288 with 1 Axes>"
      ]
     },
     "metadata": {
      "needs_background": "light"
     },
     "output_type": "display_data"
    }
   ],
   "source": [
    "width = 0.25\n",
    "thinkplot.PrePlot(8)\n",
    "thinkplot.Hist(attempted_hist, align='right', width=width)\n",
    "thinkplot.Hist(made_hist, align='left', width=width)\n",
    "thinkplot.Config(xlabel='shots', ylabel='Count', xlim=[-1, 15])"
   ]
  },
  {
   "cell_type": "markdown",
   "id": "d7380416",
   "metadata": {},
   "source": [
    "As seen above in our histogram we have some outliers where the shots taken and made reached 9 to 13 which is on the higher side for three pointers as this is a more difficult shot to make. Which is coming from James Harden as well with an average 13.2 attempted and only 4.8 made per game. Also seen in this histogram is our rightward facing tail. "
   ]
  },
  {
   "cell_type": "markdown",
   "id": "51c9aa8b",
   "metadata": {},
   "source": [
    "### Free_Throws_Made and Free_Throws_Attempted Histogram \n",
    "From the NBA_Data frame, we can selection Free_Throws_Attempted and Free_Throws_Made and then compute a histogram for the two groups to show a comparison. "
   ]
  },
  {
   "cell_type": "code",
   "execution_count": 62,
   "id": "775e94a9",
   "metadata": {},
   "outputs": [],
   "source": [
    "import thinkstats2\n",
    "import thinkplot\n",
    "free_attempted = NBA_Data.Free_Throws_Attempted\n",
    "free_made = NBA_Data.Free_Throws_Made\n",
    "\n",
    "attempted_hist = thinkstats2.Hist(free_attempted, label='attempted')\n",
    "made_hist = thinkstats2.Hist(free_made, label='made')"
   ]
  },
  {
   "cell_type": "markdown",
   "id": "77bdd281",
   "metadata": {},
   "source": [
    "Next we can use width to set the with of our bars while also using align to plot two histograms side-by-side."
   ]
  },
  {
   "cell_type": "code",
   "execution_count": 63,
   "id": "cc685ba1",
   "metadata": {},
   "outputs": [
    {
     "data": {
      "image/png": "[encoded data removed]",
      "text/plain": [
       "<Figure size 432x288 with 1 Axes>"
      ]
     },
     "metadata": {
      "needs_background": "light"
     },
     "output_type": "display_data"
    }
   ],
   "source": [
    "width = 0.25\n",
    "thinkplot.PrePlot(8)\n",
    "thinkplot.Hist(attempted_hist, align='right', width=width)\n",
    "thinkplot.Hist(made_hist, align='left', width=width)\n",
    "thinkplot.Config(xlabel='shots', ylabel='Count', xlim=[-1, 15])"
   ]
  },
  {
   "attachments": {},
   "cell_type": "markdown",
   "id": "eec74ccb",
   "metadata": {},
   "source": [
    "As seen above we have some outliers with one of them being for the player Joel Embiid with a salary of $25,467,250 who attempted 10.1 free throws and making 8.2 which is a great percentage which shows an 82% accuracy of making a free throw. While we also see in this histogram is our rightward facing tail pulling to the right as shots taken increases."
   ]
  },
  {
   "cell_type": "markdown",
   "id": "d0b791a0",
   "metadata": {},
   "source": [
    "### Age Histogram \n",
    "From the NBA_Data frame, we can select Age and then compute histogram to see the age groups of the NBA players. "
   ]
  },
  {
   "cell_type": "code",
   "execution_count": 64,
   "id": "8f31726a",
   "metadata": {},
   "outputs": [
    {
     "data": {
      "image/png": "[encoded data removed]",
      "text/plain": [
       "<Figure size 432x288 with 1 Axes>"
      ]
     },
     "metadata": {
      "needs_background": "light"
     },
     "output_type": "display_data"
    }
   ],
   "source": [
    "hist = thinkstats2.Hist(NBA_Data.Age)\n",
    "thinkplot.Hist(hist, label='Age')\n",
    "thinkplot.Config(xlabel='age (years)', ylabel='Count')"
   ]
  },
  {
   "cell_type": "markdown",
   "id": "09a7c5d5",
   "metadata": {},
   "source": [
    "As seen above we see that the highest age group for an NBA player is 25 which is not odd being that 25-year-olds in the NBA are getting their roots in and have a couple years under their belt playing basketball in the NBA and or college. As we also see an outlier with NBA player Vince Carter at the age of 42 with a salary of $2,393,887 which is low in comparison to some of the other, we have seen so far. We also see in this histogram a right tail as the age goes up for NBA players the fewer players we see."
   ]
  },
  {
   "cell_type": "markdown",
   "id": "79ce2627",
   "metadata": {},
   "source": [
    "### Ratings Histogram \n",
    "From the NBA_Data frame, we can select Ratings and then compute a histogram to see the Ratings groups of the NBA players. "
   ]
  },
  {
   "cell_type": "code",
   "execution_count": 70,
   "id": "d4623030",
   "metadata": {
    "scrolled": true
   },
   "outputs": [
    {
     "data": {
      "image/png": "[encoded data removed]",
      "text/plain": [
       "<Figure size 432x288 with 1 Axes>"
      ]
     },
     "metadata": {
      "needs_background": "light"
     },
     "output_type": "display_data"
    }
   ],
   "source": [
    "hist = thinkstats2.Hist(NBA_Data.Ratings)\n",
    "thinkplot.Hist(hist, label='Ratings')\n",
    "thinkplot.Config(xlabel='Ratings (Number)', ylabel='Count')"
   ]
  },
  {
   "attachments": {},
   "cell_type": "markdown",
   "id": "dd664a04",
   "metadata": {},
   "source": [
    "As seen in the histogram above we have some outliers in the below and 95 rating scale which show the worst and best rated players. As our low outlier seen as Ian Clark who has a rating of 57. While our highest rated player being James Harden and Giannis Antetokounmpo who are both rated a 96. These are good outliers which give us a scale of who is the best and worst in the NBA for ratings. While we also see in this histogram is our rightward facing tail as the rating of players goes up the number of players goes down."
   ]
  },
  {
   "cell_type": "markdown",
   "id": "5d364ac0",
   "metadata": {},
   "source": [
    "# Descriptive Characteristics for our Variables"
   ]
  },
  {
   "cell_type": "markdown",
   "id": "aaf59cdb",
   "metadata": {},
   "source": [
    "### Ratings Descriptive Characteristics"
   ]
  },
  {
   "cell_type": "code",
   "execution_count": 135,
   "id": "c72215fc",
   "metadata": {},
   "outputs": [
    {
     "name": "stdout",
     "output_type": "stream",
     "text": [
      "mode: 0    76\n",
      "dtype: int64\n"
     ]
    }
   ],
   "source": [
    "mean = NBA_Data.Ratings.mean()\n",
    "var = NBA_Data.Ratings.var()\n",
    "std = NBA_Data.Ratings.std()\n",
    "mode = NBA_Data.Ratings.mode()\n",
    "print('mode:', mode)"
   ]
  },
  {
   "cell_type": "markdown",
   "id": "6996538f",
   "metadata": {},
   "source": [
    "Next we can see the mean and standard deviation:"
   ]
  },
  {
   "cell_type": "code",
   "execution_count": 75,
   "id": "8d5081c7",
   "metadata": {},
   "outputs": [
    {
     "data": {
      "text/plain": [
       "(78.38793103448276, 5.8015844256579605)"
      ]
     },
     "execution_count": 75,
     "metadata": {},
     "output_type": "execute_result"
    }
   ],
   "source": [
    "mean, std"
   ]
  },
  {
   "cell_type": "markdown",
   "id": "7904446c",
   "metadata": {},
   "source": [
    "### Age Descriptive Characteristics"
   ]
  },
  {
   "cell_type": "code",
   "execution_count": 136,
   "id": "6a3aabbf",
   "metadata": {},
   "outputs": [
    {
     "name": "stdout",
     "output_type": "stream",
     "text": [
      "mode: 0    25\n",
      "dtype: int64\n"
     ]
    }
   ],
   "source": [
    "mean = NBA_Data.Age.mean()\n",
    "var = NBA_Data.Age.var()\n",
    "std = NBA_Data.Age.std()\n",
    "mode = NBA_Data.Age.mode()\n",
    "print('mode:', mode)"
   ]
  },
  {
   "cell_type": "markdown",
   "id": "3c010e72",
   "metadata": {},
   "source": [
    "Next we can see the mean and standard deviation:"
   ]
  },
  {
   "cell_type": "code",
   "execution_count": 77,
   "id": "c0159b70",
   "metadata": {},
   "outputs": [
    {
     "data": {
      "text/plain": [
       "(26.625, 4.051815369955521)"
      ]
     },
     "execution_count": 77,
     "metadata": {},
     "output_type": "execute_result"
    }
   ],
   "source": [
    "mean, std"
   ]
  },
  {
   "cell_type": "markdown",
   "id": "1f4b2a88",
   "metadata": {},
   "source": [
    "### Salary 2018/2019 Descriptive Characteristics"
   ]
  },
  {
   "cell_type": "code",
   "execution_count": 137,
   "id": "cf4c68e2",
   "metadata": {},
   "outputs": [
    {
     "name": "stdout",
     "output_type": "stream",
     "text": [
      "mode: 0    1378242\n",
      "dtype: int64\n"
     ]
    }
   ],
   "source": [
    "mean = NBA_Data.Salary_2018_19.mean()\n",
    "var = NBA_Data.Salary_2018_19.var()\n",
    "std = NBA_Data.Salary_2018_19.std()\n",
    "mode = NBA_Data.Salary_2018_19.mode()\n",
    "print('mode:', mode)"
   ]
  },
  {
   "cell_type": "markdown",
   "id": "41ec57f6",
   "metadata": {},
   "source": [
    "Next we can see the mean and standard deviation:"
   ]
  },
  {
   "cell_type": "code",
   "execution_count": 82,
   "id": "5ac662c7",
   "metadata": {},
   "outputs": [
    {
     "data": {
      "text/plain": [
       "(9445819.012931034, 8869162.893727781)"
      ]
     },
     "execution_count": 82,
     "metadata": {},
     "output_type": "execute_result"
    }
   ],
   "source": [
    "mean, std"
   ]
  },
  {
   "cell_type": "markdown",
   "id": "8e32ef40",
   "metadata": {},
   "source": [
    "### Games Played Descriptive Characteristics"
   ]
  },
  {
   "cell_type": "code",
   "execution_count": 138,
   "id": "52d77f7e",
   "metadata": {},
   "outputs": [
    {
     "name": "stdout",
     "output_type": "stream",
     "text": [
      "mode: 0    64\n",
      "1    81\n",
      "2    82\n",
      "dtype: int64\n"
     ]
    }
   ],
   "source": [
    "mean = NBA_Data.Game_Played.mean()\n",
    "var = NBA_Data.Game_Played.var()\n",
    "std = NBA_Data.Game_Played.std()\n",
    "mode = NBA_Data.Game_Played.mode()\n",
    "print('mode:', mode)"
   ]
  },
  {
   "cell_type": "markdown",
   "id": "79e7694d",
   "metadata": {},
   "source": [
    "Next we can see the mean and standard deviation:"
   ]
  },
  {
   "cell_type": "code",
   "execution_count": 84,
   "id": "9a03a060",
   "metadata": {},
   "outputs": [
    {
     "data": {
      "text/plain": [
       "(71.88793103448276, 7.294986182747614)"
      ]
     },
     "execution_count": 84,
     "metadata": {},
     "output_type": "execute_result"
    }
   ],
   "source": [
    "mean, std"
   ]
  },
  {
   "cell_type": "markdown",
   "id": "a588436b",
   "metadata": {},
   "source": [
    "### Minutes Descriptive Characteristics"
   ]
  },
  {
   "cell_type": "code",
   "execution_count": 139,
   "id": "b8e37499",
   "metadata": {},
   "outputs": [
    {
     "name": "stdout",
     "output_type": "stream",
     "text": [
      "mode: 0    23.2\n",
      "1    27.2\n",
      "2    31.8\n",
      "3    34.0\n",
      "dtype: float64\n"
     ]
    }
   ],
   "source": [
    "mean = NBA_Data.Minutes.mean()\n",
    "var = NBA_Data.Minutes.var()\n",
    "std = NBA_Data.Minutes.std()\n",
    "mode = NBA_Data.Minutes.mode()\n",
    "print('mode:', mode)"
   ]
  },
  {
   "cell_type": "markdown",
   "id": "d13e8d0c",
   "metadata": {},
   "source": [
    "Next we can see the mean and standard deviation:"
   ]
  },
  {
   "cell_type": "code",
   "execution_count": 86,
   "id": "7116bb4d",
   "metadata": {},
   "outputs": [
    {
     "data": {
      "text/plain": [
       "(24.91293103448274, 6.705809720871838)"
      ]
     },
     "execution_count": 86,
     "metadata": {},
     "output_type": "execute_result"
    }
   ],
   "source": [
    "mean, std"
   ]
  },
  {
   "cell_type": "markdown",
   "id": "a1d5198b",
   "metadata": {},
   "source": [
    "### Points Descriptive Characteristics"
   ]
  },
  {
   "cell_type": "code",
   "execution_count": 140,
   "id": "241f6794",
   "metadata": {},
   "outputs": [
    {
     "name": "stdout",
     "output_type": "stream",
     "text": [
      "mode: 0    8.9\n",
      "dtype: float64\n"
     ]
    }
   ],
   "source": [
    "mean = NBA_Data.Points.mean()\n",
    "var = NBA_Data.Points.var()\n",
    "std = NBA_Data.Points.std()\n",
    "mode = NBA_Data.Points.mode()\n",
    "print('mode:', mode)"
   ]
  },
  {
   "cell_type": "markdown",
   "id": "59bc4e26",
   "metadata": {},
   "source": [
    "Next we can see the mean and standard deviation:"
   ]
  },
  {
   "cell_type": "code",
   "execution_count": 92,
   "id": "608eda98",
   "metadata": {},
   "outputs": [
    {
     "data": {
      "text/plain": [
       "(11.83793103448276, 6.0210619530812215)"
      ]
     },
     "execution_count": 92,
     "metadata": {},
     "output_type": "execute_result"
    }
   ],
   "source": [
    "mean, std"
   ]
  },
  {
   "cell_type": "markdown",
   "id": "b8ed7eec",
   "metadata": {},
   "source": [
    "### Field Goals Made Descriptive Characteristics"
   ]
  },
  {
   "cell_type": "code",
   "execution_count": 141,
   "id": "7e9d8c4a",
   "metadata": {},
   "outputs": [
    {
     "name": "stdout",
     "output_type": "stream",
     "text": [
      "mode: 0    2.7\n",
      "1    3.2\n",
      "dtype: float64\n"
     ]
    }
   ],
   "source": [
    "mean = NBA_Data.Field_Goals_Made.mean()\n",
    "var = NBA_Data.Field_Goals_Made.var()\n",
    "std = NBA_Data.Field_Goals_Made.std()\n",
    "mode = NBA_Data.Field_Goals_Made.mode()\n",
    "print('mode:', mode)"
   ]
  },
  {
   "cell_type": "markdown",
   "id": "4b6ead8f",
   "metadata": {},
   "source": [
    "Next we can see the mean and standard deviation:"
   ]
  },
  {
   "cell_type": "code",
   "execution_count": 94,
   "id": "ea626249",
   "metadata": {},
   "outputs": [
    {
     "data": {
      "text/plain": [
       "(4.3659482758620705, 2.133449325221261)"
      ]
     },
     "execution_count": 94,
     "metadata": {},
     "output_type": "execute_result"
    }
   ],
   "source": [
    "mean, std"
   ]
  },
  {
   "cell_type": "markdown",
   "id": "160c0c1c",
   "metadata": {},
   "source": [
    "### Field Goals Attempted Descriptive Characteristics"
   ]
  },
  {
   "cell_type": "code",
   "execution_count": 142,
   "id": "16c61da1",
   "metadata": {},
   "outputs": [
    {
     "name": "stdout",
     "output_type": "stream",
     "text": [
      "mode: 0    6.4\n",
      "1    7.1\n",
      "2    7.3\n",
      "dtype: float64\n"
     ]
    }
   ],
   "source": [
    "mean = NBA_Data.Field_Goals_Attempted.mean()\n",
    "var = NBA_Data.Field_Goals_Attempted.var()\n",
    "std = NBA_Data.Field_Goals_Attempted.std()\n",
    "mode = NBA_Data.Field_Goals_Attempted.mode()\n",
    "print('mode:', mode)"
   ]
  },
  {
   "cell_type": "markdown",
   "id": "f28745c6",
   "metadata": {},
   "source": [
    "Next we can see the mean and standard deviation:"
   ]
  },
  {
   "cell_type": "code",
   "execution_count": 96,
   "id": "c00c8c3b",
   "metadata": {},
   "outputs": [
    {
     "data": {
      "text/plain": [
       "(9.335344827586203, 4.453905418130564)"
      ]
     },
     "execution_count": 96,
     "metadata": {},
     "output_type": "execute_result"
    }
   ],
   "source": [
    "mean, std"
   ]
  },
  {
   "cell_type": "markdown",
   "id": "86d31cfd",
   "metadata": {},
   "source": [
    "### Field Goals Percentage Descriptive Characteristics"
   ]
  },
  {
   "cell_type": "code",
   "execution_count": 143,
   "id": "91e7f9b6",
   "metadata": {},
   "outputs": [
    {
     "name": "stdout",
     "output_type": "stream",
     "text": [
      "mode: 0    41.2\n",
      "1    43.8\n",
      "2    46.7\n",
      "dtype: float64\n"
     ]
    }
   ],
   "source": [
    "mean = NBA_Data.Field_Goals_Percentage.mean()\n",
    "var = NBA_Data.Field_Goals_Percentage.var()\n",
    "std = NBA_Data.Field_Goals_Percentage.std()\n",
    "mode = NBA_Data.Field_Goals_Percentage.mode()\n",
    "print('mode:', mode)"
   ]
  },
  {
   "cell_type": "markdown",
   "id": "d7a57a0d",
   "metadata": {},
   "source": [
    "Next we can see the mean and standard deviation:"
   ]
  },
  {
   "cell_type": "code",
   "execution_count": 98,
   "id": "69762f83",
   "metadata": {},
   "outputs": [
    {
     "data": {
      "text/plain": [
       "(46.88793103448272, 6.60225797886341)"
      ]
     },
     "execution_count": 98,
     "metadata": {},
     "output_type": "execute_result"
    }
   ],
   "source": [
    "mean, std"
   ]
  },
  {
   "cell_type": "markdown",
   "id": "74bd2596",
   "metadata": {},
   "source": [
    "### Three Points Made Descriptive Characteristics"
   ]
  },
  {
   "cell_type": "code",
   "execution_count": 144,
   "id": "28c84c44",
   "metadata": {},
   "outputs": [
    {
     "name": "stdout",
     "output_type": "stream",
     "text": [
      "mode: 0    0.0\n",
      "dtype: float64\n"
     ]
    }
   ],
   "source": [
    "mean = NBA_Data.Three_Points_Made.mean()\n",
    "var = NBA_Data.Three_Points_Made.var()\n",
    "std = NBA_Data.Three_Points_Made.std()\n",
    "mode = NBA_Data.Three_Points_Made.mode()\n",
    "print('mode:', mode)"
   ]
  },
  {
   "cell_type": "markdown",
   "id": "667b54c1",
   "metadata": {},
   "source": [
    "Next we can see the mean and standard deviation:"
   ]
  },
  {
   "cell_type": "code",
   "execution_count": 100,
   "id": "7d8d61f4",
   "metadata": {},
   "outputs": [
    {
     "data": {
      "text/plain": [
       "(1.1896551724137923, 0.8656883566247384)"
      ]
     },
     "execution_count": 100,
     "metadata": {},
     "output_type": "execute_result"
    }
   ],
   "source": [
    "mean, std"
   ]
  },
  {
   "cell_type": "markdown",
   "id": "94580fb2",
   "metadata": {},
   "source": [
    "### Three Points Attempted Descriptive Characteristics"
   ]
  },
  {
   "cell_type": "code",
   "execution_count": 145,
   "id": "f2b08fe5",
   "metadata": {
    "scrolled": true
   },
   "outputs": [
    {
     "name": "stdout",
     "output_type": "stream",
     "text": [
      "mode: 0    0.0\n",
      "dtype: float64\n"
     ]
    }
   ],
   "source": [
    "mean = NBA_Data.Three_Points_Attempted.mean()\n",
    "var = NBA_Data.Three_Points_Attempted.var()\n",
    "std = NBA_Data.Three_Points_Attempted.std()\n",
    "mode = NBA_Data.Three_Points_Attempted.mode()\n",
    "print('mode:', mode)"
   ]
  },
  {
   "cell_type": "markdown",
   "id": "ef6cdbad",
   "metadata": {},
   "source": [
    "Next we can see the mean and standard deviation:"
   ]
  },
  {
   "cell_type": "code",
   "execution_count": 102,
   "id": "95c5fcc5",
   "metadata": {},
   "outputs": [
    {
     "data": {
      "text/plain": [
       "(3.3133620689655174, 2.2592844302426425)"
      ]
     },
     "execution_count": 102,
     "metadata": {},
     "output_type": "execute_result"
    }
   ],
   "source": [
    "mean, std"
   ]
  },
  {
   "cell_type": "markdown",
   "id": "dd4d848a",
   "metadata": {},
   "source": [
    "### Three Points Percentage Descriptive Characteristics"
   ]
  },
  {
   "cell_type": "code",
   "execution_count": 146,
   "id": "477cf3b2",
   "metadata": {},
   "outputs": [
    {
     "name": "stdout",
     "output_type": "stream",
     "text": [
      "mode: 0    0.0\n",
      "dtype: float64\n"
     ]
    }
   ],
   "source": [
    "mean = NBA_Data.Three_Points_Percentage.mean()\n",
    "var = NBA_Data.Three_Points_Percentage.var()\n",
    "std = NBA_Data.Three_Points_Percentage.std()\n",
    "mode = NBA_Data.Three_Points_Percentage.mode()\n",
    "print('mode:', mode)"
   ]
  },
  {
   "cell_type": "markdown",
   "id": "df814263",
   "metadata": {},
   "source": [
    "Next we can see the mean and standard deviation:"
   ]
  },
  {
   "cell_type": "code",
   "execution_count": 104,
   "id": "b48c5dc0",
   "metadata": {},
   "outputs": [
    {
     "data": {
      "text/plain": [
       "(31.72198275862069, 11.035977741444484)"
      ]
     },
     "execution_count": 104,
     "metadata": {},
     "output_type": "execute_result"
    }
   ],
   "source": [
    "mean, std"
   ]
  },
  {
   "cell_type": "markdown",
   "id": "a6bed3d3",
   "metadata": {},
   "source": [
    "### Free Throws Made Descriptive Characteristics"
   ]
  },
  {
   "cell_type": "code",
   "execution_count": 147,
   "id": "81403e84",
   "metadata": {},
   "outputs": [
    {
     "name": "stdout",
     "output_type": "stream",
     "text": [
      "mode: 0    0.8\n",
      "dtype: float64\n"
     ]
    }
   ],
   "source": [
    "mean = NBA_Data.Free_Throws_Made.mean()\n",
    "var = NBA_Data.Free_Throws_Made.var()\n",
    "std = NBA_Data.Free_Throws_Made.std()\n",
    "mode = NBA_Data.Free_Throws_Made.mode()\n",
    "print('mode:', mode)"
   ]
  },
  {
   "cell_type": "markdown",
   "id": "64d307e6",
   "metadata": {},
   "source": [
    "Next we can see the mean and standard deviation:"
   ]
  },
  {
   "cell_type": "code",
   "execution_count": 106,
   "id": "34541298",
   "metadata": {},
   "outputs": [
    {
     "data": {
      "text/plain": [
       "(1.9215517241379299, 1.4843953706343371)"
      ]
     },
     "execution_count": 106,
     "metadata": {},
     "output_type": "execute_result"
    }
   ],
   "source": [
    "mean, std"
   ]
  },
  {
   "cell_type": "markdown",
   "id": "9ddacd93",
   "metadata": {},
   "source": [
    "### Free Throws Attempted Descriptive Characteristics"
   ]
  },
  {
   "cell_type": "code",
   "execution_count": 148,
   "id": "a7fe7023",
   "metadata": {},
   "outputs": [
    {
     "name": "stdout",
     "output_type": "stream",
     "text": [
      "mode: 0    1.0\n",
      "dtype: float64\n"
     ]
    }
   ],
   "source": [
    "mean = NBA_Data.Free_Throws_Attempted.mean()\n",
    "var = NBA_Data.Free_Throws_Attempted.var()\n",
    "std = NBA_Data.Free_Throws_Attempted.std()\n",
    "mode = NBA_Data.Free_Throws_Attempted.mode()\n",
    "print('mode:', mode)"
   ]
  },
  {
   "cell_type": "markdown",
   "id": "bf83edf6",
   "metadata": {},
   "source": [
    "Next we can see the mean and standard deviation:"
   ]
  },
  {
   "cell_type": "code",
   "execution_count": 108,
   "id": "dec0c318",
   "metadata": {},
   "outputs": [
    {
     "data": {
      "text/plain": [
       "(2.4836206896551722, 1.8245058141563795)"
      ]
     },
     "execution_count": 108,
     "metadata": {},
     "output_type": "execute_result"
    }
   ],
   "source": [
    "mean, std"
   ]
  },
  {
   "cell_type": "markdown",
   "id": "f0ae7135",
   "metadata": {},
   "source": [
    "### Free Throws Percentage Descriptive Characteristics"
   ]
  },
  {
   "cell_type": "code",
   "execution_count": 149,
   "id": "622f14ea",
   "metadata": {},
   "outputs": [
    {
     "name": "stdout",
     "output_type": "stream",
     "text": [
      "mode: 0    80.6\n",
      "dtype: float64\n"
     ]
    }
   ],
   "source": [
    "mean = NBA_Data.Free_Throws_Percentage.mean()\n",
    "var = NBA_Data.Free_Throws_Percentage.var()\n",
    "std = NBA_Data.Free_Throws_Percentage.std()\n",
    "mode = NBA_Data.Free_Throws_Percentage.mode()\n",
    "print('mode:', mode)"
   ]
  },
  {
   "cell_type": "markdown",
   "id": "9055397a",
   "metadata": {},
   "source": [
    "Next we can see the mean and standard deviation:"
   ]
  },
  {
   "cell_type": "code",
   "execution_count": 110,
   "id": "28e3087c",
   "metadata": {},
   "outputs": [
    {
     "data": {
      "text/plain": [
       "(76.76810344827585, 8.864463800221793)"
      ]
     },
     "execution_count": 110,
     "metadata": {},
     "output_type": "execute_result"
    }
   ],
   "source": [
    "mean, std"
   ]
  },
  {
   "cell_type": "markdown",
   "id": "bd8d1854",
   "metadata": {},
   "source": [
    "### Offensive Rebounds Descriptive Characteristics"
   ]
  },
  {
   "cell_type": "code",
   "execution_count": 150,
   "id": "09c0a913",
   "metadata": {},
   "outputs": [
    {
     "name": "stdout",
     "output_type": "stream",
     "text": [
      "mode: 0    0.5\n",
      "dtype: float64\n"
     ]
    }
   ],
   "source": [
    "mean = NBA_Data.Offensive_Rebounds.mean()\n",
    "var = NBA_Data.Offensive_Rebounds.var()\n",
    "std = NBA_Data.Offensive_Rebounds.std()\n",
    "mode = NBA_Data.Offensive_Rebounds.mode()\n",
    "print('mode:', mode)"
   ]
  },
  {
   "cell_type": "markdown",
   "id": "ef72ee30",
   "metadata": {},
   "source": [
    "Next we can see the mean and standard deviation:"
   ]
  },
  {
   "cell_type": "code",
   "execution_count": 113,
   "id": "5682d927",
   "metadata": {},
   "outputs": [
    {
     "data": {
      "text/plain": [
       "(1.1073275862068965, 0.9103958111257769)"
      ]
     },
     "execution_count": 113,
     "metadata": {},
     "output_type": "execute_result"
    }
   ],
   "source": [
    "mean, std"
   ]
  },
  {
   "cell_type": "markdown",
   "id": "30e9edfc",
   "metadata": {},
   "source": [
    "### Defensive Rebounds Descriptive Characteristics"
   ]
  },
  {
   "cell_type": "code",
   "execution_count": 151,
   "id": "5c88b2d1",
   "metadata": {},
   "outputs": [
    {
     "name": "stdout",
     "output_type": "stream",
     "text": [
      "mode: 0    2.1\n",
      "dtype: float64\n"
     ]
    }
   ],
   "source": [
    "mean = NBA_Data.Defensive_Rebounds.mean()\n",
    "var = NBA_Data.Defensive_Rebounds.var()\n",
    "std = NBA_Data.Defensive_Rebounds.std()\n",
    "mode = NBA_Data.Defensive_Rebounds.mode()\n",
    "print('mode:', mode)"
   ]
  },
  {
   "cell_type": "markdown",
   "id": "b69bf786",
   "metadata": {},
   "source": [
    "Next we can see the mean and standard deviation:"
   ]
  },
  {
   "cell_type": "code",
   "execution_count": 115,
   "id": "d191c74f",
   "metadata": {},
   "outputs": [
    {
     "data": {
      "text/plain": [
       "(3.6875000000000027, 1.9079620709199814)"
      ]
     },
     "execution_count": 115,
     "metadata": {},
     "output_type": "execute_result"
    }
   ],
   "source": [
    "mean, std"
   ]
  },
  {
   "cell_type": "markdown",
   "id": "97ea2893",
   "metadata": {},
   "source": [
    "### Rebounds Descriptive Characteristics"
   ]
  },
  {
   "cell_type": "code",
   "execution_count": 152,
   "id": "12ecb3bd",
   "metadata": {},
   "outputs": [
    {
     "name": "stdout",
     "output_type": "stream",
     "text": [
      "mode: 0    2.9\n",
      "dtype: float64\n"
     ]
    }
   ],
   "source": [
    "mean = NBA_Data.Rebounds.mean()\n",
    "var = NBA_Data.Rebounds.var()\n",
    "std = NBA_Data.Rebounds.std()\n",
    "mode = NBA_Data.Rebounds.mode()\n",
    "print('mode:', mode)"
   ]
  },
  {
   "cell_type": "markdown",
   "id": "d46ffed3",
   "metadata": {},
   "source": [
    "Next we can see the mean and standard deviation:"
   ]
  },
  {
   "cell_type": "code",
   "execution_count": 117,
   "id": "3fda145a",
   "metadata": {},
   "outputs": [
    {
     "data": {
      "text/plain": [
       "(4.79094827586207, 2.6365980568395986)"
      ]
     },
     "execution_count": 117,
     "metadata": {},
     "output_type": "execute_result"
    }
   ],
   "source": [
    "mean, std"
   ]
  },
  {
   "cell_type": "markdown",
   "id": "4009ba40",
   "metadata": {},
   "source": [
    "### Assists Descriptive Characteristics"
   ]
  },
  {
   "cell_type": "code",
   "execution_count": 153,
   "id": "77852e28",
   "metadata": {},
   "outputs": [
    {
     "name": "stdout",
     "output_type": "stream",
     "text": [
      "mode: 0    1.2\n",
      "dtype: float64\n"
     ]
    }
   ],
   "source": [
    "mean = NBA_Data.Assists.mean()\n",
    "var = NBA_Data.Assists.var()\n",
    "std = NBA_Data.Assists.std()\n",
    "mode = NBA_Data.Assists.mode()\n",
    "print('mode:', mode)"
   ]
  },
  {
   "cell_type": "markdown",
   "id": "0ec6ff3c",
   "metadata": {},
   "source": [
    "Next we can see the mean and standard deviation:"
   ]
  },
  {
   "cell_type": "code",
   "execution_count": 119,
   "id": "0d57a2a8",
   "metadata": {},
   "outputs": [
    {
     "data": {
      "text/plain": [
       "(2.546982758620691, 1.863290725760683)"
      ]
     },
     "execution_count": 119,
     "metadata": {},
     "output_type": "execute_result"
    }
   ],
   "source": [
    "mean, std"
   ]
  },
  {
   "cell_type": "markdown",
   "id": "d2aeb9c1",
   "metadata": {},
   "source": [
    "### Steals Descriptive Characteristics"
   ]
  },
  {
   "cell_type": "code",
   "execution_count": 154,
   "id": "9dc8338c",
   "metadata": {},
   "outputs": [
    {
     "name": "stdout",
     "output_type": "stream",
     "text": [
      "mode: 0    0.5\n",
      "dtype: float64\n"
     ]
    }
   ],
   "source": [
    "mean = NBA_Data.Steals.mean()\n",
    "var = NBA_Data.Steals.var()\n",
    "std = NBA_Data.Steals.std()\n",
    "mode = NBA_Data.Steals.mode()\n",
    "print('mode:', mode)"
   ]
  },
  {
   "cell_type": "markdown",
   "id": "36897a5c",
   "metadata": {},
   "source": [
    "Next we can see the mean and standard deviation:"
   ]
  },
  {
   "cell_type": "code",
   "execution_count": 121,
   "id": "cc992689",
   "metadata": {},
   "outputs": [
    {
     "data": {
      "text/plain": [
       "(0.7827586206896553, 0.390310313235511)"
      ]
     },
     "execution_count": 121,
     "metadata": {},
     "output_type": "execute_result"
    }
   ],
   "source": [
    "mean, std"
   ]
  },
  {
   "cell_type": "markdown",
   "id": "f7cc604f",
   "metadata": {},
   "source": [
    "### Blocks Descriptive Characteristics"
   ]
  },
  {
   "cell_type": "code",
   "execution_count": 155,
   "id": "47751e8b",
   "metadata": {},
   "outputs": [
    {
     "name": "stdout",
     "output_type": "stream",
     "text": [
      "mode: 0    0.4\n",
      "dtype: float64\n"
     ]
    }
   ],
   "source": [
    "mean = NBA_Data.Blocks.mean()\n",
    "var = NBA_Data.Blocks.var()\n",
    "std = NBA_Data.Blocks.std()\n",
    "mode = NBA_Data.Blocks.mode()\n",
    "print('mode:', mode)"
   ]
  },
  {
   "cell_type": "markdown",
   "id": "1127ad37",
   "metadata": {},
   "source": [
    "Next we can see the mean and standard deviation:"
   ]
  },
  {
   "cell_type": "code",
   "execution_count": 123,
   "id": "631a69b3",
   "metadata": {},
   "outputs": [
    {
     "data": {
      "text/plain": [
       "(0.5228448275862071, 0.4630452672690111)"
      ]
     },
     "execution_count": 123,
     "metadata": {},
     "output_type": "execute_result"
    }
   ],
   "source": [
    "mean, std"
   ]
  },
  {
   "cell_type": "markdown",
   "id": "ed388cb2",
   "metadata": {},
   "source": [
    "### Turnovers Descriptive Characteristics"
   ]
  },
  {
   "cell_type": "code",
   "execution_count": 133,
   "id": "f22c09bf",
   "metadata": {
    "scrolled": true
   },
   "outputs": [
    {
     "name": "stdout",
     "output_type": "stream",
     "text": [
      "mode: 0    0.8\n",
      "dtype: float64\n"
     ]
    }
   ],
   "source": [
    "mean = NBA_Data.Turnovers.mean()\n",
    "var = NBA_Data.Turnovers.var()\n",
    "std = NBA_Data.Turnovers.std()\n",
    "mode = NBA_Data.Turnovers.mode()\n",
    "print('mode:', mode)"
   ]
  },
  {
   "cell_type": "markdown",
   "id": "aec2253f",
   "metadata": {},
   "source": [
    "Next we can see the mean and standard deviation:"
   ]
  },
  {
   "cell_type": "code",
   "execution_count": 130,
   "id": "4ec88f31",
   "metadata": {},
   "outputs": [
    {
     "data": {
      "text/plain": [
       "(1.416379310344829, 0.8288043822191515)"
      ]
     },
     "execution_count": 130,
     "metadata": {},
     "output_type": "execute_result"
    }
   ],
   "source": [
    "mean, std"
   ]
  },
  {
   "cell_type": "markdown",
   "id": "2fe1048a",
   "metadata": {},
   "source": [
    "As seen throughout the descriptive statistics for all variables we have seen the mean, mode, and standard deviation. Through this process one variable that stood out to me was the mean and std for the players’ salaries as seen here the Mean: 9,455,819.01 or 8,869,162.90 for the standard deviation. which is large spread as a player can make less than a million or over 20 million depending on the players salary and what we assume their stats. As seen in our histograms we saw that the tails of these faced right as they extended out for shots attempted, higher rankings, and or age increasing. "
   ]
  },
  {
   "cell_type": "markdown",
   "id": "5a25685d",
   "metadata": {},
   "source": [
    "# PMF of NBA Players Efficiency and Salary\n",
    "The Probability Mass Function that we will be representing the distribution is for the variables Salary and efficiency."
   ]
  },
  {
   "cell_type": "code",
   "execution_count": 237,
   "id": "52372d06",
   "metadata": {},
   "outputs": [],
   "source": [
    "sal_data = NBA_Data\n",
    "money = sal_data[sal_data.Salary_2018_19 >= 1]\n",
    "low = NBA_Data[NBA_Data.Salary_2018_19 <= 18500000]\n",
    "high = NBA_Data[NBA_Data.Salary_2018_19 >= 18500000]\n"
   ]
  },
  {
   "cell_type": "markdown",
   "id": "c177d5d9",
   "metadata": {},
   "source": [
    "We can use `MakeFrames` to return DataFrames for all live births, first babies, and others."
   ]
  },
  {
   "cell_type": "code",
   "execution_count": 238,
   "id": "e8ba2deb",
   "metadata": {},
   "outputs": [
    {
     "data": {
      "text/plain": [
       "(     Unnamed: 0            Player  Ratings Team  Age  Height  Weight  \\\n",
       " 0             0     Kent Bazemore       76  ATL   29   5-Jun     201   \n",
       " 1             1    Dewayne Dedmon       77  ATL   29  Jul-00     245   \n",
       " 2             2      John Collins       84  ATL   21  10-Jun     235   \n",
       " 3             3        Trae Young       84  ATL   20   2-Jun     180   \n",
       " 4             4     Kevin Huerter       74  ATL   20   7-Jun     190   \n",
       " ..          ...               ...      ...  ...  ...     ...     ...   \n",
       " 227         227  Tomas Satoransky       76  WAS   27   7-Jun     210   \n",
       " 228         228        Jeff Green       77  WAS   32   9-Jun     235   \n",
       " 229         229     Thomas Bryant       78  WAS   21  11-Jun     248   \n",
       " 230         230      Trevor Ariza       76  WAS   33   8-Jun     215   \n",
       " 231         231     Jabari Parker       79  WAS   24   8-Jun     245   \n",
       " \n",
       "             College     Country  Draft_Year  ... Free_Throws_Attempted  \\\n",
       " 0               Old    Dominion         USA  ...                   2.6   \n",
       " 1          Southern  California         USA  ...                   1.8   \n",
       " 2              Wake      Forest         USA  ...                   4.4   \n",
       " 3          Oklahoma         USA        2018  ...                   5.1   \n",
       " 4          Maryland         USA        2018  ...                   0.7   \n",
       " ..              ...         ...         ...  ...                   ...   \n",
       " 227            None       Czech  Republi...  ...                   2.0   \n",
       " 228      Georgetown         USA        2007  ...                   2.7   \n",
       " 229         Indiana         USA        2017  ...                   1.9   \n",
       " 230  California-Los     Angeles         USA  ...                   2.4   \n",
       " 231            Duke         USA        2014  ...                   2.9   \n",
       " \n",
       "     Free_Throws_Percentage Offensive_Rebounds  Defensive_Rebounds  Rebounds  \\\n",
       " 0                     72.6                0.6                 3.3       3.9   \n",
       " 1                     81.4                1.6                 5.9       7.5   \n",
       " 2                     76.3                3.6                 6.2       9.8   \n",
       " 3                     82.9                0.8                 2.9       3.7   \n",
       " 4                     73.2                0.8                 2.5       3.3   \n",
       " ..                     ...                ...                 ...       ...   \n",
       " 227                   81.9                1.0                 2.5       3.5   \n",
       " 228                   88.8                0.7                 3.3       4.0   \n",
       " 229                   78.1                1.6                 4.7       6.3   \n",
       " 230                   79.3                0.7                 4.7       5.4   \n",
       " 231                   71.2                1.2                 5.3       6.6   \n",
       " \n",
       "      Assists  Steals  Blocks  Turnovers  Efficiency_Rating  \n",
       " 0        2.3     1.3     0.6        1.8               11.1  \n",
       " 1        1.4     1.1     1.1        1.3               16.1  \n",
       " 2        2.0     0.4     0.6        2.0               23.2  \n",
       " 3        8.1     0.9     0.2        3.8               18.3  \n",
       " 4        2.9     0.9     0.3        1.5               10.3  \n",
       " ..       ...     ...     ...        ...                ...  \n",
       " 227      5.0     1.0     0.2        1.5               13.3  \n",
       " 228      1.8     0.6     0.5        1.3               12.8  \n",
       " 229      1.3     0.3     0.9        0.8               15.5  \n",
       " 230      3.7     1.3     0.3        1.5               14.7  \n",
       " 231      2.4     0.7     0.5        2.4               15.5  \n",
       " \n",
       " [232 rows x 34 columns],\n",
       "      Unnamed: 0            Player  Ratings Team  Age  Height  Weight  \\\n",
       " 0             0     Kent Bazemore       76  ATL   29   5-Jun     201   \n",
       " 1             1    Dewayne Dedmon       77  ATL   29  Jul-00     245   \n",
       " 2             2      John Collins       84  ATL   21  10-Jun     235   \n",
       " 3             3        Trae Young       84  ATL   20   2-Jun     180   \n",
       " 4             4     Kevin Huerter       74  ATL   20   7-Jun     190   \n",
       " ..          ...               ...      ...  ...  ...     ...     ...   \n",
       " 225         225        Jeremy Lin       75  TOR   30   3-Jun     200   \n",
       " 227         227  Tomas Satoransky       76  WAS   27   7-Jun     210   \n",
       " 228         228        Jeff Green       77  WAS   32   9-Jun     235   \n",
       " 229         229     Thomas Bryant       78  WAS   21  11-Jun     248   \n",
       " 230         230      Trevor Ariza       76  WAS   33   8-Jun     215   \n",
       " \n",
       "             College     Country  Draft_Year  ... Free_Throws_Attempted  \\\n",
       " 0               Old    Dominion         USA  ...                   2.6   \n",
       " 1          Southern  California         USA  ...                   1.8   \n",
       " 2              Wake      Forest         USA  ...                   4.4   \n",
       " 3          Oklahoma         USA        2018  ...                   5.1   \n",
       " 4          Maryland         USA        2018  ...                   0.7   \n",
       " ..              ...         ...         ...  ...                   ...   \n",
       " 225         Harvard         USA   Undrafted  ...                   2.8   \n",
       " 227            None       Czech  Republi...  ...                   2.0   \n",
       " 228      Georgetown         USA        2007  ...                   2.7   \n",
       " 229         Indiana         USA        2017  ...                   1.9   \n",
       " 230  California-Los     Angeles         USA  ...                   2.4   \n",
       " \n",
       "     Free_Throws_Percentage Offensive_Rebounds  Defensive_Rebounds  Rebounds  \\\n",
       " 0                     72.6                0.6                 3.3       3.9   \n",
       " 1                     81.4                1.6                 5.9       7.5   \n",
       " 2                     76.3                3.6                 6.2       9.8   \n",
       " 3                     82.9                0.8                 2.9       3.7   \n",
       " 4                     73.2                0.8                 2.5       3.3   \n",
       " ..                     ...                ...                 ...       ...   \n",
       " 225                   83.8                0.3                 2.1       2.4   \n",
       " 227                   81.9                1.0                 2.5       3.5   \n",
       " 228                   88.8                0.7                 3.3       4.0   \n",
       " 229                   78.1                1.6                 4.7       6.3   \n",
       " 230                   79.3                0.7                 4.7       5.4   \n",
       " \n",
       "      Assists  Steals  Blocks  Turnovers  Efficiency_Rating  \n",
       " 0        2.3     1.3     0.6        1.8               11.1  \n",
       " 1        1.4     1.1     1.1        1.3               16.1  \n",
       " 2        2.0     0.4     0.6        2.0               23.2  \n",
       " 3        8.1     0.9     0.2        3.8               18.3  \n",
       " 4        2.9     0.9     0.3        1.5               10.3  \n",
       " ..       ...     ...     ...        ...                ...  \n",
       " 225      3.1     0.6     0.2        1.7                9.7  \n",
       " 227      5.0     1.0     0.2        1.5               13.3  \n",
       " 228      1.8     0.6     0.5        1.3               12.8  \n",
       " 229      1.3     0.3     0.9        0.8               15.5  \n",
       " 230      3.7     1.3     0.3        1.5               14.7  \n",
       " \n",
       " [191 rows x 34 columns],\n",
       "      Unnamed: 0                 Player  Ratings Team  Age  Height  Weight  \\\n",
       " 8             8         Gordon Hayward       80  BOS   29   8-Jun     225   \n",
       " 9             9             Al Horford       86  BOS   32  10-Jun     245   \n",
       " 13           13           Kyrie Irving       92  BOS   27   3-Jun     193   \n",
       " 23           23          Nicolas Batum       76  CHA   30   8-Jun     200   \n",
       " 32           32            Zach LaVine       86  CHI   24   5-Jun     200   \n",
       " 50           50           Nikola Jokic       92  DEN   24  Jul-00     250   \n",
       " 52           52           Paul Millsap       83  DEN   34   8-Jun     246   \n",
       " 57           57         Andre Drummond       87  DET   25  11-Jun     279   \n",
       " 61           61          Blake Griffin       87  DET   30  10-Jun     250   \n",
       " 70           70          Klay Thompson       88  GSW   29   7-Jun     215   \n",
       " 71           71          Stephen Curry       95  GSW   31   3-Jun     190   \n",
       " 72           72           Kevin Durant       95  GSW   30   9-Jun     240   \n",
       " 78           78           James Harden       96  HOU   29   5-Jun     220   \n",
       " 79           79             Chris Paul       87  HOU   33  Jun-00     175   \n",
       " 91           91        Wesley Matthews       76  IND   32   5-Jun     220   \n",
       " 93           93       Danilo Gallinari       85  LAC   30  10-Jun     225   \n",
       " 109         109            Mike Conley       87  MEM   31   1-Jun     175   \n",
       " 117         117       Hassan Whiteside       83  MIA   29  Jul-00     265   \n",
       " 120         120  Giannis Antetokounmpo       96  MIL   24  11-Jun     242   \n",
       " 129         129            George Hill       74  MIL   32   3-Jun     188   \n",
       " 135         135         Andrew Wiggins       80  MIN   24   8-Jun     194   \n",
       " 141         141           Jrue Holiday       86  NOP   28   4-Jun     205   \n",
       " 154         154         DeAndre Jordan       83  NYK   30  11-Jun     265   \n",
       " 155         155           Steven Adams       84  OKC   25  Jul-00     265   \n",
       " 157         157            Paul George       93  OKC   28   9-Jun     220   \n",
       " 160         160      Russell Westbrook       90  OKC   30   3-Jun     200   \n",
       " 165         165           Aaron Gordon       80  ORL   23   9-Jun     220   \n",
       " 170         170            Joel Embiid       93  PHI   25  Jul-00     250   \n",
       " 172         172           Jimmy Butler       88  PHI   29   8-Jun     232   \n",
       " 186         186         Damian Lillard       92  POR   28   3-Jun     195   \n",
       " 191         191            Enes Kanter       81  POR   26  11-Jun     250   \n",
       " 198         198        Harrison Barnes       79  SAC   26   8-Jun     225   \n",
       " 199         199      LaMarcus Aldridge       88  SAS   33  11-Jun     260   \n",
       " 206         206          DeMar DeRozan       87  SAS   29   7-Jun     220   \n",
       " 209         209            Rudy Gobert       89  UTA   26   1-Jul     245   \n",
       " 217         217            Serge Ibaka       82  TOR   29  10-Jun     235   \n",
       " 218         218             Kyle Lowry       84  TOR   33   1-Jun     196   \n",
       " 222         222          Kawhi Leonard       95  TOR   27   7-Jun     230   \n",
       " 224         224             Marc Gasol       83  TOR   34   1-Jul     255   \n",
       " 226         226           Bradley Beal       88  WAS   25   5-Jun     207   \n",
       " 231         231          Jabari Parker       79  WAS   24   8-Jun     245   \n",
       " \n",
       "             College     Country Draft_Year  ... Free_Throws_Attempted  \\\n",
       " 8            Butler         USA       2010  ...                   2.6   \n",
       " 9           Florida   Dominican     Rep...  ...                   1.4   \n",
       " 13             Duke   Australia       2011  ...                   3.7   \n",
       " 23             None      France       2008  ...                   1.2   \n",
       " 32   California-Los     Angeles        USA  ...                   6.0   \n",
       " 50             None      Serbia       2014  ...                   4.4   \n",
       " 52        Louisiana        Tech        USA  ...                   3.6   \n",
       " 57      Connecticut         USA       2012  ...                   5.2   \n",
       " 61         Oklahoma         USA       2009  ...                   7.3   \n",
       " 70       Washington       State        USA  ...                   2.0   \n",
       " 71         Davidson         USA       2009  ...                   4.2   \n",
       " 72            Texas         USA       2007  ...                   6.5   \n",
       " 78          Arizona       State        USA  ...                  11.0   \n",
       " 79             Wake      Forest        USA  ...                   3.5   \n",
       " 91        Marquette         USA  Undrafted  ...                   2.4   \n",
       " 93             None       Italy       2008  ...                   6.0   \n",
       " 109            Ohio       State        USA  ...                   5.8   \n",
       " 117        Marshall         USA       2010  ...                   3.4   \n",
       " 120            None      Greece       2013  ...                   9.5   \n",
       " 129           IUPUI         USA       2008  ...                   1.4   \n",
       " 135          Kansas      Canada       2014  ...                   4.1   \n",
       " 141  California-Los     Angeles        USA  ...                   4.0   \n",
       " 154           Texas         A&M        USA  ...                   3.8   \n",
       " 155      Pittsburgh         New    Zealand  ...                   3.7   \n",
       " 157          Fresno       State        USA  ...                   7.0   \n",
       " 160  California-Los     Angeles        USA  ...                   6.2   \n",
       " 165         Arizona         USA       2014  ...                   3.2   \n",
       " 170          Kansas    Cameroon       2014  ...                  10.1   \n",
       " 172       Marquette         USA       2011  ...                   5.6   \n",
       " 186           Weber       State        USA  ...                   6.4   \n",
       " 191        Kentucky      Turkey       2011  ...                   2.9   \n",
       " 198           North    Carolina        USA  ...                   3.6   \n",
       " 199           Texas         USA       2006  ...                   5.1   \n",
       " 206        Southern  California        USA  ...                   5.7   \n",
       " 209            None      France       2013  ...                   6.4   \n",
       " 217            None  Democratic      Re...  ...                   2.4   \n",
       " 218       Villanova         USA       2006  ...                   3.0   \n",
       " 222             San       Diego      State  ...                   7.1   \n",
       " 224            None       Spain       2007  ...                   3.2   \n",
       " 226         Florida         USA       2012  ...                   5.5   \n",
       " 231            Duke         USA       2014  ...                   2.9   \n",
       " \n",
       "     Free_Throws_Percentage Offensive_Rebounds  Defensive_Rebounds  Rebounds  \\\n",
       " 8                     83.4                0.7                 3.8       4.5   \n",
       " 9                     82.1                1.8                 5.0       6.7   \n",
       " 13                    87.3                1.1                 3.9       5.0   \n",
       " 23                    86.5                0.9                 4.3       5.2   \n",
       " 32                    83.2                0.6                 4.0       4.7   \n",
       " 50                    82.1                2.9                 8.0      10.8   \n",
       " 52                    72.7                2.2                 5.0       7.2   \n",
       " 57                    59.0                5.4                10.2      15.6   \n",
       " 61                    75.3                1.3                 6.2       7.5   \n",
       " 70                    81.6                0.5                 3.4       3.8   \n",
       " 71                    91.6                0.7                 4.7       5.3   \n",
       " 72                    88.5                0.4                 5.9       6.4   \n",
       " 78                    87.9                0.8                 5.8       6.6   \n",
       " 79                    86.2                0.6                 3.9       4.6   \n",
       " 91                    81.0                0.5                 2.0       2.5   \n",
       " 93                    90.4                0.8                 5.3       6.1   \n",
       " 109                   84.5                0.6                 2.8       3.4   \n",
       " 117                   44.9                3.6                 7.8      11.3   \n",
       " 120                   72.9                2.2                10.3      12.5   \n",
       " 129                   82.4                0.7                 1.8       2.5   \n",
       " 135                   69.9                1.1                 3.7       4.8   \n",
       " 141                   76.8                1.1                 3.9       5.0   \n",
       " 154                   70.5                3.3                 9.8      13.1   \n",
       " 155                   50.0                4.9                 4.6       9.5   \n",
       " 157                   83.9                1.4                 6.8       8.2   \n",
       " 160                   65.6                1.5                 9.6      11.1   \n",
       " 165                   73.1                1.7                 5.7       7.4   \n",
       " 170                   80.4                2.5                11.1      13.6   \n",
       " 172                   85.5                1.9                 3.4       5.3   \n",
       " 186                   91.2                0.9                 3.8       4.6   \n",
       " 191                   78.7                3.8                 6.0       9.8   \n",
       " 198                   82.4                0.7                 3.9       4.7   \n",
       " 199                   84.7                3.1                 6.1       9.2   \n",
       " 206                   83.0                0.7                 5.3       6.0   \n",
       " 209                   63.6                3.8                 9.0      12.9   \n",
       " 217                   76.3                2.1                 6.0       8.1   \n",
       " 218                   83.0                0.6                 4.2       4.8   \n",
       " 222                   85.4                1.3                 6.0       7.3   \n",
       " 224                   75.9                1.0                 6.9       7.9   \n",
       " 226                   80.8                1.1                 3.9       5.0   \n",
       " 231                   71.2                1.2                 5.3       6.6   \n",
       " \n",
       "      Assists  Steals  Blocks  Turnovers  Efficiency_Rating  \n",
       " 8        3.4     0.9     0.3        1.5               13.9  \n",
       " 9        4.2     0.9     1.3        1.5               19.9  \n",
       " 13       6.9     1.5     0.5        2.6               25.3  \n",
       " 23       3.3     0.9     0.6        1.6               13.5  \n",
       " 32       4.5     1.0     0.4        3.4               20.2  \n",
       " 50       7.3     1.4     0.7        3.1               28.9  \n",
       " 52       2.0     1.2     0.8        1.4               16.6  \n",
       " 57       1.4     1.7     1.7        2.2               27.3  \n",
       " 61       5.4     0.7     0.4        3.4               23.7  \n",
       " 70       2.4     1.1     0.6        1.5               18.0  \n",
       " 71       5.2     1.3     0.4        2.8               26.1  \n",
       " 72       5.9     0.7     1.1        2.9               27.9  \n",
       " 78       7.5     2.0     0.7        5.0               33.1  \n",
       " 79       8.2     2.0     0.3        2.6               20.3  \n",
       " 91       2.3     0.8     0.2        1.3               10.1  \n",
       " 93       2.6     0.7     0.3        1.5               20.6  \n",
       " 109      6.4     1.3     0.3        1.9               20.8  \n",
       " 117      0.8     0.6     1.9        1.3               19.7  \n",
       " 120      5.9     1.3     1.5        3.7               35.3  \n",
       " 129      2.3     0.9     0.1        0.9                8.8  \n",
       " 135      2.5     1.0     0.7        1.9               14.2  \n",
       " 141      7.7     1.6     0.8        3.1               23.1  \n",
       " 154      2.3     0.6     1.1        2.2               22.3  \n",
       " 155      1.6     1.5     1.0        1.7               19.7  \n",
       " 157      4.1     2.2     0.4        2.7               27.4  \n",
       " 160     10.7     1.9     0.5        4.5               29.0  \n",
       " 165      3.7     0.7     0.7        2.1               18.2  \n",
       " 170      3.7     0.7     1.9        3.5               32.2  \n",
       " 172      4.0     1.9     0.6        1.5               20.7  \n",
       " 186      6.9     1.1     0.4        2.7               25.0  \n",
       " 191      1.7     0.5     0.4        1.8               19.1  \n",
       " 198      1.5     0.6     0.2        1.3               13.8  \n",
       " 199      2.4     0.5     1.3        1.8               24.4  \n",
       " 206      6.2     1.1     0.5        2.6               22.6  \n",
       " 209      2.0     0.8     2.3        1.6               27.0  \n",
       " 217      1.3     0.4     1.4        1.5               18.6  \n",
       " 218      8.7     1.4     0.5        2.8               19.6  \n",
       " 222      3.3     1.8     0.4        2.0               26.9  \n",
       " 224      4.4     1.1     1.1        2.0               19.3  \n",
       " 226      5.5     1.5     0.7        2.7               24.2  \n",
       " 231      2.4     0.7     0.5        2.4               15.5  \n",
       " \n",
       " [41 rows x 34 columns])"
      ]
     },
     "execution_count": 238,
     "metadata": {},
     "output_type": "execute_result"
    }
   ],
   "source": [
    "import thinkstats2\n",
    "import thinkplot\n",
    "money, low, high "
   ]
  },
  {
   "cell_type": "markdown",
   "id": "5ac612ca",
   "metadata": {},
   "source": [
    "As seen below we see the distributions of the NBA players efficiency."
   ]
  },
  {
   "cell_type": "code",
   "execution_count": 239,
   "id": "46649519",
   "metadata": {},
   "outputs": [],
   "source": [
    "low_pmf = thinkstats2.Pmf(low.Efficiency_Rating, label='low')\n",
    "high_pmf = thinkstats2.Pmf(high.Efficiency_Rating, label='high')"
   ]
  },
  {
   "cell_type": "markdown",
   "id": "0377c37d",
   "metadata": {},
   "source": [
    "Seen below is the code for my PMF that shows the efficiency of the NBA players with low and high salaries. As we can see a major spike in 20 for efficiency."
   ]
  },
  {
   "cell_type": "code",
   "execution_count": 253,
   "id": "cdd214f7",
   "metadata": {},
   "outputs": [
    {
     "data": {
      "image/png": "[encoded data removed]",
      "text/plain": [
       "<Figure size 864x432 with 2 Axes>"
      ]
     },
     "metadata": {
      "needs_background": "light"
     },
     "output_type": "display_data"
    }
   ],
   "source": [
    "width=0.45\n",
    "axis = [1, 36, 0, 0.05]\n",
    "thinkplot.PrePlot(2, cols=2)\n",
    "thinkplot.Hist(low_pmf, align='right', width=width)\n",
    "thinkplot.Hist(high_pmf, align='left', width=width)\n",
    "thinkplot.Config(xlabel='Efficiency', ylabel='PMF', axis=axis)\n",
    "\n",
    "thinkplot.PrePlot(2)\n",
    "thinkplot.SubPlot(2)\n",
    "thinkplot.Pmfs([low_pmf, high_pmf])\n",
    "thinkplot.Config(xlabel='Efficiency', axis=axis)"
   ]
  },
  {
   "cell_type": "markdown",
   "id": "a7141c4e",
   "metadata": {},
   "source": [
    "# CDF of NBA Players Ratings\n",
    "The cumulative distribution function is used to map from a value to its percentile rank as seen below is the ranks of the NBA players ratings within the league. "
   ]
  },
  {
   "cell_type": "code",
   "execution_count": 261,
   "id": "a015bbda",
   "metadata": {
    "scrolled": true
   },
   "outputs": [
    {
     "data": {
      "image/png": "[encoded data removed]",
      "text/plain": [
       "<Figure size 432x288 with 1 Axes>"
      ]
     },
     "metadata": {
      "needs_background": "light"
     },
     "output_type": "display_data"
    }
   ],
   "source": [
    "cdf = thinkstats2.Cdf(NBA_Data.Ratings, label='Ratings')\n",
    "thinkplot.Cdf(cdf)\n",
    "thinkplot.Config(xlabel='NBA Players Rating (1 out of 100)', ylabel='CDF', loc='upper left')"
   ]
  },
  {
   "cell_type": "markdown",
   "id": "8576d0dd",
   "metadata": {},
   "source": [
    "The **CDF** seen above shows an upward movement as the CDF goes up the NBA players ratings follow. While we can use the **Prob** to evaluate the CDF which computes the fraction of values less than or equal to the given value. As seen below 36% of NBA players ratings are less than or equal to a rating of 75."
   ]
  },
  {
   "cell_type": "code",
   "execution_count": 262,
   "id": "20c740a4",
   "metadata": {},
   "outputs": [
    {
     "data": {
      "text/plain": [
       "0.3620689655172414"
      ]
     },
     "execution_count": 262,
     "metadata": {},
     "output_type": "execute_result"
    }
   ],
   "source": [
    "cdf.Prob(75)"
   ]
  },
  {
   "cell_type": "markdown",
   "id": "c6a18981",
   "metadata": {},
   "source": [
    "Next we can use the **cdf.Value** which will evaluate the inverse of the CDF. As the median rating of all NBA players ratings is a 77 which 10 points higher than the lowest rating of 67. As the CDF helps tie the answer to our question by finding out the players rating and seeing if that percentage goes along with the players skills and pay. "
   ]
  },
  {
   "cell_type": "code",
   "execution_count": 264,
   "id": "18894452",
   "metadata": {},
   "outputs": [
    {
     "data": {
      "text/plain": [
       "77"
      ]
     },
     "execution_count": 264,
     "metadata": {},
     "output_type": "execute_result"
    }
   ],
   "source": [
    "cdf.Value(0.5)"
   ]
  },
  {
   "cell_type": "markdown",
   "id": "7392e80b",
   "metadata": {},
   "source": [
    "## Normal distribution for Points Scored by NBA Players\n",
    "I am going to use the example from chapter five in our book on  normal CDF with a range of parameters and build off it with my NBA data."
   ]
  },
  {
   "cell_type": "code",
   "execution_count": 271,
   "id": "b3fc1f93",
   "metadata": {},
   "outputs": [
    {
     "data": {
      "image/png": "[encoded data removed]",
      "text/plain": [
       "<Figure size 432x288 with 1 Axes>"
      ]
     },
     "metadata": {
      "needs_background": "light"
     },
     "output_type": "display_data"
    }
   ],
   "source": [
    "thinkplot.PrePlot(3)\n",
    "\n",
    "mus = [1.0, 2.0, 3.0]\n",
    "sigmas = [0.5, 0.4, 0.3]\n",
    "for mu, sigma in zip(mus, sigmas):\n",
    "    xs, ps = thinkstats2.RenderNormalCdf(mu=mu, sigma=sigma, \n",
    "                                               low=-1.0, high=4.0)\n",
    "    label = r'$\\mu=%g$, $\\sigma=%g$' % (mu, sigma)\n",
    "    thinkplot.Plot(xs, ps, label=label)\n",
    "\n",
    "thinkplot.Config(title='Normal CDF', xlabel='x', ylabel='CDF',\n",
    "                 loc='upper left')"
   ]
  },
  {
   "cell_type": "markdown",
   "id": "105ae00d",
   "metadata": {},
   "source": [
    "Now using the normal model above I will fit the distribution of Points made from the NBA_Data."
   ]
  },
  {
   "cell_type": "code",
   "execution_count": 273,
   "id": "4485eeda",
   "metadata": {},
   "outputs": [],
   "source": [
    "point = NBA_Data.Points.dropna()"
   ]
  },
  {
   "cell_type": "code",
   "execution_count": 283,
   "id": "6d6f9a32",
   "metadata": {},
   "outputs": [
    {
     "name": "stdout",
     "output_type": "stream",
     "text": [
      "Mean, Var 11.452857142857145 22.735444217687075\n",
      "Sigma 4.768169902351119\n"
     ]
    },
    {
     "data": {
      "image/png": "[encoded data removed]",
      "text/plain": [
       "<Figure size 432x288 with 1 Axes>"
      ]
     },
     "metadata": {
      "needs_background": "light"
     },
     "output_type": "display_data"
    }
   ],
   "source": [
    "import numpy as np\n",
    "\n",
    "# First we will estimate parameters by trimming outliers for a better fit\n",
    "mu, var = thinkstats2.TrimmedMeanVar(point, p=0.05)\n",
    "print('Mean, Var', mu, var)\n",
    "    \n",
    "# plot the model\n",
    "sigma = np.sqrt(var)\n",
    "print('Sigma', sigma)\n",
    "xs, ps = thinkstats2.RenderNormalCdf(mu, sigma, low=0, high=37)\n",
    "\n",
    "thinkplot.Plot(xs, ps, label='model', color='0.6')\n",
    "\n",
    "# plot the data\n",
    "cdf = thinkstats2.Cdf(point, label='data')\n",
    "\n",
    "thinkplot.PrePlot(1)\n",
    "thinkplot.Cdf(cdf) \n",
    "thinkplot.Config(title='Points by Players',\n",
    "                 xlabel='Points',\n",
    "                 ylabel='CDF')"
   ]
  },
  {
   "cell_type": "markdown",
   "id": "465bda8a",
   "metadata": {},
   "source": [
    "As seen above we have computed a visual test for normality. I the plot above we see that points data is not from a normal distribution, as the plot is not straight."
   ]
  },
  {
   "cell_type": "markdown",
   "id": "aa0e9e99",
   "metadata": {},
   "source": [
    "Next is a normal probability plot for points earned by NBA players. Which is seeing some players scored lower or higher than expected. "
   ]
  },
  {
   "cell_type": "code",
   "execution_count": 290,
   "id": "56fa40a9",
   "metadata": {},
   "outputs": [
    {
     "data": {
      "image/png": "[encoded data removed]",
      "text/plain": [
       "<Figure size 432x288 with 1 Axes>"
      ]
     },
     "metadata": {
      "needs_background": "light"
     },
     "output_type": "display_data"
    }
   ],
   "source": [
    "mean, var = thinkstats2.TrimmedMeanVar(point, p=0.01)\n",
    "std = np.sqrt(var)\n",
    "\n",
    "xs = [-3.5, 3.5]\n",
    "fxs, fys = thinkstats2.FitLine(xs, mean, std)\n",
    "thinkplot.Plot(fxs, fys, linewidth=4, color='0.8')\n",
    "\n",
    "xs, ys = thinkstats2.NormalProbability(point)\n",
    "thinkplot.Plot(xs, ys, label='all players')\n",
    "\n",
    "thinkplot.Config(title='Normal probability plot',\n",
    "                 xlabel='Standard deviations from mean',\n",
    "                 ylabel='Points by Player')"
   ]
  },
  {
   "cell_type": "markdown",
   "id": "673815e3",
   "metadata": {},
   "source": [
    "# Scatter Plots for NBA Stats\n",
    "In the first scatter plot below you will see the two variable Field Goals Made and the Salary for the NBA players. From this plot we will analyze and determine if these variables are correlated and the relationship, they share Linear or Non-Linear."
   ]
  },
  {
   "cell_type": "code",
   "execution_count": 292,
   "id": "fcd02660",
   "metadata": {},
   "outputs": [
    {
     "data": {
      "image/png": "[encoded data removed]",
      "text/plain": [
       "<Figure size 432x288 with 1 Axes>"
      ]
     },
     "metadata": {
      "needs_background": "light"
     },
     "output_type": "display_data"
    }
   ],
   "source": [
    "thinkplot.Scatter(NBA_Data.Field_Goals_Made, NBA_Data.Salary_2018_19, alpha=1)\n",
    "thinkplot.Config(xlabel='Field Goals (Shots Made)',\n",
    "                 ylabel='Salary (Million Dollars)',\n",
    "                 axis=[0, 11, 1000000, 38000000],\n",
    "                 legend=False)"
   ]
  },
  {
   "cell_type": "markdown",
   "id": "6482b843",
   "metadata": {},
   "source": [
    "In the scatter plot above that shows the relationship between Field Goals Made and the Salary of NBA players we see that the two variables are correlated and do have a linear relationship. As we see that the salary of the players goes up as the field goals made rises. This helps put us in the right direction in understanding what changes the NBA players salary as seen shots made shows an increase in salary for players. "
   ]
  },
  {
   "cell_type": "markdown",
   "id": "08587ea1",
   "metadata": {},
   "source": [
    "In our second scatter plot we will see the two variables NBA Players Ratings and the Rebounds made by the players. After conducting this plot, we will analyze and determine if these variables are correlated and the relationship, they share such as Linear or Non-Linea."
   ]
  },
  {
   "cell_type": "code",
   "execution_count": 302,
   "id": "db95de3d",
   "metadata": {},
   "outputs": [
    {
     "data": {
      "image/png": "[encoded data removed]",
      "text/plain": [
       "<Figure size 432x288 with 1 Axes>"
      ]
     },
     "metadata": {
      "needs_background": "light"
     },
     "output_type": "display_data"
    }
   ],
   "source": [
    "thinkplot.Scatter(NBA_Data.Rebounds, NBA_Data.Ratings, alpha=0.5, s=10)\n",
    "thinkplot.Config(xlabel='Rebounds (Possessions Made)',\n",
    "                 ylabel='NBA Player Rating (Ranking)',\n",
    "                 axis=[0, 17, 65, 100],\n",
    "                 legend=False)"
   ]
  },
  {
   "cell_type": "markdown",
   "id": "b67fa525",
   "metadata": {},
   "source": [
    "In the second scatter plot above that show the relationship between NBA Players Ratings and the Rebounds made by the players we see that the two variables are correlated and do have somewhat of a linear relationship. As we see that the rebounds made by the players goes up as the Ratings of the players rise as well. This shows that we have a correlation between these two variables but does not mean causation as there is many more variables that go into factor to determine the players rating."
   ]
  },
  {
   "cell_type": "markdown",
   "id": "bfbf6d2a",
   "metadata": {},
   "source": [
    "## Multiple regression for NBA Stats\n",
    "We will be conducting multiple regressions using the NBA data set. But first we will use the variable Minutes played in games as a function of the NBA players salary."
   ]
  },
  {
   "cell_type": "code",
   "execution_count": 312,
   "id": "ba9fcaf4",
   "metadata": {},
   "outputs": [
    {
     "data": {
      "text/html": [
       "<table class=\"simpletable\">\n",
       "<caption>OLS Regression Results</caption>\n",
       "<tr>\n",
       "  <th>Dep. Variable:</th>    <td>NBA_Data.Minutes</td> <th>  R-squared:         </th> <td>   0.325</td>\n",
       "</tr>\n",
       "<tr>\n",
       "  <th>Model:</th>                   <td>OLS</td>       <th>  Adj. R-squared:    </th> <td>   0.322</td>\n",
       "</tr>\n",
       "<tr>\n",
       "  <th>Method:</th>             <td>Least Squares</td>  <th>  F-statistic:       </th> <td>   110.6</td>\n",
       "</tr>\n",
       "<tr>\n",
       "  <th>Date:</th>             <td>Sat, 07 Aug 2021</td> <th>  Prob (F-statistic):</th> <td>2.21e-21</td>\n",
       "</tr>\n",
       "<tr>\n",
       "  <th>Time:</th>                 <td>15:38:37</td>     <th>  Log-Likelihood:    </th> <td> -724.62</td>\n",
       "</tr>\n",
       "<tr>\n",
       "  <th>No. Observations:</th>      <td>   232</td>      <th>  AIC:               </th> <td>   1453.</td>\n",
       "</tr>\n",
       "<tr>\n",
       "  <th>Df Residuals:</th>          <td>   230</td>      <th>  BIC:               </th> <td>   1460.</td>\n",
       "</tr>\n",
       "<tr>\n",
       "  <th>Df Model:</th>              <td>     1</td>      <th>                     </th>     <td> </td>   \n",
       "</tr>\n",
       "<tr>\n",
       "  <th>Covariance Type:</th>      <td>nonrobust</td>    <th>                     </th>     <td> </td>   \n",
       "</tr>\n",
       "</table>\n",
       "<table class=\"simpletable\">\n",
       "<tr>\n",
       "             <td></td>                <th>coef</th>     <th>std err</th>      <th>t</th>      <th>P>|t|</th>  <th>[0.025</th>    <th>0.975]</th>  \n",
       "</tr>\n",
       "<tr>\n",
       "  <th>Intercept</th>               <td>   20.8427</td> <td>    0.530</td> <td>   39.307</td> <td> 0.000</td> <td>   19.798</td> <td>   21.887</td>\n",
       "</tr>\n",
       "<tr>\n",
       "  <th>NBA_Data.Salary_2018_19</th> <td> 4.309e-07</td> <td>  4.1e-08</td> <td>   10.519</td> <td> 0.000</td> <td>  3.5e-07</td> <td> 5.12e-07</td>\n",
       "</tr>\n",
       "</table>\n",
       "<table class=\"simpletable\">\n",
       "<tr>\n",
       "  <th>Omnibus:</th>       <td> 2.784</td> <th>  Durbin-Watson:     </th> <td>   2.123</td>\n",
       "</tr>\n",
       "<tr>\n",
       "  <th>Prob(Omnibus):</th> <td> 0.249</td> <th>  Jarque-Bera (JB):  </th> <td>   2.685</td>\n",
       "</tr>\n",
       "<tr>\n",
       "  <th>Skew:</th>          <td>-0.204</td> <th>  Prob(JB):          </th> <td>   0.261</td>\n",
       "</tr>\n",
       "<tr>\n",
       "  <th>Kurtosis:</th>      <td> 2.666</td> <th>  Cond. No.          </th> <td>1.89e+07</td>\n",
       "</tr>\n",
       "</table><br/><br/>Notes:<br/>[1] Standard Errors assume that the covariance matrix of the errors is correctly specified.<br/>[2] The condition number is large, 1.89e+07. This might indicate that there are<br/>strong multicollinearity or other numerical problems."
      ],
      "text/plain": [
       "<class 'statsmodels.iolib.summary.Summary'>\n",
       "\"\"\"\n",
       "                            OLS Regression Results                            \n",
       "==============================================================================\n",
       "Dep. Variable:       NBA_Data.Minutes   R-squared:                       0.325\n",
       "Model:                            OLS   Adj. R-squared:                  0.322\n",
       "Method:                 Least Squares   F-statistic:                     110.6\n",
       "Date:                Sat, 07 Aug 2021   Prob (F-statistic):           2.21e-21\n",
       "Time:                        15:38:37   Log-Likelihood:                -724.62\n",
       "No. Observations:                 232   AIC:                             1453.\n",
       "Df Residuals:                     230   BIC:                             1460.\n",
       "Df Model:                           1                                         \n",
       "Covariance Type:            nonrobust                                         \n",
       "===========================================================================================\n",
       "                              coef    std err          t      P>|t|      [0.025      0.975]\n",
       "-------------------------------------------------------------------------------------------\n",
       "Intercept                  20.8427      0.530     39.307      0.000      19.798      21.887\n",
       "NBA_Data.Salary_2018_19  4.309e-07    4.1e-08     10.519      0.000     3.5e-07    5.12e-07\n",
       "==============================================================================\n",
       "Omnibus:                        2.784   Durbin-Watson:                   2.123\n",
       "Prob(Omnibus):                  0.249   Jarque-Bera (JB):                2.685\n",
       "Skew:                          -0.204   Prob(JB):                        0.261\n",
       "Kurtosis:                       2.666   Cond. No.                     1.89e+07\n",
       "==============================================================================\n",
       "\n",
       "Notes:\n",
       "[1] Standard Errors assume that the covariance matrix of the errors is correctly specified.\n",
       "[2] The condition number is large, 1.89e+07. This might indicate that there are\n",
       "strong multicollinearity or other numerical problems.\n",
       "\"\"\""
      ]
     },
     "execution_count": 312,
     "metadata": {},
     "output_type": "execute_result"
    }
   ],
   "source": [
    "import statsmodels.formula.api as smf\n",
    "\n",
    "formula = 'NBA_Data.Minutes ~ NBA_Data.Salary_2018_19'\n",
    "model = smf.ols(formula, data=NBA_Data)\n",
    "results = model.fit()\n",
    "results.summary()"
   ]
  },
  {
   "cell_type": "markdown",
   "id": "8eda05bd",
   "metadata": {},
   "source": [
    "Next we will view the intercept and slope of the Minutes played in games that is a function of the NBA players salary."
   ]
  },
  {
   "cell_type": "code",
   "execution_count": 313,
   "id": "f52e31d1",
   "metadata": {},
   "outputs": [
    {
     "data": {
      "text/plain": [
       "(20.842662640919915, 4.309068793283862e-07)"
      ]
     },
     "execution_count": 313,
     "metadata": {},
     "output_type": "execute_result"
    }
   ],
   "source": [
    "inter = results.params['Intercept']\n",
    "slope = results.params['NBA_Data.Salary_2018_19']\n",
    "inter, slope"
   ]
  },
  {
   "cell_type": "markdown",
   "id": "e409b843",
   "metadata": {},
   "source": [
    "As seen above we have an intercept of 20.84 and a slope of 4.31. Next I will calculate the p-value of the slope estimate."
   ]
  },
  {
   "cell_type": "code",
   "execution_count": 314,
   "id": "718bd64a",
   "metadata": {},
   "outputs": [
    {
     "data": {
      "text/plain": [
       "2.2128690634219775e-21"
      ]
     },
     "execution_count": 314,
     "metadata": {},
     "output_type": "execute_result"
    }
   ],
   "source": [
    "slope_pvalue = results.pvalues['NBA_Data.Salary_2018_19']\n",
    "slope_pvalue"
   ]
  },
  {
   "cell_type": "markdown",
   "id": "65ac1814",
   "metadata": {},
   "source": [
    "Next we will see the coefficient of determination that is r squared."
   ]
  },
  {
   "cell_type": "code",
   "execution_count": 315,
   "id": "fec2037c",
   "metadata": {},
   "outputs": [
    {
     "data": {
      "text/plain": [
       "0.3248102050945757"
      ]
     },
     "execution_count": 315,
     "metadata": {},
     "output_type": "execute_result"
    }
   ],
   "source": [
    "results.rsquared"
   ]
  },
  {
   "cell_type": "markdown",
   "id": "9278645f",
   "metadata": {},
   "source": [
    "The difference in all variables means in comparison to  low and high salaries."
   ]
  },
  {
   "cell_type": "code",
   "execution_count": 317,
   "id": "73b5eb63",
   "metadata": {},
   "outputs": [
    {
     "data": {
      "text/plain": [
       "Unnamed: 0                 1.583501e+01\n",
       "Ratings                    9.512706e+00\n",
       "Age                        2.233048e+00\n",
       "Weight                     7.094624e+00\n",
       "Salary_2018_19             1.962567e+07\n",
       "Game_Played                1.953773e-01\n",
       "Minutes                    8.673554e+00\n",
       "Points                     8.868344e+00\n",
       "Field_Goals_Made           3.086898e+00\n",
       "Field_Goals_Attempted      6.148870e+00\n",
       "Field_Goals_Percentage     2.100319e+00\n",
       "Three_Points_Made          5.073171e-01\n",
       "Three_Points_Attempted     1.373222e+00\n",
       "Three_Points_Percentage   -1.119895e+00\n",
       "Free_Throws_Made           2.180948e+00\n",
       "Free_Throws_Attempted      2.701034e+00\n",
       "Free_Throws_Percentage     2.011825e+00\n",
       "Offensive_Rebounds         6.695313e-01\n",
       "Defensive_Rebounds         2.308224e+00\n",
       "Rebounds                   2.982467e+00\n",
       "Assists                    2.075993e+00\n",
       "Steals                     4.268165e-01\n",
       "Blocks                     2.981356e-01\n",
       "Turnovers                  1.079224e+00\n",
       "Efficiency_Rating          1.001278e+01\n",
       "dtype: float64"
      ]
     },
     "execution_count": 317,
     "metadata": {},
     "output_type": "execute_result"
    }
   ],
   "source": [
    "sal_data = NBA_Data\n",
    "money = sal_data[sal_data.Salary_2018_19 >= 1]\n",
    "low = NBA_Data[NBA_Data.Salary_2018_19 <= 18500000]\n",
    "high = NBA_Data[NBA_Data.Salary_2018_19 >= 18500000]\n",
    "diff_salary = high.mean() - low.mean()\n",
    "diff_salary"
   ]
  },
  {
   "cell_type": "markdown",
   "id": "fc972feb",
   "metadata": {},
   "source": [
    "As seen above the highest difference we see is coming from the NBA players ratings which is understandable as salary increase so does the players rating."
   ]
  },
  {
   "cell_type": "code",
   "execution_count": 318,
   "id": "88e8d850",
   "metadata": {},
   "outputs": [
    {
     "data": {
      "text/plain": [
       "Age                        2.431138e-01\n",
       "Assists                    2.247250e+00\n",
       "Blocks                     3.786181e-01\n",
       "Defensive_Rebounds         2.757338e+00\n",
       "Draft_Number                        NaN\n",
       "Efficiency_Rating          1.165661e+01\n",
       "Field_Goals_Attempted      6.963261e+00\n",
       "Field_Goals_Made           3.699889e+00\n",
       "Field_Goals_Percentage     4.214353e+00\n",
       "Free_Throws_Attempted      2.959355e+00\n",
       "Free_Throws_Made           2.346697e+00\n",
       "Free_Throws_Percentage     1.499788e+00\n",
       "Game_Played                2.100599e+00\n",
       "Minutes                    9.236389e+00\n",
       "Offensive_Rebounds         8.874712e-01\n",
       "Points                     1.015274e+01\n",
       "Ratings                    1.098093e+01\n",
       "Rebounds                   3.648061e+00\n",
       "Salary_2018_19             1.045172e+07\n",
       "Steals                     3.766006e-01\n",
       "Three_Points_Attempted     1.092814e+00\n",
       "Three_Points_Made          3.926670e-01\n",
       "Three_Points_Percentage   -2.033155e+00\n",
       "Turnovers                  1.280977e+00\n",
       "Unnamed: 0                 8.730723e+00\n",
       "Weight                     1.168918e+01\n",
       "dtype: float64"
      ]
     },
     "execution_count": 318,
     "metadata": {},
     "output_type": "execute_result"
    }
   ],
   "source": [
    "Ratings_data = NBA_Data\n",
    "Rating = Ratings_data[Ratings_data.Ratings >= 1]\n",
    "low_rating = NBA_Data[NBA_Data.Ratings <= 80]\n",
    "high_rating = NBA_Data[NBA_Data.Ratings >= 81]\n",
    "diff_rating = high_rating.mean() - low_rating.mean()\n",
    "diff_rating"
   ]
  },
  {
   "cell_type": "markdown",
   "id": "eb920ed4",
   "metadata": {},
   "source": [
    "As seen above we see that the highest difference in mean is from minutes played which shows that higher salary NBA players on average player longer in games. Next I will take the slope and times it by the difference inratings."
   ]
  },
  {
   "cell_type": "code",
   "execution_count": 319,
   "id": "6fe8a2ae",
   "metadata": {},
   "outputs": [
    {
     "data": {
      "text/plain": [
       "Age                        1.047594e-07\n",
       "Assists                    9.683555e-07\n",
       "Blocks                     1.631492e-07\n",
       "Defensive_Rebounds         1.188156e-06\n",
       "Draft_Number                        NaN\n",
       "Efficiency_Rating          5.022913e-06\n",
       "Field_Goals_Attempted      3.000517e-06\n",
       "Field_Goals_Made           1.594308e-06\n",
       "Field_Goals_Percentage     1.815994e-06\n",
       "Free_Throws_Attempted      1.275206e-06\n",
       "Free_Throws_Made           1.011208e-06\n",
       "Free_Throws_Percentage     6.462690e-07\n",
       "Game_Played                9.051625e-07\n",
       "Minutes                    3.980023e-06\n",
       "Offensive_Rebounds         3.824175e-07\n",
       "Points                     4.374886e-06\n",
       "Ratings                    4.731758e-06\n",
       "Rebounds                   1.571974e-06\n",
       "Salary_2018_19             4.503717e+00\n",
       "Steals                     1.622798e-07\n",
       "Three_Points_Attempted     4.709012e-07\n",
       "Three_Points_Made          1.692029e-07\n",
       "Three_Points_Percentage   -8.761006e-07\n",
       "Turnovers                  5.519816e-07\n",
       "Unnamed: 0                 3.762129e-06\n",
       "Weight                     5.036946e-06\n",
       "dtype: float64"
      ]
     },
     "execution_count": 319,
     "metadata": {},
     "output_type": "execute_result"
    }
   ],
   "source": [
    "slope * diff_rating"
   ]
  },
  {
   "cell_type": "markdown",
   "id": "31e0bde0",
   "metadata": {},
   "source": [
    "Next I will be running a single regression with the variable Games Played variable and the players efficiency."
   ]
  },
  {
   "cell_type": "code",
   "execution_count": 320,
   "id": "9a050363",
   "metadata": {
    "scrolled": true
   },
   "outputs": [
    {
     "data": {
      "text/html": [
       "<table class=\"simpletable\">\n",
       "<caption>OLS Regression Results</caption>\n",
       "<tr>\n",
       "  <th>Dep. Variable:</th>    <td>NBA_Data.Game_Played</td> <th>  R-squared:         </th> <td>   0.005</td>\n",
       "</tr>\n",
       "<tr>\n",
       "  <th>Model:</th>                     <td>OLS</td>         <th>  Adj. R-squared:    </th> <td>   0.001</td>\n",
       "</tr>\n",
       "<tr>\n",
       "  <th>Method:</th>               <td>Least Squares</td>    <th>  F-statistic:       </th> <td>   1.197</td>\n",
       "</tr>\n",
       "<tr>\n",
       "  <th>Date:</th>               <td>Sat, 07 Aug 2021</td>   <th>  Prob (F-statistic):</th>  <td> 0.275</td> \n",
       "</tr>\n",
       "<tr>\n",
       "  <th>Time:</th>                   <td>16:16:58</td>       <th>  Log-Likelihood:    </th> <td> -789.12</td>\n",
       "</tr>\n",
       "<tr>\n",
       "  <th>No. Observations:</th>        <td>   232</td>        <th>  AIC:               </th> <td>   1582.</td>\n",
       "</tr>\n",
       "<tr>\n",
       "  <th>Df Residuals:</th>            <td>   230</td>        <th>  BIC:               </th> <td>   1589.</td>\n",
       "</tr>\n",
       "<tr>\n",
       "  <th>Df Model:</th>                <td>     1</td>        <th>                     </th>     <td> </td>   \n",
       "</tr>\n",
       "<tr>\n",
       "  <th>Covariance Type:</th>        <td>nonrobust</td>      <th>                     </th>     <td> </td>   \n",
       "</tr>\n",
       "</table>\n",
       "<table class=\"simpletable\">\n",
       "<tr>\n",
       "          <td></td>             <th>coef</th>     <th>std err</th>      <th>t</th>      <th>P>|t|</th>  <th>[0.025</th>    <th>0.975]</th>  \n",
       "</tr>\n",
       "<tr>\n",
       "  <th>Intercept</th>         <td>   71.7956</td> <td>    0.486</td> <td>  147.689</td> <td> 0.000</td> <td>   70.838</td> <td>   72.753</td>\n",
       "</tr>\n",
       "<tr>\n",
       "  <th>Efficient[T.True]</th> <td>    3.0616</td> <td>    2.799</td> <td>    1.094</td> <td> 0.275</td> <td>   -2.453</td> <td>    8.576</td>\n",
       "</tr>\n",
       "</table>\n",
       "<table class=\"simpletable\">\n",
       "<tr>\n",
       "  <th>Omnibus:</th>       <td>73.826</td> <th>  Durbin-Watson:     </th> <td>   2.123</td>\n",
       "</tr>\n",
       "<tr>\n",
       "  <th>Prob(Omnibus):</th> <td> 0.000</td> <th>  Jarque-Bera (JB):  </th> <td>  14.828</td>\n",
       "</tr>\n",
       "<tr>\n",
       "  <th>Skew:</th>          <td>-0.271</td> <th>  Prob(JB):          </th> <td>0.000603</td>\n",
       "</tr>\n",
       "<tr>\n",
       "  <th>Kurtosis:</th>      <td> 1.886</td> <th>  Cond. No.          </th> <td>    5.85</td>\n",
       "</tr>\n",
       "</table><br/><br/>Notes:<br/>[1] Standard Errors assume that the covariance matrix of the errors is correctly specified."
      ],
      "text/plain": [
       "<class 'statsmodels.iolib.summary.Summary'>\n",
       "\"\"\"\n",
       "                             OLS Regression Results                             \n",
       "================================================================================\n",
       "Dep. Variable:     NBA_Data.Game_Played   R-squared:                       0.005\n",
       "Model:                              OLS   Adj. R-squared:                  0.001\n",
       "Method:                   Least Squares   F-statistic:                     1.197\n",
       "Date:                  Sat, 07 Aug 2021   Prob (F-statistic):              0.275\n",
       "Time:                          16:16:58   Log-Likelihood:                -789.12\n",
       "No. Observations:                   232   AIC:                             1582.\n",
       "Df Residuals:                       230   BIC:                             1589.\n",
       "Df Model:                             1                                         \n",
       "Covariance Type:              nonrobust                                         \n",
       "=====================================================================================\n",
       "                        coef    std err          t      P>|t|      [0.025      0.975]\n",
       "-------------------------------------------------------------------------------------\n",
       "Intercept            71.7956      0.486    147.689      0.000      70.838      72.753\n",
       "Efficient[T.True]     3.0616      2.799      1.094      0.275      -2.453       8.576\n",
       "==============================================================================\n",
       "Omnibus:                       73.826   Durbin-Watson:                   2.123\n",
       "Prob(Omnibus):                  0.000   Jarque-Bera (JB):               14.828\n",
       "Skew:                          -0.271   Prob(JB):                     0.000603\n",
       "Kurtosis:                       1.886   Cond. No.                         5.85\n",
       "==============================================================================\n",
       "\n",
       "Notes:\n",
       "[1] Standard Errors assume that the covariance matrix of the errors is correctly specified.\n",
       "\"\"\""
      ]
     },
     "execution_count": 320,
     "metadata": {},
     "output_type": "execute_result"
    }
   ],
   "source": [
    "NBA_Data['Efficient'] = NBA_Data.Efficiency_Rating >= 28\n",
    "formula = 'NBA_Data.Game_Played ~ Efficient'\n",
    "results = smf.ols(formula, data=NBA_Data).fit()\n",
    "results.summary()"
   ]
  },
  {
   "cell_type": "markdown",
   "id": "47531174",
   "metadata": {},
   "source": [
    "Next I will run a multiple regression that includes the Games Played variable, the players efficiency variable, and also will be adding Rebounds completed by the NBA players."
   ]
  },
  {
   "cell_type": "code",
   "execution_count": 325,
   "id": "666673c5",
   "metadata": {
    "scrolled": false
   },
   "outputs": [
    {
     "data": {
      "text/html": [
       "<table class=\"simpletable\">\n",
       "<caption>OLS Regression Results</caption>\n",
       "<tr>\n",
       "  <th>Dep. Variable:</th>    <td>NBA_Data.Game_Played</td> <th>  R-squared:         </th> <td>   0.032</td>\n",
       "</tr>\n",
       "<tr>\n",
       "  <th>Model:</th>                     <td>OLS</td>         <th>  Adj. R-squared:    </th> <td>   0.023</td>\n",
       "</tr>\n",
       "<tr>\n",
       "  <th>Method:</th>               <td>Least Squares</td>    <th>  F-statistic:       </th> <td>   3.779</td>\n",
       "</tr>\n",
       "<tr>\n",
       "  <th>Date:</th>               <td>Sat, 07 Aug 2021</td>   <th>  Prob (F-statistic):</th>  <td>0.0243</td> \n",
       "</tr>\n",
       "<tr>\n",
       "  <th>Time:</th>                   <td>16:47:32</td>       <th>  Log-Likelihood:    </th> <td> -785.95</td>\n",
       "</tr>\n",
       "<tr>\n",
       "  <th>No. Observations:</th>        <td>   232</td>        <th>  AIC:               </th> <td>   1578.</td>\n",
       "</tr>\n",
       "<tr>\n",
       "  <th>Df Residuals:</th>            <td>   229</td>        <th>  BIC:               </th> <td>   1588.</td>\n",
       "</tr>\n",
       "<tr>\n",
       "  <th>Df Model:</th>                <td>     2</td>        <th>                     </th>     <td> </td>   \n",
       "</tr>\n",
       "<tr>\n",
       "  <th>Covariance Type:</th>        <td>nonrobust</td>      <th>                     </th>     <td> </td>   \n",
       "</tr>\n",
       "</table>\n",
       "<table class=\"simpletable\">\n",
       "<tr>\n",
       "          <td></td>             <th>coef</th>     <th>std err</th>      <th>t</th>      <th>P>|t|</th>  <th>[0.025</th>    <th>0.975]</th>  \n",
       "</tr>\n",
       "<tr>\n",
       "  <th>Intercept</th>         <td>   69.4877</td> <td>    1.035</td> <td>   67.118</td> <td> 0.000</td> <td>   67.448</td> <td>   71.528</td>\n",
       "</tr>\n",
       "<tr>\n",
       "  <th>Efficient[T.True]</th> <td>   -0.3063</td> <td>    3.073</td> <td>   -0.100</td> <td> 0.921</td> <td>   -6.362</td> <td>    5.749</td>\n",
       "</tr>\n",
       "<tr>\n",
       "  <th>NBA_Data.Rebounds</th> <td>    0.5029</td> <td>    0.200</td> <td>    2.517</td> <td> 0.013</td> <td>    0.109</td> <td>    0.897</td>\n",
       "</tr>\n",
       "</table>\n",
       "<table class=\"simpletable\">\n",
       "<tr>\n",
       "  <th>Omnibus:</th>       <td>64.282</td> <th>  Durbin-Watson:     </th> <td>   2.111</td>\n",
       "</tr>\n",
       "<tr>\n",
       "  <th>Prob(Omnibus):</th> <td> 0.000</td> <th>  Jarque-Bera (JB):  </th> <td>  13.649</td>\n",
       "</tr>\n",
       "<tr>\n",
       "  <th>Skew:</th>          <td>-0.240</td> <th>  Prob(JB):          </th> <td> 0.00109</td>\n",
       "</tr>\n",
       "<tr>\n",
       "  <th>Kurtosis:</th>      <td> 1.913</td> <th>  Cond. No.          </th> <td>    36.2</td>\n",
       "</tr>\n",
       "</table><br/><br/>Notes:<br/>[1] Standard Errors assume that the covariance matrix of the errors is correctly specified."
      ],
      "text/plain": [
       "<class 'statsmodels.iolib.summary.Summary'>\n",
       "\"\"\"\n",
       "                             OLS Regression Results                             \n",
       "================================================================================\n",
       "Dep. Variable:     NBA_Data.Game_Played   R-squared:                       0.032\n",
       "Model:                              OLS   Adj. R-squared:                  0.023\n",
       "Method:                   Least Squares   F-statistic:                     3.779\n",
       "Date:                  Sat, 07 Aug 2021   Prob (F-statistic):             0.0243\n",
       "Time:                          16:47:32   Log-Likelihood:                -785.95\n",
       "No. Observations:                   232   AIC:                             1578.\n",
       "Df Residuals:                       229   BIC:                             1588.\n",
       "Df Model:                             2                                         \n",
       "Covariance Type:              nonrobust                                         \n",
       "=====================================================================================\n",
       "                        coef    std err          t      P>|t|      [0.025      0.975]\n",
       "-------------------------------------------------------------------------------------\n",
       "Intercept            69.4877      1.035     67.118      0.000      67.448      71.528\n",
       "Efficient[T.True]    -0.3063      3.073     -0.100      0.921      -6.362       5.749\n",
       "NBA_Data.Rebounds     0.5029      0.200      2.517      0.013       0.109       0.897\n",
       "==============================================================================\n",
       "Omnibus:                       64.282   Durbin-Watson:                   2.111\n",
       "Prob(Omnibus):                  0.000   Jarque-Bera (JB):               13.649\n",
       "Skew:                          -0.240   Prob(JB):                      0.00109\n",
       "Kurtosis:                       1.913   Cond. No.                         36.2\n",
       "==============================================================================\n",
       "\n",
       "Notes:\n",
       "[1] Standard Errors assume that the covariance matrix of the errors is correctly specified.\n",
       "\"\"\""
      ]
     },
     "execution_count": 325,
     "metadata": {},
     "output_type": "execute_result"
    }
   ],
   "source": [
    "NBA_Data['Efficient'] = NBA_Data.Efficiency_Rating >= 28\n",
    "formula = 'NBA_Data.Game_Played ~ Efficient + NBA_Data.Rebounds'\n",
    "results = smf.ols(formula, data=NBA_Data).fit()\n",
    "results.summary()"
   ]
  },
  {
   "cell_type": "markdown",
   "id": "c2ed7d85",
   "metadata": {},
   "source": [
    "When we add the variable rebounds we find that the effect on the effientcy is decreased and is no longer as statistically significant than before the rebounds variable was added."
   ]
  },
  {
   "cell_type": "markdown",
   "id": "aabba43d",
   "metadata": {},
   "source": [
    "## Conclusion "
   ]
  },
  {
   "cell_type": "markdown",
   "id": "e42465e3",
   "metadata": {},
   "source": [
    "In conclusion after running all these different tests we can see that the statistics of an NBA player does as some level follow the salary of the player. Meaning as the players stats rise the salary of the player is justified with the percenatges of shots and rebounds made for example. But on another note the statistics alone does not contribute 100% to the salary they make there can be other variable that tie into their salary that are not available in the data we have. But in the end the stats of the players does play a role in the salary they receive."
   ]
  },
  {
   "cell_type": "code",
   "execution_count": null,
   "id": "b7a35f35",
   "metadata": {},
   "outputs": [],
   "source": []
  }
 ],
 "metadata": {
  "kernelspec": {
   "display_name": "Python 3",
   "language": "python",
   "name": "python3"
  },
  "language_info": {
   "codemirror_mode": {
    "name": "ipython",
    "version": 3
   },
   "file_extension": ".py",
   "mimetype": "text/x-python",
   "name": "python",
   "nbconvert_exporter": "python",
   "pygments_lexer": "ipython3",
   "version": "3.8.8"
  }
 },
 "nbformat": 4,
 "nbformat_minor": 5
}
