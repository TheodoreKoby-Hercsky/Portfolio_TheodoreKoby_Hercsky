{
 "cells": [
  {
   "cell_type": "markdown",
   "metadata": {},
   "source": [
    "## Sentiment Analysis on Car Reviews"
   ]
  },
  {
   "cell_type": "markdown",
   "metadata": {},
   "source": [
    "Choosing a car can be a big decision using sentiment analysis users can analyze mass amounts of reviews by determining positive and negative feedback. Creating a hassle-free way to narrow down a car company they would like to pursue. While also allowing car manufactures to determine positive and negative feedback with their car models and how they can use sentiment analysis to their advantage when creating next years models."
   ]
  },
  {
   "cell_type": "code",
   "execution_count": 1,
   "metadata": {},
   "outputs": [],
   "source": [
    "# First I will import needed packages\n",
    "import numpy as np\n",
    "import matplotlib.pyplot as plt\n",
    "import pandas as pd"
   ]
  },
  {
   "cell_type": "code",
   "execution_count": 2,
   "metadata": {},
   "outputs": [
    {
     "data": {
      "text/plain": [
       "'C:\\\\Users\\\\Robyn\\\\DSC680\\\\Car_Review_Project'"
      ]
     },
     "execution_count": 2,
     "metadata": {},
     "output_type": "execute_result"
    }
   ],
   "source": [
    "# I will check my current directory with the use of os\n",
    "import os\n",
    "os.getcwd()"
   ]
  },
  {
   "cell_type": "markdown",
   "metadata": {},
   "source": [
    "## Data Import"
   ]
  },
  {
   "cell_type": "code",
   "execution_count": 3,
   "metadata": {},
   "outputs": [
    {
     "data": {
      "text/html": [
       "<div>\n",
       "<style scoped>\n",
       "    .dataframe tbody tr th:only-of-type {\n",
       "        vertical-align: middle;\n",
       "    }\n",
       "\n",
       "    .dataframe tbody tr th {\n",
       "        vertical-align: top;\n",
       "    }\n",
       "\n",
       "    .dataframe thead th {\n",
       "        text-align: right;\n",
       "    }\n",
       "</style>\n",
       "<table border=\"1\" class=\"dataframe\">\n",
       "  <thead>\n",
       "    <tr style=\"text-align: right;\">\n",
       "      <th></th>\n",
       "      <th>Unnamed: 0</th>\n",
       "      <th>Rating</th>\n",
       "      <th>car_year</th>\n",
       "      <th>brand_name</th>\n",
       "      <th>date</th>\n",
       "      <th>review</th>\n",
       "    </tr>\n",
       "  </thead>\n",
       "  <tbody>\n",
       "    <tr>\n",
       "      <th>0</th>\n",
       "      <td>0</td>\n",
       "      <td>5.00</td>\n",
       "      <td>2018</td>\n",
       "      <td>Audi</td>\n",
       "      <td>2018-07-11</td>\n",
       "      <td>BEST ALL AROUND PURPOSE CROSSOVER SUV I have n...</td>\n",
       "    </tr>\n",
       "    <tr>\n",
       "      <th>1</th>\n",
       "      <td>1</td>\n",
       "      <td>5.00</td>\n",
       "      <td>2018</td>\n",
       "      <td>Audi</td>\n",
       "      <td>2018-06-24</td>\n",
       "      <td>Best car This is a wonderful car.  The technol...</td>\n",
       "    </tr>\n",
       "    <tr>\n",
       "      <th>2</th>\n",
       "      <td>2</td>\n",
       "      <td>5.00</td>\n",
       "      <td>2018</td>\n",
       "      <td>Audi</td>\n",
       "      <td>2018-05-02</td>\n",
       "      <td>Great Buy Do your home work</td>\n",
       "    </tr>\n",
       "    <tr>\n",
       "      <th>3</th>\n",
       "      <td>3</td>\n",
       "      <td>5.00</td>\n",
       "      <td>2018</td>\n",
       "      <td>Audi</td>\n",
       "      <td>2017-12-07</td>\n",
       "      <td>Fun Car Great ride. Loaded with technology. St...</td>\n",
       "    </tr>\n",
       "    <tr>\n",
       "      <th>4</th>\n",
       "      <td>4</td>\n",
       "      <td>5.00</td>\n",
       "      <td>2018</td>\n",
       "      <td>Audi</td>\n",
       "      <td>2017-10-25</td>\n",
       "      <td>Best luxury SUV w/ perfect comfort/sport balan...</td>\n",
       "    </tr>\n",
       "    <tr>\n",
       "      <th>...</th>\n",
       "      <td>...</td>\n",
       "      <td>...</td>\n",
       "      <td>...</td>\n",
       "      <td>...</td>\n",
       "      <td>...</td>\n",
       "      <td>...</td>\n",
       "    </tr>\n",
       "    <tr>\n",
       "      <th>31933</th>\n",
       "      <td>31933</td>\n",
       "      <td>4.75</td>\n",
       "      <td>2015</td>\n",
       "      <td>Mercedes-Benz</td>\n",
       "      <td>2015-06-04</td>\n",
       "      <td>One week in but I love it.  I just got the car...</td>\n",
       "    </tr>\n",
       "    <tr>\n",
       "      <th>31934</th>\n",
       "      <td>31934</td>\n",
       "      <td>4.00</td>\n",
       "      <td>2015</td>\n",
       "      <td>Mercedes-Benz</td>\n",
       "      <td>2015-05-19</td>\n",
       "      <td>A delightful car I have been driving the GLA25...</td>\n",
       "    </tr>\n",
       "    <tr>\n",
       "      <th>31935</th>\n",
       "      <td>31935</td>\n",
       "      <td>3.00</td>\n",
       "      <td>2015</td>\n",
       "      <td>Mercedes-Benz</td>\n",
       "      <td>2015-02-21</td>\n",
       "      <td>This car is amazing but visibility is poor We ...</td>\n",
       "    </tr>\n",
       "    <tr>\n",
       "      <th>31936</th>\n",
       "      <td>31936</td>\n",
       "      <td>2.75</td>\n",
       "      <td>2015</td>\n",
       "      <td>Mercedes-Benz</td>\n",
       "      <td>2015-01-20</td>\n",
       "      <td>Steering Wheel Module When I first bought this...</td>\n",
       "    </tr>\n",
       "    <tr>\n",
       "      <th>31937</th>\n",
       "      <td>31937</td>\n",
       "      <td>4.50</td>\n",
       "      <td>2015</td>\n",
       "      <td>Mercedes-Benz</td>\n",
       "      <td>2014-10-06</td>\n",
       "      <td>Fun crossover/hatchback but not an SUV. I've h...</td>\n",
       "    </tr>\n",
       "  </tbody>\n",
       "</table>\n",
       "<p>31938 rows × 6 columns</p>\n",
       "</div>"
      ],
      "text/plain": [
       "       Unnamed: 0  Rating  car_year     brand_name        date  \\\n",
       "0               0    5.00      2018           Audi  2018-07-11   \n",
       "1               1    5.00      2018           Audi  2018-06-24   \n",
       "2               2    5.00      2018           Audi  2018-05-02   \n",
       "3               3    5.00      2018           Audi  2017-12-07   \n",
       "4               4    5.00      2018           Audi  2017-10-25   \n",
       "...           ...     ...       ...            ...         ...   \n",
       "31933       31933    4.75      2015  Mercedes-Benz  2015-06-04   \n",
       "31934       31934    4.00      2015  Mercedes-Benz  2015-05-19   \n",
       "31935       31935    3.00      2015  Mercedes-Benz  2015-02-21   \n",
       "31936       31936    2.75      2015  Mercedes-Benz  2015-01-20   \n",
       "31937       31937    4.50      2015  Mercedes-Benz  2014-10-06   \n",
       "\n",
       "                                                  review  \n",
       "0      BEST ALL AROUND PURPOSE CROSSOVER SUV I have n...  \n",
       "1      Best car This is a wonderful car.  The technol...  \n",
       "2                            Great Buy Do your home work  \n",
       "3      Fun Car Great ride. Loaded with technology. St...  \n",
       "4      Best luxury SUV w/ perfect comfort/sport balan...  \n",
       "...                                                  ...  \n",
       "31933  One week in but I love it.  I just got the car...  \n",
       "31934  A delightful car I have been driving the GLA25...  \n",
       "31935  This car is amazing but visibility is poor We ...  \n",
       "31936  Steering Wheel Module When I first bought this...  \n",
       "31937  Fun crossover/hatchback but not an SUV. I've h...  \n",
       "\n",
       "[31938 rows x 6 columns]"
      ]
     },
     "execution_count": 3,
     "metadata": {},
     "output_type": "execute_result"
    }
   ],
   "source": [
    "# I will now pull my data set through pd to create a data frame\n",
    "Car_Reviews = pd.read_csv(\"\\\\Users\\\\Robyn\\\\DSC680\\\\Car_Review_Project\\\\car_5_brands.csv\")\n",
    "Car_Reviews"
   ]
  },
  {
   "cell_type": "markdown",
   "metadata": {},
   "source": [
    "## Variable description\n",
    "\n",
    "Rating - A numeric variable that gives the car brand a rating of one to five\n",
    "\n",
    "Car_Year – The year the car was built\n",
    "\n",
    "Brand_Name – Is the brand such as Audi, Lexus, Infiniti, BMW, or Mercedes-Benz\n",
    "\n",
    "Date – Is the date the owner of the car created the review\n",
    "\n",
    "Review – The review given by the costumer regard the car they purchased"
   ]
  },
  {
   "cell_type": "markdown",
   "metadata": {},
   "source": [
    "## Data Review"
   ]
  },
  {
   "cell_type": "code",
   "execution_count": 4,
   "metadata": {},
   "outputs": [
    {
     "data": {
      "text/html": [
       "<div>\n",
       "<style scoped>\n",
       "    .dataframe tbody tr th:only-of-type {\n",
       "        vertical-align: middle;\n",
       "    }\n",
       "\n",
       "    .dataframe tbody tr th {\n",
       "        vertical-align: top;\n",
       "    }\n",
       "\n",
       "    .dataframe thead th {\n",
       "        text-align: right;\n",
       "    }\n",
       "</style>\n",
       "<table border=\"1\" class=\"dataframe\">\n",
       "  <thead>\n",
       "    <tr style=\"text-align: right;\">\n",
       "      <th></th>\n",
       "      <th>Unnamed: 0</th>\n",
       "      <th>Rating</th>\n",
       "      <th>car_year</th>\n",
       "    </tr>\n",
       "  </thead>\n",
       "  <tbody>\n",
       "    <tr>\n",
       "      <th>count</th>\n",
       "      <td>31938.000000</td>\n",
       "      <td>31938.000000</td>\n",
       "      <td>31938.000000</td>\n",
       "    </tr>\n",
       "    <tr>\n",
       "      <th>mean</th>\n",
       "      <td>15968.500000</td>\n",
       "      <td>4.476331</td>\n",
       "      <td>2005.959296</td>\n",
       "    </tr>\n",
       "    <tr>\n",
       "      <th>std</th>\n",
       "      <td>9219.850785</td>\n",
       "      <td>0.783148</td>\n",
       "      <td>5.101718</td>\n",
       "    </tr>\n",
       "    <tr>\n",
       "      <th>min</th>\n",
       "      <td>0.000000</td>\n",
       "      <td>1.000000</td>\n",
       "      <td>1997.000000</td>\n",
       "    </tr>\n",
       "    <tr>\n",
       "      <th>25%</th>\n",
       "      <td>7984.250000</td>\n",
       "      <td>4.375000</td>\n",
       "      <td>2002.000000</td>\n",
       "    </tr>\n",
       "    <tr>\n",
       "      <th>50%</th>\n",
       "      <td>15968.500000</td>\n",
       "      <td>4.750000</td>\n",
       "      <td>2005.000000</td>\n",
       "    </tr>\n",
       "    <tr>\n",
       "      <th>75%</th>\n",
       "      <td>23952.750000</td>\n",
       "      <td>5.000000</td>\n",
       "      <td>2009.000000</td>\n",
       "    </tr>\n",
       "    <tr>\n",
       "      <th>max</th>\n",
       "      <td>31937.000000</td>\n",
       "      <td>5.000000</td>\n",
       "      <td>2018.000000</td>\n",
       "    </tr>\n",
       "  </tbody>\n",
       "</table>\n",
       "</div>"
      ],
      "text/plain": [
       "         Unnamed: 0        Rating      car_year\n",
       "count  31938.000000  31938.000000  31938.000000\n",
       "mean   15968.500000      4.476331   2005.959296\n",
       "std     9219.850785      0.783148      5.101718\n",
       "min        0.000000      1.000000   1997.000000\n",
       "25%     7984.250000      4.375000   2002.000000\n",
       "50%    15968.500000      4.750000   2005.000000\n",
       "75%    23952.750000      5.000000   2009.000000\n",
       "max    31937.000000      5.000000   2018.000000"
      ]
     },
     "execution_count": 4,
     "metadata": {},
     "output_type": "execute_result"
    }
   ],
   "source": [
    "# Use describe to see different statistics for the data set\n",
    "Car_Reviews.describe()"
   ]
  },
  {
   "cell_type": "markdown",
   "metadata": {},
   "source": [
    "Above it is shown that the mean rating is 4.47 whle the min is 1.00 and a max of 5.00. While the mean year for all cars is 2005 while the min is 1997 and a max of 2018."
   ]
  },
  {
   "cell_type": "code",
   "execution_count": 5,
   "metadata": {},
   "outputs": [
    {
     "data": {
      "text/plain": [
       "Unnamed: 0    0\n",
       "Rating        0\n",
       "car_year      0\n",
       "brand_name    0\n",
       "date          0\n",
       "review        0\n",
       "dtype: int64"
      ]
     },
     "execution_count": 5,
     "metadata": {},
     "output_type": "execute_result"
    }
   ],
   "source": [
    "# I will now use isnull and sum to check for missing data\n",
    "Car_Reviews.isnull().sum()"
   ]
  },
  {
   "cell_type": "markdown",
   "metadata": {},
   "source": [
    "No missing values have been detected."
   ]
  },
  {
   "cell_type": "code",
   "execution_count": 6,
   "metadata": {},
   "outputs": [
    {
     "data": {
      "text/plain": [
       "array(['Audi', 'Lexus', 'INFINITI', 'BMW', 'Mercedes-Benz'], dtype=object)"
      ]
     },
     "execution_count": 6,
     "metadata": {},
     "output_type": "execute_result"
    }
   ],
   "source": [
    "# View how many unique values the brand_name variable has\n",
    "Car_Reviews['brand_name'].unique()"
   ]
  },
  {
   "cell_type": "markdown",
   "metadata": {},
   "source": [
    "Above it is shown that the five car brands within the data set are Audi, Lexus, INFINITI, BMW, and Mercedes-Benz."
   ]
  },
  {
   "cell_type": "code",
   "execution_count": 7,
   "metadata": {},
   "outputs": [
    {
     "data": {
      "text/plain": [
       "(31938, 6)"
      ]
     },
     "execution_count": 7,
     "metadata": {},
     "output_type": "execute_result"
    }
   ],
   "source": [
    "# Next I will use Shape to display the dimensions of the dataframe\n",
    "Car_Reviews.shape"
   ]
  },
  {
   "cell_type": "markdown",
   "metadata": {},
   "source": [
    "The Dataframe has 6 columns and 31,938 rows of data."
   ]
  },
  {
   "cell_type": "code",
   "execution_count": 8,
   "metadata": {},
   "outputs": [
    {
     "name": "stdout",
     "output_type": "stream",
     "text": [
      "<class 'pandas.core.frame.DataFrame'>\n",
      "RangeIndex: 31938 entries, 0 to 31937\n",
      "Data columns (total 6 columns):\n",
      " #   Column      Non-Null Count  Dtype  \n",
      "---  ------      --------------  -----  \n",
      " 0   Unnamed: 0  31938 non-null  int64  \n",
      " 1   Rating      31938 non-null  float64\n",
      " 2   car_year    31938 non-null  int64  \n",
      " 3   brand_name  31938 non-null  object \n",
      " 4   date        31938 non-null  object \n",
      " 5   review      31938 non-null  object \n",
      "dtypes: float64(1), int64(2), object(3)\n",
      "memory usage: 1.5+ MB\n"
     ]
    }
   ],
   "source": [
    "# Info is now used to see further into each variable.\n",
    "Car_Reviews.info()"
   ]
  },
  {
   "cell_type": "markdown",
   "metadata": {},
   "source": [
    "Above it is shown that the Unamed and car_year are both int64 while Rating is a float64. The remaining variables brand_name, date, and review are objects."
   ]
  },
  {
   "cell_type": "code",
   "execution_count": 9,
   "metadata": {},
   "outputs": [
    {
     "data": {
      "text/plain": [
       "5.00000    9781\n",
       "4.87500    5447\n",
       "4.75000    3455\n",
       "4.62500    2064\n",
       "4.00000    1639\n",
       "           ... \n",
       "4.70000       1\n",
       "4.09375       1\n",
       "1.56250       1\n",
       "4.72500       1\n",
       "3.52500       1\n",
       "Name: Rating, Length: 149, dtype: int64"
      ]
     },
     "execution_count": 9,
     "metadata": {},
     "output_type": "execute_result"
    }
   ],
   "source": [
    "# I will now count the values for each rating\n",
    "Car_Reviews.Rating.value_counts()"
   ]
  },
  {
   "cell_type": "code",
   "execution_count": 10,
   "metadata": {},
   "outputs": [
    {
     "data": {
      "text/plain": [
       "array([5.        , 4.        , 1.        , 3.        , 4.75      ,\n",
       "       2.        , 2.625     , 3.625     , 4.25      , 4.875     ,\n",
       "       4.625     , 2.25      , 4.5       , 4.375     , 4.125     ,\n",
       "       3.125     , 3.25      , 3.75      , 3.875     , 3.5       ,\n",
       "       3.375     , 2.125     , 2.375     , 4.5625    , 1.75      ,\n",
       "       4.78125   , 4.8125    , 4.84375   , 2.875     , 4.9375    ,\n",
       "       2.5       , 4.3125    , 3.8125    , 2.75      , 4.91666667,\n",
       "       4.95833333, 3.4375    , 3.16666667, 3.08333333, 4.4375    ,\n",
       "       4.6875    , 3.83333333, 4.16666667, 1.875     , 4.0625    ,\n",
       "       2.8125    , 4.15625   , 4.71875   , 4.83333333, 4.79166667,\n",
       "       1.5       , 2.9375    , 4.1875    , 1.375     , 3.6875    ,\n",
       "       3.9375    , 4.41666667, 1.25      , 4.66666667, 4.70833333,\n",
       "       4.58333333, 4.90625   , 4.96875   , 4.29166667, 4.45833333,\n",
       "       3.91666667, 3.58333333, 3.0625    , 4.20833333, 1.125     ,\n",
       "       1.625     , 3.5625    , 3.70833333, 3.3125    , 4.59375   ,\n",
       "       4.28125   , 4.34375   , 4.40625   , 4.46875   , 4.53125   ,\n",
       "       4.54166667, 3.525     , 3.675     , 3.825     , 3.975     ,\n",
       "       4.33333333, 4.97916667, 4.89583333, 4.575     , 4.15      ,\n",
       "       3.725     , 3.3       , 4.60416667, 4.52083333, 4.21875   ,\n",
       "       3.15625   , 4.65625   , 4.05      , 4.1       , 4.2       ,\n",
       "       3.53125   , 3.84375   , 4.475     , 4.675     , 4.775     ,\n",
       "       3.20833333, 3.54166667, 2.29166667, 3.95833333, 4.3       ,\n",
       "       4.35      , 4.4       , 4.45      , 4.08333333, 3.54166667,\n",
       "       3.1875    , 3.33333333, 4.8       , 4.85      , 4.9       ,\n",
       "       4.95      , 4.85416667, 4.77083333, 3.29166667, 3.66666667,\n",
       "       3.09375   , 4.09375   , 3.03125   , 3.70833333, 4.7       ,\n",
       "       4.525     , 4.175     , 2.41666667, 2.33333333, 1.5625    ,\n",
       "       4.27083333, 3.45833333, 2.91666667, 3.40625   , 4.725     ,\n",
       "       4.65      , 4.765625  , 4.546875  , 4.328125  , 4.109375  ,\n",
       "       3.29166667, 2.58333333, 2.66666667, 4.04166667])"
      ]
     },
     "execution_count": 10,
     "metadata": {},
     "output_type": "execute_result"
    }
   ],
   "source": [
    "# View the unique values the Rating variable has\n",
    "Car_Reviews.Rating.unique()"
   ]
  },
  {
   "cell_type": "markdown",
   "metadata": {},
   "source": [
    "Above it is shown that the Rating variable has many unique values that range from 1 to 5."
   ]
  },
  {
   "cell_type": "code",
   "execution_count": 11,
   "metadata": {},
   "outputs": [
    {
     "name": "stdout",
     "output_type": "stream",
     "text": [
      "Unnamed: 0             int64\n",
      "Rating               float64\n",
      "car_year               int64\n",
      "brand_name            object\n",
      "date          datetime64[ns]\n",
      "review                object\n",
      "dtype: object\n"
     ]
    }
   ],
   "source": [
    "# Change date column to datetime64 data type\n",
    "Car_Reviews['date'] = pd.to_datetime(Car_Reviews['date'])\n",
    "print(Car_Reviews.dtypes)"
   ]
  },
  {
   "cell_type": "code",
   "execution_count": 12,
   "metadata": {},
   "outputs": [],
   "source": [
    "# Next I will convert my ratings to be replaced with a 0 or 1\n",
    "def create_sentiment(rating):\n",
    "    \n",
    "    if rating<=3.99:\n",
    "        return 0 \n",
    "    elif rating>=4:\n",
    "        return 1\n",
    "\n",
    "Car_Reviews['Updated_Rating'] = Car_Reviews['Rating'].apply(create_sentiment)"
   ]
  },
  {
   "cell_type": "code",
   "execution_count": 13,
   "metadata": {},
   "outputs": [
    {
     "data": {
      "text/html": [
       "<div>\n",
       "<style scoped>\n",
       "    .dataframe tbody tr th:only-of-type {\n",
       "        vertical-align: middle;\n",
       "    }\n",
       "\n",
       "    .dataframe tbody tr th {\n",
       "        vertical-align: top;\n",
       "    }\n",
       "\n",
       "    .dataframe thead th {\n",
       "        text-align: right;\n",
       "    }\n",
       "</style>\n",
       "<table border=\"1\" class=\"dataframe\">\n",
       "  <thead>\n",
       "    <tr style=\"text-align: right;\">\n",
       "      <th></th>\n",
       "      <th>Unnamed: 0</th>\n",
       "      <th>Rating</th>\n",
       "      <th>car_year</th>\n",
       "      <th>brand_name</th>\n",
       "      <th>date</th>\n",
       "      <th>review</th>\n",
       "      <th>Updated_Rating</th>\n",
       "    </tr>\n",
       "  </thead>\n",
       "  <tbody>\n",
       "    <tr>\n",
       "      <th>0</th>\n",
       "      <td>0</td>\n",
       "      <td>5.00</td>\n",
       "      <td>2018</td>\n",
       "      <td>Audi</td>\n",
       "      <td>2018-07-11</td>\n",
       "      <td>BEST ALL AROUND PURPOSE CROSSOVER SUV I have n...</td>\n",
       "      <td>1</td>\n",
       "    </tr>\n",
       "    <tr>\n",
       "      <th>1</th>\n",
       "      <td>1</td>\n",
       "      <td>5.00</td>\n",
       "      <td>2018</td>\n",
       "      <td>Audi</td>\n",
       "      <td>2018-06-24</td>\n",
       "      <td>Best car This is a wonderful car.  The technol...</td>\n",
       "      <td>1</td>\n",
       "    </tr>\n",
       "    <tr>\n",
       "      <th>2</th>\n",
       "      <td>2</td>\n",
       "      <td>5.00</td>\n",
       "      <td>2018</td>\n",
       "      <td>Audi</td>\n",
       "      <td>2018-05-02</td>\n",
       "      <td>Great Buy Do your home work</td>\n",
       "      <td>1</td>\n",
       "    </tr>\n",
       "    <tr>\n",
       "      <th>3</th>\n",
       "      <td>3</td>\n",
       "      <td>5.00</td>\n",
       "      <td>2018</td>\n",
       "      <td>Audi</td>\n",
       "      <td>2017-12-07</td>\n",
       "      <td>Fun Car Great ride. Loaded with technology. St...</td>\n",
       "      <td>1</td>\n",
       "    </tr>\n",
       "    <tr>\n",
       "      <th>4</th>\n",
       "      <td>4</td>\n",
       "      <td>5.00</td>\n",
       "      <td>2018</td>\n",
       "      <td>Audi</td>\n",
       "      <td>2017-10-25</td>\n",
       "      <td>Best luxury SUV w/ perfect comfort/sport balan...</td>\n",
       "      <td>1</td>\n",
       "    </tr>\n",
       "    <tr>\n",
       "      <th>...</th>\n",
       "      <td>...</td>\n",
       "      <td>...</td>\n",
       "      <td>...</td>\n",
       "      <td>...</td>\n",
       "      <td>...</td>\n",
       "      <td>...</td>\n",
       "      <td>...</td>\n",
       "    </tr>\n",
       "    <tr>\n",
       "      <th>31933</th>\n",
       "      <td>31933</td>\n",
       "      <td>4.75</td>\n",
       "      <td>2015</td>\n",
       "      <td>Mercedes-Benz</td>\n",
       "      <td>2015-06-04</td>\n",
       "      <td>One week in but I love it.  I just got the car...</td>\n",
       "      <td>1</td>\n",
       "    </tr>\n",
       "    <tr>\n",
       "      <th>31934</th>\n",
       "      <td>31934</td>\n",
       "      <td>4.00</td>\n",
       "      <td>2015</td>\n",
       "      <td>Mercedes-Benz</td>\n",
       "      <td>2015-05-19</td>\n",
       "      <td>A delightful car I have been driving the GLA25...</td>\n",
       "      <td>1</td>\n",
       "    </tr>\n",
       "    <tr>\n",
       "      <th>31935</th>\n",
       "      <td>31935</td>\n",
       "      <td>3.00</td>\n",
       "      <td>2015</td>\n",
       "      <td>Mercedes-Benz</td>\n",
       "      <td>2015-02-21</td>\n",
       "      <td>This car is amazing but visibility is poor We ...</td>\n",
       "      <td>0</td>\n",
       "    </tr>\n",
       "    <tr>\n",
       "      <th>31936</th>\n",
       "      <td>31936</td>\n",
       "      <td>2.75</td>\n",
       "      <td>2015</td>\n",
       "      <td>Mercedes-Benz</td>\n",
       "      <td>2015-01-20</td>\n",
       "      <td>Steering Wheel Module When I first bought this...</td>\n",
       "      <td>0</td>\n",
       "    </tr>\n",
       "    <tr>\n",
       "      <th>31937</th>\n",
       "      <td>31937</td>\n",
       "      <td>4.50</td>\n",
       "      <td>2015</td>\n",
       "      <td>Mercedes-Benz</td>\n",
       "      <td>2014-10-06</td>\n",
       "      <td>Fun crossover/hatchback but not an SUV. I've h...</td>\n",
       "      <td>1</td>\n",
       "    </tr>\n",
       "  </tbody>\n",
       "</table>\n",
       "<p>31938 rows × 7 columns</p>\n",
       "</div>"
      ],
      "text/plain": [
       "       Unnamed: 0  Rating  car_year     brand_name       date  \\\n",
       "0               0    5.00      2018           Audi 2018-07-11   \n",
       "1               1    5.00      2018           Audi 2018-06-24   \n",
       "2               2    5.00      2018           Audi 2018-05-02   \n",
       "3               3    5.00      2018           Audi 2017-12-07   \n",
       "4               4    5.00      2018           Audi 2017-10-25   \n",
       "...           ...     ...       ...            ...        ...   \n",
       "31933       31933    4.75      2015  Mercedes-Benz 2015-06-04   \n",
       "31934       31934    4.00      2015  Mercedes-Benz 2015-05-19   \n",
       "31935       31935    3.00      2015  Mercedes-Benz 2015-02-21   \n",
       "31936       31936    2.75      2015  Mercedes-Benz 2015-01-20   \n",
       "31937       31937    4.50      2015  Mercedes-Benz 2014-10-06   \n",
       "\n",
       "                                                  review  Updated_Rating  \n",
       "0      BEST ALL AROUND PURPOSE CROSSOVER SUV I have n...               1  \n",
       "1      Best car This is a wonderful car.  The technol...               1  \n",
       "2                            Great Buy Do your home work               1  \n",
       "3      Fun Car Great ride. Loaded with technology. St...               1  \n",
       "4      Best luxury SUV w/ perfect comfort/sport balan...               1  \n",
       "...                                                  ...             ...  \n",
       "31933  One week in but I love it.  I just got the car...               1  \n",
       "31934  A delightful car I have been driving the GLA25...               1  \n",
       "31935  This car is amazing but visibility is poor We ...               0  \n",
       "31936  Steering Wheel Module When I first bought this...               0  \n",
       "31937  Fun crossover/hatchback but not an SUV. I've h...               1  \n",
       "\n",
       "[31938 rows x 7 columns]"
      ]
     },
     "execution_count": 13,
     "metadata": {},
     "output_type": "execute_result"
    }
   ],
   "source": [
    "# Next I will view the dataframe and see the new variable Updated_Rating\n",
    "Car_Reviews"
   ]
  },
  {
   "cell_type": "code",
   "execution_count": 14,
   "metadata": {},
   "outputs": [
    {
     "data": {
      "text/plain": [
       "1    27144\n",
       "0     4794\n",
       "Name: Updated_Rating, dtype: int64"
      ]
     },
     "execution_count": 14,
     "metadata": {},
     "output_type": "execute_result"
    }
   ],
   "source": [
    "# I will now count the values for each rating\n",
    "Car_Reviews.Updated_Rating.value_counts()"
   ]
  },
  {
   "cell_type": "markdown",
   "metadata": {},
   "source": [
    "Above we can see that there are 27,144 positive reviews while we see 4,794 negative and neutral reviews. "
   ]
  },
  {
   "cell_type": "code",
   "execution_count": 15,
   "metadata": {},
   "outputs": [],
   "source": [
    "# Will now update Rating variable to int64\n",
    "Car_Reviews['Rating'] = Car_Reviews['Rating'].apply(np.int64)"
   ]
  },
  {
   "cell_type": "code",
   "execution_count": 16,
   "metadata": {},
   "outputs": [
    {
     "data": {
      "text/plain": [
       "Unnamed: 0                 int64\n",
       "Rating                     int64\n",
       "car_year                   int64\n",
       "brand_name                object\n",
       "date              datetime64[ns]\n",
       "review                    object\n",
       "Updated_Rating             int64\n",
       "dtype: object"
      ]
     },
     "metadata": {},
     "output_type": "display_data"
    }
   ],
   "source": [
    "# Next display dtypes\n",
    "display(Car_Reviews.dtypes)"
   ]
  },
  {
   "cell_type": "markdown",
   "metadata": {},
   "source": [
    "## Data Preparation and Natural language processing"
   ]
  },
  {
   "cell_type": "code",
   "execution_count": 17,
   "metadata": {},
   "outputs": [
    {
     "name": "stdout",
     "output_type": "stream",
     "text": [
      "<class 'pandas.core.frame.DataFrame'>\n",
      "RangeIndex: 31938 entries, 0 to 31937\n",
      "Data columns (total 7 columns):\n",
      " #   Column          Non-Null Count  Dtype         \n",
      "---  ------          --------------  -----         \n",
      " 0   Unnamed: 0      31938 non-null  int64         \n",
      " 1   Rating          31938 non-null  int64         \n",
      " 2   car_year        31938 non-null  int64         \n",
      " 3   brand_name      31938 non-null  object        \n",
      " 4   date            31938 non-null  datetime64[ns]\n",
      " 5   review          31938 non-null  object        \n",
      " 6   Updated_Rating  31938 non-null  int64         \n",
      "dtypes: datetime64[ns](1), int64(4), object(2)\n",
      "memory usage: 1.7+ MB\n"
     ]
    }
   ],
   "source": [
    "# First I will use info to view each variable\n",
    "Car_Reviews.info()"
   ]
  },
  {
   "cell_type": "code",
   "execution_count": 18,
   "metadata": {},
   "outputs": [
    {
     "name": "stdout",
     "output_type": "stream",
     "text": [
      "Requirement already satisfied: nltk in c:\\users\\robyn\\anaconda3\\envs\\dsc650\\lib\\site-packages (3.6.7)\n",
      "Requirement already satisfied: joblib in c:\\users\\robyn\\anaconda3\\envs\\dsc650\\lib\\site-packages (from nltk) (1.1.1)\n",
      "Requirement already satisfied: regex>=2021.8.3 in c:\\users\\robyn\\anaconda3\\envs\\dsc650\\lib\\site-packages (from nltk) (2022.10.31)\n",
      "Requirement already satisfied: click in c:\\users\\robyn\\anaconda3\\envs\\dsc650\\lib\\site-packages (from nltk) (7.1.2)\n",
      "Requirement already satisfied: tqdm in c:\\users\\robyn\\anaconda3\\envs\\dsc650\\lib\\site-packages (from nltk) (4.64.1)\n",
      "Requirement already satisfied: importlib-resources; python_version < \"3.7\" in c:\\users\\robyn\\anaconda3\\envs\\dsc650\\lib\\site-packages (from tqdm->nltk) (5.4.0)\n",
      "Requirement already satisfied: colorama; platform_system == \"Windows\" in c:\\users\\robyn\\anaconda3\\envs\\dsc650\\lib\\site-packages (from tqdm->nltk) (0.4.3)\n",
      "Requirement already satisfied: zipp>=3.1.0; python_version < \"3.10\" in c:\\users\\robyn\\anaconda3\\envs\\dsc650\\lib\\site-packages (from importlib-resources; python_version < \"3.7\"->tqdm->nltk) (3.1.0)\n"
     ]
    },
    {
     "name": "stderr",
     "output_type": "stream",
     "text": [
      "[nltk_data] Downloading package wordnet to\n",
      "[nltk_data]     C:\\Users\\Robyn\\AppData\\Roaming\\nltk_data...\n",
      "[nltk_data]   Package wordnet is already up-to-date!\n"
     ]
    }
   ],
   "source": [
    "# Import needed libraries\n",
    "!pip install nltk\n",
    "import nltk\n",
    "import string\n",
    "from nltk.stem import WordNetLemmatizer\n",
    "from nltk.stem.porter import PorterStemmer\n",
    "from nltk.corpus import stopwords\n",
    "from nltk.stem.snowball import SnowballStemmer\n",
    "from nltk.stem.lancaster import LancasterStemmer\n",
    "from sklearn.model_selection import train_test_split\n",
    "from sklearn.preprocessing import LabelEncoder\n",
    "import re\n",
    "nltk.download('wordnet')\n",
    "import warnings"
   ]
  },
  {
   "cell_type": "markdown",
   "metadata": {},
   "source": [
    "### Implementing Lowercase"
   ]
  },
  {
   "cell_type": "code",
   "execution_count": 19,
   "metadata": {},
   "outputs": [],
   "source": [
    "# Next I will use Natural language processing to edit the reviews for each car brand.By changing Review text to lowercase \n",
    "Car_Reviews['Updated_Review']= Car_Reviews['review'].apply(lambda x: x.lower())"
   ]
  },
  {
   "cell_type": "markdown",
   "metadata": {},
   "source": [
    "### Punctuation Removal"
   ]
  },
  {
   "cell_type": "code",
   "execution_count": 20,
   "metadata": {},
   "outputs": [],
   "source": [
    "# Next remove punctuation  \n",
    "def punctuation_removal(text):\n",
    "    text = \" \".join([word.strip(string.punctuation) for word in text.split(\" \")])\n",
    "    return text\n",
    "Car_Reviews['Updated_Review'] = Car_Reviews['Updated_Review'].apply(punctuation_removal)"
   ]
  },
  {
   "cell_type": "markdown",
   "metadata": {},
   "source": [
    "### Remove Imbedded Numbers"
   ]
  },
  {
   "cell_type": "code",
   "execution_count": 21,
   "metadata": {},
   "outputs": [],
   "source": [
    "# Next I will use isdigit and apply to remove imbedded numbers\n",
    "def remove_number(text):\n",
    "    text = \"\".join([word for word in text if not any(c.isdigit() for c in word)])\n",
    "    return text\n",
    "Car_Reviews['Updated_Review'] = Car_Reviews['Updated_Review'].apply(remove_number)"
   ]
  },
  {
   "cell_type": "markdown",
   "metadata": {},
   "source": [
    "## Create Tokens"
   ]
  },
  {
   "cell_type": "code",
   "execution_count": 22,
   "metadata": {},
   "outputs": [],
   "source": [
    "# Import needed libraries\n",
    "import sys\n",
    "from sklearn.feature_extraction.text import TfidfVectorizer\n",
    "from sklearn.naive_bayes import MultinomialNB\n",
    "from sklearn import metrics\n",
    "warnings.filterwarnings('ignore')\n",
    "if sys.version[0] == '2':\n",
    "    reload(sys)\n",
    "    sys.setdefaultencoding(\"utf-8\")"
   ]
  },
  {
   "cell_type": "code",
   "execution_count": 23,
   "metadata": {},
   "outputs": [],
   "source": [
    "# Create tokens through the use of split \n",
    "def token(text):\n",
    "    text = text.split()\n",
    "    return text\n",
    "Car_Reviews['Updated_Review'] = Car_Reviews['Updated_Review'].apply(token)"
   ]
  },
  {
   "cell_type": "markdown",
   "metadata": {},
   "source": [
    "## Stop Word Removal"
   ]
  },
  {
   "cell_type": "code",
   "execution_count": 24,
   "metadata": {},
   "outputs": [
    {
     "name": "stderr",
     "output_type": "stream",
     "text": [
      "[nltk_data] Downloading package stopwords to\n",
      "[nltk_data]     C:\\Users\\Robyn\\AppData\\Roaming\\nltk_data...\n",
      "[nltk_data]   Package stopwords is already up-to-date!\n"
     ]
    },
    {
     "data": {
      "text/plain": [
       "True"
      ]
     },
     "execution_count": 24,
     "metadata": {},
     "output_type": "execute_result"
    }
   ],
   "source": [
    "# Import stop words\n",
    "import nltk\n",
    "nltk.download('stopwords')"
   ]
  },
  {
   "cell_type": "code",
   "execution_count": 25,
   "metadata": {},
   "outputs": [],
   "source": [
    "# Set stop words to english\n",
    "brand_stop_words = set(stopwords.words('english'))\n",
    "brand_names = ['Audi', 'Lexus', 'INFINITI', 'BMW', 'Mercedes', 'Benz']\n",
    "punctuation_string = string.punctuation"
   ]
  },
  {
   "cell_type": "code",
   "execution_count": 26,
   "metadata": {},
   "outputs": [],
   "source": [
    "# Next I will remove the stopwords from my Review_update\n",
    "def remove_stopword(text): \n",
    "    stop = stopwords.words('english')\n",
    "    text = [x for x in text if x not in brand_stop_words and x not in brand_names and x not in punctuation_string] \n",
    "    return text\n",
    "Car_Reviews['Updated_Review'] = Car_Reviews['Updated_Review'].apply(remove_stopword)"
   ]
  },
  {
   "cell_type": "code",
   "execution_count": 27,
   "metadata": {},
   "outputs": [
    {
     "name": "stderr",
     "output_type": "stream",
     "text": [
      "[nltk_data] Downloading package omw-1.4 to\n",
      "[nltk_data]     C:\\Users\\Robyn\\AppData\\Roaming\\nltk_data...\n",
      "[nltk_data]   Package omw-1.4 is already up-to-date!\n"
     ]
    },
    {
     "data": {
      "text/plain": [
       "True"
      ]
     },
     "execution_count": 27,
     "metadata": {},
     "output_type": "execute_result"
    }
   ],
   "source": [
    "# Import needed package\n",
    "import nltk\n",
    "nltk.download('omw-1.4')"
   ]
  },
  {
   "cell_type": "markdown",
   "metadata": {},
   "source": [
    "## Convert and Join Words"
   ]
  },
  {
   "cell_type": "code",
   "execution_count": 28,
   "metadata": {},
   "outputs": [],
   "source": [
    "# Next I will use WordNetLemmatizer convert words used in review to base words\n",
    "def word_lemmatize(text):\n",
    "    text = [WordNetLemmatizer().lemmatize(word) for word in text]\n",
    "    return text\n",
    "Car_Reviews['Updated_Review'] = Car_Reviews['Updated_Review'].apply(word_lemmatize)"
   ]
  },
  {
   "cell_type": "code",
   "execution_count": 29,
   "metadata": {},
   "outputs": [],
   "source": [
    "# Join my Review data values\n",
    "def join_review_data(text):\n",
    "    text = \" \".join(text)\n",
    "    return text\n",
    "Car_Reviews['Updated_Review'] = Car_Reviews['Updated_Review'].apply(join_review_data)"
   ]
  },
  {
   "cell_type": "markdown",
   "metadata": {},
   "source": [
    "## Implement Vader"
   ]
  },
  {
   "cell_type": "code",
   "execution_count": 30,
   "metadata": {},
   "outputs": [
    {
     "name": "stdout",
     "output_type": "stream",
     "text": [
      "Requirement already satisfied: vaderSentiment in c:\\users\\robyn\\anaconda3\\envs\\dsc650\\lib\\site-packages (3.3.2)\n",
      "Requirement already satisfied: requests in c:\\users\\robyn\\anaconda3\\envs\\dsc650\\lib\\site-packages (from vaderSentiment) (2.23.0)\n",
      "Requirement already satisfied: idna<3,>=2.5 in c:\\users\\robyn\\anaconda3\\envs\\dsc650\\lib\\site-packages (from requests->vaderSentiment) (2.9)\n",
      "Requirement already satisfied: chardet<4,>=3.0.2 in c:\\users\\robyn\\anaconda3\\envs\\dsc650\\lib\\site-packages (from requests->vaderSentiment) (3.0.4)\n",
      "Requirement already satisfied: urllib3!=1.25.0,!=1.25.1,<1.26,>=1.21.1 in c:\\users\\robyn\\anaconda3\\envs\\dsc650\\lib\\site-packages (from requests->vaderSentiment) (1.25.8)\n",
      "Requirement already satisfied: certifi>=2017.4.17 in c:\\users\\robyn\\anaconda3\\envs\\dsc650\\lib\\site-packages (from requests->vaderSentiment) (2020.4.5.1)\n"
     ]
    }
   ],
   "source": [
    "# Install needed library\n",
    "!pip install vaderSentiment\n",
    "from vaderSentiment.vaderSentiment import SentimentIntensityAnalyzer"
   ]
  },
  {
   "cell_type": "code",
   "execution_count": 31,
   "metadata": {},
   "outputs": [
    {
     "data": {
      "text/html": [
       "<div>\n",
       "<style scoped>\n",
       "    .dataframe tbody tr th:only-of-type {\n",
       "        vertical-align: middle;\n",
       "    }\n",
       "\n",
       "    .dataframe tbody tr th {\n",
       "        vertical-align: top;\n",
       "    }\n",
       "\n",
       "    .dataframe thead th {\n",
       "        text-align: right;\n",
       "    }\n",
       "</style>\n",
       "<table border=\"1\" class=\"dataframe\">\n",
       "  <thead>\n",
       "    <tr style=\"text-align: right;\">\n",
       "      <th></th>\n",
       "      <th>Unnamed: 0</th>\n",
       "      <th>Rating</th>\n",
       "      <th>car_year</th>\n",
       "      <th>brand_name</th>\n",
       "      <th>date</th>\n",
       "      <th>review</th>\n",
       "      <th>Updated_Rating</th>\n",
       "      <th>Updated_Review</th>\n",
       "      <th>Review_Polarity</th>\n",
       "    </tr>\n",
       "  </thead>\n",
       "  <tbody>\n",
       "    <tr>\n",
       "      <th>0</th>\n",
       "      <td>0</td>\n",
       "      <td>5</td>\n",
       "      <td>2018</td>\n",
       "      <td>Audi</td>\n",
       "      <td>2018-07-11</td>\n",
       "      <td>BEST ALL AROUND PURPOSE CROSSOVER SUV I have n...</td>\n",
       "      <td>1</td>\n",
       "      <td>best around purpose crossover suv never seen d...</td>\n",
       "      <td>Positive</td>\n",
       "    </tr>\n",
       "    <tr>\n",
       "      <th>1</th>\n",
       "      <td>1</td>\n",
       "      <td>5</td>\n",
       "      <td>2018</td>\n",
       "      <td>Audi</td>\n",
       "      <td>2018-06-24</td>\n",
       "      <td>Best car This is a wonderful car.  The technol...</td>\n",
       "      <td>1</td>\n",
       "      <td>best car wonderful car technology adaptable ca...</td>\n",
       "      <td>Positive</td>\n",
       "    </tr>\n",
       "    <tr>\n",
       "      <th>2</th>\n",
       "      <td>2</td>\n",
       "      <td>5</td>\n",
       "      <td>2018</td>\n",
       "      <td>Audi</td>\n",
       "      <td>2018-05-02</td>\n",
       "      <td>Great Buy Do your home work</td>\n",
       "      <td>1</td>\n",
       "      <td>great buy home work</td>\n",
       "      <td>Positive</td>\n",
       "    </tr>\n",
       "    <tr>\n",
       "      <th>3</th>\n",
       "      <td>3</td>\n",
       "      <td>5</td>\n",
       "      <td>2018</td>\n",
       "      <td>Audi</td>\n",
       "      <td>2017-12-07</td>\n",
       "      <td>Fun Car Great ride. Loaded with technology. St...</td>\n",
       "      <td>1</td>\n",
       "      <td>fun car great ride loaded technology steering ...</td>\n",
       "      <td>Positive</td>\n",
       "    </tr>\n",
       "    <tr>\n",
       "      <th>4</th>\n",
       "      <td>4</td>\n",
       "      <td>5</td>\n",
       "      <td>2018</td>\n",
       "      <td>Audi</td>\n",
       "      <td>2017-10-25</td>\n",
       "      <td>Best luxury SUV w/ perfect comfort/sport balan...</td>\n",
       "      <td>1</td>\n",
       "      <td>best luxury suv w perfect comfort/sport balanc...</td>\n",
       "      <td>Positive</td>\n",
       "    </tr>\n",
       "    <tr>\n",
       "      <th>...</th>\n",
       "      <td>...</td>\n",
       "      <td>...</td>\n",
       "      <td>...</td>\n",
       "      <td>...</td>\n",
       "      <td>...</td>\n",
       "      <td>...</td>\n",
       "      <td>...</td>\n",
       "      <td>...</td>\n",
       "      <td>...</td>\n",
       "    </tr>\n",
       "    <tr>\n",
       "      <th>31933</th>\n",
       "      <td>31933</td>\n",
       "      <td>4</td>\n",
       "      <td>2015</td>\n",
       "      <td>Mercedes-Benz</td>\n",
       "      <td>2015-06-04</td>\n",
       "      <td>One week in but I love it.  I just got the car...</td>\n",
       "      <td>1</td>\n",
       "      <td>one week love got car procrastinating couple w...</td>\n",
       "      <td>Positive</td>\n",
       "    </tr>\n",
       "    <tr>\n",
       "      <th>31934</th>\n",
       "      <td>31934</td>\n",
       "      <td>4</td>\n",
       "      <td>2015</td>\n",
       "      <td>Mercedes-Benz</td>\n",
       "      <td>2015-05-19</td>\n",
       "      <td>A delightful car I have been driving the GLA25...</td>\n",
       "      <td>1</td>\n",
       "      <td>delightful car driving gla half year absolutel...</td>\n",
       "      <td>Positive</td>\n",
       "    </tr>\n",
       "    <tr>\n",
       "      <th>31935</th>\n",
       "      <td>31935</td>\n",
       "      <td>3</td>\n",
       "      <td>2015</td>\n",
       "      <td>Mercedes-Benz</td>\n",
       "      <td>2015-02-21</td>\n",
       "      <td>This car is amazing but visibility is poor We ...</td>\n",
       "      <td>0</td>\n",
       "      <td>car amazing visibility poor longer car rear wi...</td>\n",
       "      <td>Neutral</td>\n",
       "    </tr>\n",
       "    <tr>\n",
       "      <th>31936</th>\n",
       "      <td>31936</td>\n",
       "      <td>2</td>\n",
       "      <td>2015</td>\n",
       "      <td>Mercedes-Benz</td>\n",
       "      <td>2015-01-20</td>\n",
       "      <td>Steering Wheel Module When I first bought this...</td>\n",
       "      <td>0</td>\n",
       "      <td>steering wheel module first bought car love wi...</td>\n",
       "      <td>Negative</td>\n",
       "    </tr>\n",
       "    <tr>\n",
       "      <th>31937</th>\n",
       "      <td>31937</td>\n",
       "      <td>4</td>\n",
       "      <td>2015</td>\n",
       "      <td>Mercedes-Benz</td>\n",
       "      <td>2014-10-06</td>\n",
       "      <td>Fun crossover/hatchback but not an SUV. I've h...</td>\n",
       "      <td>1</td>\n",
       "      <td>fun crossover/hatchback suv i've day good car ...</td>\n",
       "      <td>Positive</td>\n",
       "    </tr>\n",
       "  </tbody>\n",
       "</table>\n",
       "<p>31938 rows × 9 columns</p>\n",
       "</div>"
      ],
      "text/plain": [
       "       Unnamed: 0  Rating  car_year     brand_name       date  \\\n",
       "0               0       5      2018           Audi 2018-07-11   \n",
       "1               1       5      2018           Audi 2018-06-24   \n",
       "2               2       5      2018           Audi 2018-05-02   \n",
       "3               3       5      2018           Audi 2017-12-07   \n",
       "4               4       5      2018           Audi 2017-10-25   \n",
       "...           ...     ...       ...            ...        ...   \n",
       "31933       31933       4      2015  Mercedes-Benz 2015-06-04   \n",
       "31934       31934       4      2015  Mercedes-Benz 2015-05-19   \n",
       "31935       31935       3      2015  Mercedes-Benz 2015-02-21   \n",
       "31936       31936       2      2015  Mercedes-Benz 2015-01-20   \n",
       "31937       31937       4      2015  Mercedes-Benz 2014-10-06   \n",
       "\n",
       "                                                  review  Updated_Rating  \\\n",
       "0      BEST ALL AROUND PURPOSE CROSSOVER SUV I have n...               1   \n",
       "1      Best car This is a wonderful car.  The technol...               1   \n",
       "2                            Great Buy Do your home work               1   \n",
       "3      Fun Car Great ride. Loaded with technology. St...               1   \n",
       "4      Best luxury SUV w/ perfect comfort/sport balan...               1   \n",
       "...                                                  ...             ...   \n",
       "31933  One week in but I love it.  I just got the car...               1   \n",
       "31934  A delightful car I have been driving the GLA25...               1   \n",
       "31935  This car is amazing but visibility is poor We ...               0   \n",
       "31936  Steering Wheel Module When I first bought this...               0   \n",
       "31937  Fun crossover/hatchback but not an SUV. I've h...               1   \n",
       "\n",
       "                                          Updated_Review Review_Polarity  \n",
       "0      best around purpose crossover suv never seen d...        Positive  \n",
       "1      best car wonderful car technology adaptable ca...        Positive  \n",
       "2                                    great buy home work        Positive  \n",
       "3      fun car great ride loaded technology steering ...        Positive  \n",
       "4      best luxury suv w perfect comfort/sport balanc...        Positive  \n",
       "...                                                  ...             ...  \n",
       "31933  one week love got car procrastinating couple w...        Positive  \n",
       "31934  delightful car driving gla half year absolutel...        Positive  \n",
       "31935  car amazing visibility poor longer car rear wi...         Neutral  \n",
       "31936  steering wheel module first bought car love wi...        Negative  \n",
       "31937  fun crossover/hatchback suv i've day good car ...        Positive  \n",
       "\n",
       "[31938 rows x 9 columns]"
      ]
     },
     "execution_count": 31,
     "metadata": {},
     "output_type": "execute_result"
    }
   ],
   "source": [
    "# Next I create a polarity variable \n",
    "Car_Reviews['Review_Polarity'] = Car_Reviews['Rating'].apply(lambda x: 'Positive' if x > 3 else('Neutral' if x == 3 else 'Negative'))\n",
    "Car_Reviews"
   ]
  },
  {
   "cell_type": "code",
   "execution_count": 32,
   "metadata": {},
   "outputs": [],
   "source": [
    "# I will use SentimentIntensityAnalyzer to calculat the vader rating \n",
    "vader_analyzer=SentimentIntensityAnalyzer()\n",
    "vader = []\n",
    "\n",
    "for i in Car_Reviews['Updated_Review']:\n",
    "    score = vader_analyzer.polarity_scores(i)\n",
    "    vader.append(score['compound'])\n",
    "Car_Reviews['Rating_Vader'] = vader"
   ]
  },
  {
   "cell_type": "code",
   "execution_count": 33,
   "metadata": {},
   "outputs": [
    {
     "data": {
      "text/html": [
       "<div>\n",
       "<style scoped>\n",
       "    .dataframe tbody tr th:only-of-type {\n",
       "        vertical-align: middle;\n",
       "    }\n",
       "\n",
       "    .dataframe tbody tr th {\n",
       "        vertical-align: top;\n",
       "    }\n",
       "\n",
       "    .dataframe thead th {\n",
       "        text-align: right;\n",
       "    }\n",
       "</style>\n",
       "<table border=\"1\" class=\"dataframe\">\n",
       "  <thead>\n",
       "    <tr style=\"text-align: right;\">\n",
       "      <th></th>\n",
       "      <th>Unnamed: 0</th>\n",
       "      <th>Rating</th>\n",
       "      <th>car_year</th>\n",
       "      <th>brand_name</th>\n",
       "      <th>date</th>\n",
       "      <th>review</th>\n",
       "      <th>Updated_Rating</th>\n",
       "      <th>Updated_Review</th>\n",
       "      <th>Review_Polarity</th>\n",
       "      <th>Rating_Vader</th>\n",
       "      <th>Polarity_Vader_Review</th>\n",
       "    </tr>\n",
       "  </thead>\n",
       "  <tbody>\n",
       "    <tr>\n",
       "      <th>0</th>\n",
       "      <td>0</td>\n",
       "      <td>5</td>\n",
       "      <td>2018</td>\n",
       "      <td>Audi</td>\n",
       "      <td>2018-07-11</td>\n",
       "      <td>BEST ALL AROUND PURPOSE CROSSOVER SUV I have n...</td>\n",
       "      <td>1</td>\n",
       "      <td>best around purpose crossover suv never seen d...</td>\n",
       "      <td>Positive</td>\n",
       "      <td>0.9887</td>\n",
       "      <td>Positive</td>\n",
       "    </tr>\n",
       "    <tr>\n",
       "      <th>1</th>\n",
       "      <td>1</td>\n",
       "      <td>5</td>\n",
       "      <td>2018</td>\n",
       "      <td>Audi</td>\n",
       "      <td>2018-06-24</td>\n",
       "      <td>Best car This is a wonderful car.  The technol...</td>\n",
       "      <td>1</td>\n",
       "      <td>best car wonderful car technology adaptable ca...</td>\n",
       "      <td>Positive</td>\n",
       "      <td>0.9590</td>\n",
       "      <td>Positive</td>\n",
       "    </tr>\n",
       "    <tr>\n",
       "      <th>2</th>\n",
       "      <td>2</td>\n",
       "      <td>5</td>\n",
       "      <td>2018</td>\n",
       "      <td>Audi</td>\n",
       "      <td>2018-05-02</td>\n",
       "      <td>Great Buy Do your home work</td>\n",
       "      <td>1</td>\n",
       "      <td>great buy home work</td>\n",
       "      <td>Positive</td>\n",
       "      <td>0.6249</td>\n",
       "      <td>Positive</td>\n",
       "    </tr>\n",
       "    <tr>\n",
       "      <th>3</th>\n",
       "      <td>3</td>\n",
       "      <td>5</td>\n",
       "      <td>2018</td>\n",
       "      <td>Audi</td>\n",
       "      <td>2017-12-07</td>\n",
       "      <td>Fun Car Great ride. Loaded with technology. St...</td>\n",
       "      <td>1</td>\n",
       "      <td>fun car great ride loaded technology steering ...</td>\n",
       "      <td>Positive</td>\n",
       "      <td>0.8126</td>\n",
       "      <td>Positive</td>\n",
       "    </tr>\n",
       "    <tr>\n",
       "      <th>4</th>\n",
       "      <td>4</td>\n",
       "      <td>5</td>\n",
       "      <td>2018</td>\n",
       "      <td>Audi</td>\n",
       "      <td>2017-10-25</td>\n",
       "      <td>Best luxury SUV w/ perfect comfort/sport balan...</td>\n",
       "      <td>1</td>\n",
       "      <td>best luxury suv w perfect comfort/sport balanc...</td>\n",
       "      <td>Positive</td>\n",
       "      <td>0.9932</td>\n",
       "      <td>Positive</td>\n",
       "    </tr>\n",
       "  </tbody>\n",
       "</table>\n",
       "</div>"
      ],
      "text/plain": [
       "   Unnamed: 0  Rating  car_year brand_name       date  \\\n",
       "0           0       5      2018       Audi 2018-07-11   \n",
       "1           1       5      2018       Audi 2018-06-24   \n",
       "2           2       5      2018       Audi 2018-05-02   \n",
       "3           3       5      2018       Audi 2017-12-07   \n",
       "4           4       5      2018       Audi 2017-10-25   \n",
       "\n",
       "                                              review  Updated_Rating  \\\n",
       "0  BEST ALL AROUND PURPOSE CROSSOVER SUV I have n...               1   \n",
       "1  Best car This is a wonderful car.  The technol...               1   \n",
       "2                        Great Buy Do your home work               1   \n",
       "3  Fun Car Great ride. Loaded with technology. St...               1   \n",
       "4  Best luxury SUV w/ perfect comfort/sport balan...               1   \n",
       "\n",
       "                                      Updated_Review Review_Polarity  \\\n",
       "0  best around purpose crossover suv never seen d...        Positive   \n",
       "1  best car wonderful car technology adaptable ca...        Positive   \n",
       "2                                great buy home work        Positive   \n",
       "3  fun car great ride loaded technology steering ...        Positive   \n",
       "4  best luxury suv w perfect comfort/sport balanc...        Positive   \n",
       "\n",
       "   Rating_Vader Polarity_Vader_Review  \n",
       "0        0.9887              Positive  \n",
       "1        0.9590              Positive  \n",
       "2        0.6249              Positive  \n",
       "3        0.8126              Positive  \n",
       "4        0.9932              Positive  "
      ]
     },
     "execution_count": 33,
     "metadata": {},
     "output_type": "execute_result"
    }
   ],
   "source": [
    "# I will also determine the rating of each value by setting the vader to positive, negative, or neutral\n",
    "Car_Reviews['Polarity_Vader_Review'] = Car_Reviews['Rating_Vader'].apply(lambda x: 'Positive' if x > 0 else('Neutral' if x == 0 else 'Negative'))\n",
    "Car_Reviews.head()"
   ]
  },
  {
   "cell_type": "markdown",
   "metadata": {},
   "source": [
    "### Implement Label Encoder"
   ]
  },
  {
   "cell_type": "code",
   "execution_count": 34,
   "metadata": {},
   "outputs": [],
   "source": [
    "# I will now use LabelEncoder on my 'Review_Polarity','Polarity_Vader_Review'\n",
    "label_encode = LabelEncoder()\n",
    "for i in ['Review_Polarity','Polarity_Vader_Review']:\n",
    "    Car_Reviews[i] = label_encode.fit_transform(Car_Reviews[i])"
   ]
  },
  {
   "cell_type": "markdown",
   "metadata": {},
   "source": [
    "## Data Visualizations"
   ]
  },
  {
   "cell_type": "markdown",
   "metadata": {},
   "source": [
    "### Average Rating by Brand Name"
   ]
  },
  {
   "cell_type": "code",
   "execution_count": 35,
   "metadata": {},
   "outputs": [
    {
     "data": {
      "text/plain": [
       "<matplotlib.axes._subplots.AxesSubplot at 0x2b88d3dea90>"
      ]
     },
     "execution_count": 35,
     "metadata": {},
     "output_type": "execute_result"
    },
    {
     "data": {
      "image/png": "[encoded data removed]",
      "text/plain": [
       "<Figure size 432x288 with 1 Axes>"
      ]
     },
     "metadata": {
      "needs_background": "light"
     },
     "output_type": "display_data"
    }
   ],
   "source": [
    "# First I will create a barplot for each brand that shows the average rating with seaborn\n",
    "import seaborn as sns\n",
    "sns.barplot(x ='brand_name', y ='Rating', data = Car_Reviews,  \n",
    "            palette ='plasma')"
   ]
  },
  {
   "cell_type": "markdown",
   "metadata": {},
   "source": [
    "Above we can see that the average rating of each brand is around a four out of five."
   ]
  },
  {
   "cell_type": "markdown",
   "metadata": {},
   "source": [
    "### Number of Reviews by Car Model Year"
   ]
  },
  {
   "cell_type": "code",
   "execution_count": 36,
   "metadata": {},
   "outputs": [
    {
     "data": {
      "text/plain": [
       "[Text(0.5, 1.0, 'Count Per Ratings Per Year')]"
      ]
     },
     "execution_count": 36,
     "metadata": {},
     "output_type": "execute_result"
    },
    {
     "data": {
      "image/png": "[encoded data removed]",
      "text/plain": [
       "<Figure size 1440x720 with 1 Axes>"
      ]
     },
     "metadata": {},
     "output_type": "display_data"
    }
   ],
   "source": [
    "# Next I will create a plot that shows the number of reviews per car model year \n",
    "sns.set(rc={'figure.figsize':(20,10)})\n",
    "sns.countplot(x ='car_year', data = Car_Reviews).set(title='Count Per Ratings Per Year') "
   ]
  },
  {
   "cell_type": "markdown",
   "metadata": {},
   "source": [
    "Above the plot shows that 2004 car brands was the year with the largest amount of reviews"
   ]
  },
  {
   "cell_type": "markdown",
   "metadata": {},
   "source": [
    "### Rating Count Percentage"
   ]
  },
  {
   "cell_type": "code",
   "execution_count": 37,
   "metadata": {},
   "outputs": [],
   "source": [
    "# First I will create rate value for the car reviews.\n",
    "rate_value = Car_Reviews.Rating.value_counts()"
   ]
  },
  {
   "cell_type": "code",
   "execution_count": 38,
   "metadata": {},
   "outputs": [
    {
     "data": {
      "image/png": "[encoded data removed]",
      "text/plain": [
       "<Figure size 720x576 with 1 Axes>"
      ]
     },
     "metadata": {},
     "output_type": "display_data"
    }
   ],
   "source": [
    "# Create a bar plot that shows the percentage of ratings\n",
    "with plt.style.context('ggplot'):\n",
    "    plt.figure(figsize=(10, 8))\n",
    "    plt.bar(rate_value.index, rate_value.values, color='red')\n",
    "    for rating, value in zip(rate_value.index, rate_value.values):\n",
    "        plt.text(rating, value, str(round(value/sum(rate_value.values)*100, 2))+'%', \n",
    "                color='black', bbox=dict(facecolor='white'))\n",
    "    plt.title('Car Brand Review Percentage by Rating')\n",
    "    plt.xlabel('Car Brand Ratings')\n",
    "    plt.ylabel('Rating Count')\n",
    "    plt.yticks(np.arange(0, 20000, 5000))"
   ]
  },
  {
   "cell_type": "markdown",
   "metadata": {},
   "source": [
    "Above we see that on the rating scale a rating of four has been given the most with 54.36% while a rating of one has only been givem 1.71%."
   ]
  },
  {
   "cell_type": "markdown",
   "metadata": {},
   "source": [
    "### Vader Rating by date for each Car Brand"
   ]
  },
  {
   "cell_type": "code",
   "execution_count": 39,
   "metadata": {},
   "outputs": [
    {
     "name": "stdout",
     "output_type": "stream",
     "text": [
      "Requirement already satisfied: plotly in c:\\users\\robyn\\anaconda3\\envs\\dsc650\\lib\\site-packages (5.12.0)\n",
      "Requirement already satisfied: tenacity>=6.2.0 in c:\\users\\robyn\\anaconda3\\envs\\dsc650\\lib\\site-packages (from plotly) (8.1.0)\n"
     ]
    }
   ],
   "source": [
    "!pip install plotly\n",
    "import plotly.express as px"
   ]
  },
  {
   "cell_type": "code",
   "execution_count": null,
   "metadata": {},
   "outputs": [],
   "source": [
    "# I will create a scatter that shows the Vader rating throughout the years for each brand\n",
    "fig = px.scatter(Car_Reviews,\n",
    "          x='date',\n",
    "          y='Rating_Vader',\n",
    "          color='brand_name',\n",
    "          size='Updated_Rating')\n",
    "fig.show()"
   ]
  },
  {
   "cell_type": "markdown",
   "metadata": {},
   "source": [
    "The above scatter plot looks overwhelming when all brands are shown. But on the right side you can click each brand on and off to get a better look at each brand. When you go through each brand you will see that Mercedes has the largest number of reviews and infinity has the least. While Lexus shows the largest number of reviews from 2016 forwad. "
   ]
  },
  {
   "cell_type": "markdown",
   "metadata": {},
   "source": [
    "### Car Brand Review Percentage by Polarity Vader Review"
   ]
  },
  {
   "cell_type": "code",
   "execution_count": 41,
   "metadata": {},
   "outputs": [],
   "source": [
    "# First I will create rate value for the car reviews.\n",
    "rate_value = Car_Reviews.Polarity_Vader_Review.value_counts()"
   ]
  },
  {
   "cell_type": "code",
   "execution_count": 42,
   "metadata": {},
   "outputs": [
    {
     "data": {
      "image/png": "[encoded data removed]",
      "text/plain": [
       "<Figure size 720x576 with 1 Axes>"
      ]
     },
     "metadata": {},
     "output_type": "display_data"
    }
   ],
   "source": [
    "# Create a bar plot that shows the percentage of ratings\n",
    "with plt.style.context('ggplot'):\n",
    "    plt.figure(figsize=(10, 8))\n",
    "    plt.bar(rate_value.index, rate_value.values, color='green')\n",
    "    for rating, value in zip(rate_value.index, rate_value.values):\n",
    "        plt.text(rating, value, str(round(value/sum(rate_value.values)*100, 2))+'%', \n",
    "                color='black', bbox=dict(facecolor='orange'))\n",
    "    plt.title('Car Brand Review Percentage by Polarity Vader Review')\n",
    "    plt.xlabel('Car Brand Polarity Review')\n",
    "    plt.ylabel('Review Count')\n",
    "    plt.yticks(np.arange(0, 30000, 5000))"
   ]
  },
  {
   "cell_type": "markdown",
   "metadata": {},
   "source": [
    "The above bar chart for Car Brand Polarity Vader Review Percentages shows a higher percentage for positive while negative reviews shos 11.07% with a 2.24% for neutral."
   ]
  },
  {
   "cell_type": "markdown",
   "metadata": {},
   "source": [
    "## Modeling"
   ]
  },
  {
   "cell_type": "code",
   "execution_count": 43,
   "metadata": {},
   "outputs": [],
   "source": [
    "# Now I will split the Car review data into a training and test sets\n",
    "Target_data = ['Updated_Review']\n",
    "Predict_data= ['Review_Polarity']\n",
    "X=Car_Reviews[Target_data].values\n",
    "Y=Car_Reviews[Predict_data].values\n",
    "x_train, x_test, y_train, y_test = train_test_split(X,Y, stratify=Y, test_size=.4, random_state=0)"
   ]
  },
  {
   "cell_type": "code",
   "execution_count": 44,
   "metadata": {},
   "outputs": [
    {
     "name": "stdout",
     "output_type": "stream",
     "text": [
      "(19162, 1)\n",
      "(12776, 1)\n",
      "(19162, 1)\n",
      "(12776, 1)\n"
     ]
    },
    {
     "data": {
      "text/plain": [
       "(array([0, 1, 2]), array([ 1050,  1826, 16286], dtype=int64))"
      ]
     },
     "execution_count": 44,
     "metadata": {},
     "output_type": "execute_result"
    }
   ],
   "source": [
    "# View the shape for my training and test sets\n",
    "print(x_train.shape)\n",
    "print(x_test.shape)\n",
    "print(y_train.shape)\n",
    "print(y_test.shape)\n",
    "np.unique(y_train, return_counts=True)"
   ]
  },
  {
   "cell_type": "markdown",
   "metadata": {},
   "source": [
    "## TFIDF Training Set Data"
   ]
  },
  {
   "cell_type": "code",
   "execution_count": 45,
   "metadata": {},
   "outputs": [],
   "source": [
    "# Create TfidfVectorizer feature for the x_train\n",
    "tfidf_train_data = TfidfVectorizer()\n",
    "x_train_vector = tfidf_train_data.fit_transform(x_train.ravel())"
   ]
  },
  {
   "cell_type": "code",
   "execution_count": 46,
   "metadata": {},
   "outputs": [
    {
     "data": {
      "text/plain": [
       "(19162, 21980)"
      ]
     },
     "execution_count": 46,
     "metadata": {},
     "output_type": "execute_result"
    }
   ],
   "source": [
    "# Pull TfidfVectorizer train shape\n",
    "x_train_vector.shape"
   ]
  },
  {
   "cell_type": "markdown",
   "metadata": {},
   "source": [
    "## Logistic Regression"
   ]
  },
  {
   "cell_type": "code",
   "execution_count": 47,
   "metadata": {},
   "outputs": [],
   "source": [
    "from sklearn.linear_model import LogisticRegression"
   ]
  },
  {
   "cell_type": "code",
   "execution_count": 48,
   "metadata": {},
   "outputs": [
    {
     "name": "stdout",
     "output_type": "stream",
     "text": [
      "0.9149358104581985\n"
     ]
    }
   ],
   "source": [
    "# logistic regression model with train data\n",
    "logistic_model = LogisticRegression()\n",
    "logistic_model = logistic_model.fit(x_train_vector, y_train)\n",
    "print(logistic_model.score(x_train_vector, y_train))"
   ]
  },
  {
   "cell_type": "markdown",
   "metadata": {},
   "source": [
    "## Random Forest Analysis"
   ]
  },
  {
   "cell_type": "code",
   "execution_count": 49,
   "metadata": {},
   "outputs": [],
   "source": [
    "from sklearn.ensemble import RandomForestClassifier"
   ]
  },
  {
   "cell_type": "code",
   "execution_count": 50,
   "metadata": {},
   "outputs": [
    {
     "name": "stdout",
     "output_type": "stream",
     "text": [
      "0.9995303204258428\n"
     ]
    }
   ],
   "source": [
    "# Random Forest Classifier accuracy on the train set\n",
    "Random_Forest = RandomForestClassifier(max_depth = 300, random_state = 80)\n",
    "Random_Forest.fit(x_train_vector, y_train.ravel())\n",
    "print(Random_Forest.score(x_train_vector, y_train.ravel()))"
   ]
  },
  {
   "cell_type": "markdown",
   "metadata": {},
   "source": [
    "As seen above the Random Forest had an accuracy of 99.95% and the Logistic Regression had a accuracy of 91.49%"
   ]
  },
  {
   "cell_type": "markdown",
   "metadata": {},
   "source": [
    "## Brand Review"
   ]
  },
  {
   "cell_type": "code",
   "execution_count": 51,
   "metadata": {},
   "outputs": [
    {
     "data": {
      "text/plain": [
       "[Text(0.5, 1.0, 'Vader Ratings per Year')]"
      ]
     },
     "execution_count": 51,
     "metadata": {},
     "output_type": "execute_result"
    },
    {
     "data": {
      "image/png": "[encoded data removed]",
      "text/plain": [
       "<Figure size 1440x720 with 1 Axes>"
      ]
     },
     "metadata": {},
     "output_type": "display_data"
    }
   ],
   "source": [
    "# First I will view the vader rating per year\n",
    "sns.set(rc={'figure.figsize':(20,10)})\n",
    "sns.countplot(data = Car_Reviews, x = 'car_year', hue = 'Polarity_Vader_Review').set(title='Vader Ratings per Year')"
   ]
  },
  {
   "cell_type": "markdown",
   "metadata": {},
   "source": [
    "Above it is seen that positive reviews weigh out both neutral and negative reviews as the 2004 models had the highest number of reviews compared to other years which saw over 2000 positive reviews with less than 500 negative and neutral reviews "
   ]
  },
  {
   "cell_type": "code",
   "execution_count": 52,
   "metadata": {},
   "outputs": [
    {
     "data": {
      "text/plain": [
       "[Text(0.5, 1.0, 'Vader Ratings by Brand per Year')]"
      ]
     },
     "execution_count": 52,
     "metadata": {},
     "output_type": "execute_result"
    },
    {
     "data": {
      "image/png": "[encoded data removed]",
      "text/plain": [
       "<Figure size 1440x720 with 1 Axes>"
      ]
     },
     "metadata": {},
     "output_type": "display_data"
    }
   ],
   "source": [
    "# I will use seaborn to create a vizualization that shows all ratings by brand.\n",
    "sns.set(rc={'figure.figsize':(20,10)})\n",
    "sns.countplot(data = Car_Reviews, x = 'car_year', hue = 'brand_name').set(title='Vader Ratings by Brand per Year')"
   ]
  },
  {
   "cell_type": "markdown",
   "metadata": {},
   "source": [
    "Above the seaborn graph shows BMW and Mercedes with the highest number of reviews for 2004 with over 700 for both while audi saw over 600, lexus saw around 550, and Infiniti saw around 480 in 2004. While in 2018 the graph indicated Audi had the highest number of reviews with around 180 while BMW had around 90 reviews. Then Mercedes and Lexus had around 50 and Infiniti saw around 30 reviews. "
   ]
  },
  {
   "cell_type": "markdown",
   "metadata": {},
   "source": [
    "## Dummy Variable Created Per Brand"
   ]
  },
  {
   "cell_type": "code",
   "execution_count": 53,
   "metadata": {},
   "outputs": [
    {
     "data": {
      "text/html": [
       "<div>\n",
       "<style scoped>\n",
       "    .dataframe tbody tr th:only-of-type {\n",
       "        vertical-align: middle;\n",
       "    }\n",
       "\n",
       "    .dataframe tbody tr th {\n",
       "        vertical-align: top;\n",
       "    }\n",
       "\n",
       "    .dataframe thead th {\n",
       "        text-align: right;\n",
       "    }\n",
       "</style>\n",
       "<table border=\"1\" class=\"dataframe\">\n",
       "  <thead>\n",
       "    <tr style=\"text-align: right;\">\n",
       "      <th></th>\n",
       "      <th>Unnamed: 0</th>\n",
       "      <th>Rating</th>\n",
       "      <th>car_year</th>\n",
       "      <th>brand_name</th>\n",
       "      <th>date</th>\n",
       "      <th>review</th>\n",
       "      <th>Updated_Rating</th>\n",
       "      <th>Updated_Review</th>\n",
       "      <th>Review_Polarity</th>\n",
       "      <th>Rating_Vader</th>\n",
       "      <th>Polarity_Vader_Review</th>\n",
       "      <th>Audi</th>\n",
       "      <th>BMW</th>\n",
       "      <th>INFINITI</th>\n",
       "      <th>Lexus</th>\n",
       "      <th>Mercedes-Benz</th>\n",
       "    </tr>\n",
       "  </thead>\n",
       "  <tbody>\n",
       "    <tr>\n",
       "      <th>0</th>\n",
       "      <td>0</td>\n",
       "      <td>5</td>\n",
       "      <td>2018</td>\n",
       "      <td>Audi</td>\n",
       "      <td>2018-07-11</td>\n",
       "      <td>BEST ALL AROUND PURPOSE CROSSOVER SUV I have n...</td>\n",
       "      <td>1</td>\n",
       "      <td>best around purpose crossover suv never seen d...</td>\n",
       "      <td>2</td>\n",
       "      <td>0.9887</td>\n",
       "      <td>2</td>\n",
       "      <td>1</td>\n",
       "      <td>0</td>\n",
       "      <td>0</td>\n",
       "      <td>0</td>\n",
       "      <td>0</td>\n",
       "    </tr>\n",
       "    <tr>\n",
       "      <th>1</th>\n",
       "      <td>1</td>\n",
       "      <td>5</td>\n",
       "      <td>2018</td>\n",
       "      <td>Audi</td>\n",
       "      <td>2018-06-24</td>\n",
       "      <td>Best car This is a wonderful car.  The technol...</td>\n",
       "      <td>1</td>\n",
       "      <td>best car wonderful car technology adaptable ca...</td>\n",
       "      <td>2</td>\n",
       "      <td>0.9590</td>\n",
       "      <td>2</td>\n",
       "      <td>1</td>\n",
       "      <td>0</td>\n",
       "      <td>0</td>\n",
       "      <td>0</td>\n",
       "      <td>0</td>\n",
       "    </tr>\n",
       "    <tr>\n",
       "      <th>2</th>\n",
       "      <td>2</td>\n",
       "      <td>5</td>\n",
       "      <td>2018</td>\n",
       "      <td>Audi</td>\n",
       "      <td>2018-05-02</td>\n",
       "      <td>Great Buy Do your home work</td>\n",
       "      <td>1</td>\n",
       "      <td>great buy home work</td>\n",
       "      <td>2</td>\n",
       "      <td>0.6249</td>\n",
       "      <td>2</td>\n",
       "      <td>1</td>\n",
       "      <td>0</td>\n",
       "      <td>0</td>\n",
       "      <td>0</td>\n",
       "      <td>0</td>\n",
       "    </tr>\n",
       "    <tr>\n",
       "      <th>3</th>\n",
       "      <td>3</td>\n",
       "      <td>5</td>\n",
       "      <td>2018</td>\n",
       "      <td>Audi</td>\n",
       "      <td>2017-12-07</td>\n",
       "      <td>Fun Car Great ride. Loaded with technology. St...</td>\n",
       "      <td>1</td>\n",
       "      <td>fun car great ride loaded technology steering ...</td>\n",
       "      <td>2</td>\n",
       "      <td>0.8126</td>\n",
       "      <td>2</td>\n",
       "      <td>1</td>\n",
       "      <td>0</td>\n",
       "      <td>0</td>\n",
       "      <td>0</td>\n",
       "      <td>0</td>\n",
       "    </tr>\n",
       "    <tr>\n",
       "      <th>4</th>\n",
       "      <td>4</td>\n",
       "      <td>5</td>\n",
       "      <td>2018</td>\n",
       "      <td>Audi</td>\n",
       "      <td>2017-10-25</td>\n",
       "      <td>Best luxury SUV w/ perfect comfort/sport balan...</td>\n",
       "      <td>1</td>\n",
       "      <td>best luxury suv w perfect comfort/sport balanc...</td>\n",
       "      <td>2</td>\n",
       "      <td>0.9932</td>\n",
       "      <td>2</td>\n",
       "      <td>1</td>\n",
       "      <td>0</td>\n",
       "      <td>0</td>\n",
       "      <td>0</td>\n",
       "      <td>0</td>\n",
       "    </tr>\n",
       "    <tr>\n",
       "      <th>...</th>\n",
       "      <td>...</td>\n",
       "      <td>...</td>\n",
       "      <td>...</td>\n",
       "      <td>...</td>\n",
       "      <td>...</td>\n",
       "      <td>...</td>\n",
       "      <td>...</td>\n",
       "      <td>...</td>\n",
       "      <td>...</td>\n",
       "      <td>...</td>\n",
       "      <td>...</td>\n",
       "      <td>...</td>\n",
       "      <td>...</td>\n",
       "      <td>...</td>\n",
       "      <td>...</td>\n",
       "      <td>...</td>\n",
       "    </tr>\n",
       "    <tr>\n",
       "      <th>31933</th>\n",
       "      <td>31933</td>\n",
       "      <td>4</td>\n",
       "      <td>2015</td>\n",
       "      <td>Mercedes-Benz</td>\n",
       "      <td>2015-06-04</td>\n",
       "      <td>One week in but I love it.  I just got the car...</td>\n",
       "      <td>1</td>\n",
       "      <td>one week love got car procrastinating couple w...</td>\n",
       "      <td>2</td>\n",
       "      <td>0.9794</td>\n",
       "      <td>2</td>\n",
       "      <td>0</td>\n",
       "      <td>0</td>\n",
       "      <td>0</td>\n",
       "      <td>0</td>\n",
       "      <td>1</td>\n",
       "    </tr>\n",
       "    <tr>\n",
       "      <th>31934</th>\n",
       "      <td>31934</td>\n",
       "      <td>4</td>\n",
       "      <td>2015</td>\n",
       "      <td>Mercedes-Benz</td>\n",
       "      <td>2015-05-19</td>\n",
       "      <td>A delightful car I have been driving the GLA25...</td>\n",
       "      <td>1</td>\n",
       "      <td>delightful car driving gla half year absolutel...</td>\n",
       "      <td>2</td>\n",
       "      <td>0.9746</td>\n",
       "      <td>2</td>\n",
       "      <td>0</td>\n",
       "      <td>0</td>\n",
       "      <td>0</td>\n",
       "      <td>0</td>\n",
       "      <td>1</td>\n",
       "    </tr>\n",
       "    <tr>\n",
       "      <th>31935</th>\n",
       "      <td>31935</td>\n",
       "      <td>3</td>\n",
       "      <td>2015</td>\n",
       "      <td>Mercedes-Benz</td>\n",
       "      <td>2015-02-21</td>\n",
       "      <td>This car is amazing but visibility is poor We ...</td>\n",
       "      <td>0</td>\n",
       "      <td>car amazing visibility poor longer car rear wi...</td>\n",
       "      <td>1</td>\n",
       "      <td>0.9669</td>\n",
       "      <td>2</td>\n",
       "      <td>0</td>\n",
       "      <td>0</td>\n",
       "      <td>0</td>\n",
       "      <td>0</td>\n",
       "      <td>1</td>\n",
       "    </tr>\n",
       "    <tr>\n",
       "      <th>31936</th>\n",
       "      <td>31936</td>\n",
       "      <td>2</td>\n",
       "      <td>2015</td>\n",
       "      <td>Mercedes-Benz</td>\n",
       "      <td>2015-01-20</td>\n",
       "      <td>Steering Wheel Module When I first bought this...</td>\n",
       "      <td>0</td>\n",
       "      <td>steering wheel module first bought car love wi...</td>\n",
       "      <td>0</td>\n",
       "      <td>-0.2023</td>\n",
       "      <td>0</td>\n",
       "      <td>0</td>\n",
       "      <td>0</td>\n",
       "      <td>0</td>\n",
       "      <td>0</td>\n",
       "      <td>1</td>\n",
       "    </tr>\n",
       "    <tr>\n",
       "      <th>31937</th>\n",
       "      <td>31937</td>\n",
       "      <td>4</td>\n",
       "      <td>2015</td>\n",
       "      <td>Mercedes-Benz</td>\n",
       "      <td>2014-10-06</td>\n",
       "      <td>Fun crossover/hatchback but not an SUV. I've h...</td>\n",
       "      <td>1</td>\n",
       "      <td>fun crossover/hatchback suv i've day good car ...</td>\n",
       "      <td>2</td>\n",
       "      <td>0.9805</td>\n",
       "      <td>2</td>\n",
       "      <td>0</td>\n",
       "      <td>0</td>\n",
       "      <td>0</td>\n",
       "      <td>0</td>\n",
       "      <td>1</td>\n",
       "    </tr>\n",
       "  </tbody>\n",
       "</table>\n",
       "<p>31938 rows × 16 columns</p>\n",
       "</div>"
      ],
      "text/plain": [
       "       Unnamed: 0  Rating  car_year     brand_name       date  \\\n",
       "0               0       5      2018           Audi 2018-07-11   \n",
       "1               1       5      2018           Audi 2018-06-24   \n",
       "2               2       5      2018           Audi 2018-05-02   \n",
       "3               3       5      2018           Audi 2017-12-07   \n",
       "4               4       5      2018           Audi 2017-10-25   \n",
       "...           ...     ...       ...            ...        ...   \n",
       "31933       31933       4      2015  Mercedes-Benz 2015-06-04   \n",
       "31934       31934       4      2015  Mercedes-Benz 2015-05-19   \n",
       "31935       31935       3      2015  Mercedes-Benz 2015-02-21   \n",
       "31936       31936       2      2015  Mercedes-Benz 2015-01-20   \n",
       "31937       31937       4      2015  Mercedes-Benz 2014-10-06   \n",
       "\n",
       "                                                  review  Updated_Rating  \\\n",
       "0      BEST ALL AROUND PURPOSE CROSSOVER SUV I have n...               1   \n",
       "1      Best car This is a wonderful car.  The technol...               1   \n",
       "2                            Great Buy Do your home work               1   \n",
       "3      Fun Car Great ride. Loaded with technology. St...               1   \n",
       "4      Best luxury SUV w/ perfect comfort/sport balan...               1   \n",
       "...                                                  ...             ...   \n",
       "31933  One week in but I love it.  I just got the car...               1   \n",
       "31934  A delightful car I have been driving the GLA25...               1   \n",
       "31935  This car is amazing but visibility is poor We ...               0   \n",
       "31936  Steering Wheel Module When I first bought this...               0   \n",
       "31937  Fun crossover/hatchback but not an SUV. I've h...               1   \n",
       "\n",
       "                                          Updated_Review  Review_Polarity  \\\n",
       "0      best around purpose crossover suv never seen d...                2   \n",
       "1      best car wonderful car technology adaptable ca...                2   \n",
       "2                                    great buy home work                2   \n",
       "3      fun car great ride loaded technology steering ...                2   \n",
       "4      best luxury suv w perfect comfort/sport balanc...                2   \n",
       "...                                                  ...              ...   \n",
       "31933  one week love got car procrastinating couple w...                2   \n",
       "31934  delightful car driving gla half year absolutel...                2   \n",
       "31935  car amazing visibility poor longer car rear wi...                1   \n",
       "31936  steering wheel module first bought car love wi...                0   \n",
       "31937  fun crossover/hatchback suv i've day good car ...                2   \n",
       "\n",
       "       Rating_Vader  Polarity_Vader_Review  Audi  BMW  INFINITI  Lexus  \\\n",
       "0            0.9887                      2     1    0         0      0   \n",
       "1            0.9590                      2     1    0         0      0   \n",
       "2            0.6249                      2     1    0         0      0   \n",
       "3            0.8126                      2     1    0         0      0   \n",
       "4            0.9932                      2     1    0         0      0   \n",
       "...             ...                    ...   ...  ...       ...    ...   \n",
       "31933        0.9794                      2     0    0         0      0   \n",
       "31934        0.9746                      2     0    0         0      0   \n",
       "31935        0.9669                      2     0    0         0      0   \n",
       "31936       -0.2023                      0     0    0         0      0   \n",
       "31937        0.9805                      2     0    0         0      0   \n",
       "\n",
       "       Mercedes-Benz  \n",
       "0                  0  \n",
       "1                  0  \n",
       "2                  0  \n",
       "3                  0  \n",
       "4                  0  \n",
       "...              ...  \n",
       "31933              1  \n",
       "31934              1  \n",
       "31935              1  \n",
       "31936              1  \n",
       "31937              1  \n",
       "\n",
       "[31938 rows x 16 columns]"
      ]
     },
     "execution_count": 53,
     "metadata": {},
     "output_type": "execute_result"
    }
   ],
   "source": [
    "# Dummy variables created for each brand \n",
    "brand = pd.get_dummies(Car_Reviews['brand_name'])\n",
    "Car_Reviews = pd.concat([Car_Reviews,brand],axis=1)\n",
    "Car_Reviews"
   ]
  },
  {
   "cell_type": "markdown",
   "metadata": {},
   "source": [
    "The creation of dummy variables will allow me to further evaluate each brand."
   ]
  },
  {
   "cell_type": "markdown",
   "metadata": {},
   "source": [
    "## Models By Brand\n",
    "## Audi Model"
   ]
  },
  {
   "cell_type": "code",
   "execution_count": null,
   "metadata": {},
   "outputs": [],
   "source": [
    "# Create a histogram that also shows reviews by year\n",
    "fig = px.histogram(Car_Reviews, x=\"car_year\", y=\"Rating_Vader\", color=\"brand_name\", marginal=\"rug\", hover_data=Car_Reviews.columns)\n",
    "fig.show()"
   ]
  },
  {
   "cell_type": "code",
   "execution_count": 55,
   "metadata": {},
   "outputs": [],
   "source": [
    "# Now I will split the Car review data into a training and test sets for Audi\n",
    "Target_data = ['Updated_Review']\n",
    "Predict_data= ['Audi']\n",
    "X=Car_Reviews[Target_data].values\n",
    "Y=Car_Reviews[Predict_data].values\n",
    "x_train, x_test, y_train, y_test = train_test_split(X,Y, stratify=Y, test_size=.4, random_state=0)"
   ]
  },
  {
   "cell_type": "code",
   "execution_count": 56,
   "metadata": {},
   "outputs": [
    {
     "name": "stdout",
     "output_type": "stream",
     "text": [
      "(19162, 1)\n",
      "(12776, 1)\n",
      "(19162, 1)\n",
      "(12776, 1)\n"
     ]
    },
    {
     "data": {
      "text/plain": [
       "(array([0, 1], dtype=uint8), array([15536,  3626], dtype=int64))"
      ]
     },
     "execution_count": 56,
     "metadata": {},
     "output_type": "execute_result"
    }
   ],
   "source": [
    "# View the shape for my training and test sets for Audi\n",
    "print(x_train.shape)\n",
    "print(x_test.shape)\n",
    "print(y_train.shape)\n",
    "print(y_test.shape)\n",
    "np.unique(y_train, return_counts=True)"
   ]
  },
  {
   "cell_type": "code",
   "execution_count": 57,
   "metadata": {},
   "outputs": [],
   "source": [
    "# Create TfidfVectorizer feature for the x_train\n",
    "tfidf_train_data = TfidfVectorizer()\n",
    "audi_x_train_vector = tfidf_train_data.fit_transform(x_train.ravel())"
   ]
  },
  {
   "cell_type": "code",
   "execution_count": 58,
   "metadata": {},
   "outputs": [
    {
     "data": {
      "text/plain": [
       "(19162, 22105)"
      ]
     },
     "execution_count": 58,
     "metadata": {},
     "output_type": "execute_result"
    }
   ],
   "source": [
    "# Pull TfidfVectorizer train shape\n",
    "audi_x_train_vector.shape"
   ]
  },
  {
   "cell_type": "code",
   "execution_count": 59,
   "metadata": {},
   "outputs": [
    {
     "data": {
      "text/plain": [
       "0.9061162717879135"
      ]
     },
     "execution_count": 59,
     "metadata": {},
     "output_type": "execute_result"
    }
   ],
   "source": [
    "# View the Audi logistic regression model with train data\n",
    "audi_logistic_model = LogisticRegression()\n",
    "audi_logistic_model = logistic_model.fit(audi_x_train_vector, y_train)\n",
    "audi_score = audi_logistic_model.score(audi_x_train_vector, y_train)\n",
    "audi_score"
   ]
  },
  {
   "cell_type": "markdown",
   "metadata": {},
   "source": [
    "## BMW Model"
   ]
  },
  {
   "cell_type": "code",
   "execution_count": null,
   "metadata": {},
   "outputs": [],
   "source": [
    "# Create a histogram that also shows reviews by year\n",
    "fig = px.histogram(Car_Reviews, x=\"car_year\", y=\"Rating_Vader\", color=\"brand_name\", marginal=\"rug\", hover_data=Car_Reviews.columns)\n",
    "fig.show()"
   ]
  },
  {
   "cell_type": "code",
   "execution_count": 61,
   "metadata": {},
   "outputs": [],
   "source": [
    "# Now I will split the Car review data into a training and test sets for BMW\n",
    "Target_data = ['Updated_Review']\n",
    "Predict_data= ['BMW']\n",
    "X=Car_Reviews[Target_data].values\n",
    "Y=Car_Reviews[Predict_data].values\n",
    "x_train, x_test, y_train, y_test = train_test_split(X,Y, stratify=Y, test_size=.4, random_state=0)"
   ]
  },
  {
   "cell_type": "code",
   "execution_count": 62,
   "metadata": {},
   "outputs": [
    {
     "name": "stdout",
     "output_type": "stream",
     "text": [
      "(19162, 1)\n",
      "(12776, 1)\n",
      "(19162, 1)\n",
      "(12776, 1)\n"
     ]
    },
    {
     "data": {
      "text/plain": [
       "(array([0, 1], dtype=uint8), array([14326,  4836], dtype=int64))"
      ]
     },
     "execution_count": 62,
     "metadata": {},
     "output_type": "execute_result"
    }
   ],
   "source": [
    "# View the shape for my training and test sets for BMW\n",
    "print(x_train.shape)\n",
    "print(x_test.shape)\n",
    "print(y_train.shape)\n",
    "print(y_test.shape)\n",
    "np.unique(y_train, return_counts=True)"
   ]
  },
  {
   "cell_type": "code",
   "execution_count": 63,
   "metadata": {},
   "outputs": [],
   "source": [
    "# Create TfidfVectorizer feature for the x_train\n",
    "tfidf_train_data = TfidfVectorizer()\n",
    "BMW_x_train_vector = tfidf_train_data.fit_transform(x_train.ravel())"
   ]
  },
  {
   "cell_type": "code",
   "execution_count": 64,
   "metadata": {},
   "outputs": [
    {
     "data": {
      "text/plain": [
       "(19162, 21979)"
      ]
     },
     "execution_count": 64,
     "metadata": {},
     "output_type": "execute_result"
    }
   ],
   "source": [
    "# Pull TfidfVectorizer train shape\n",
    "BMW_x_train_vector.shape"
   ]
  },
  {
   "cell_type": "code",
   "execution_count": 65,
   "metadata": {},
   "outputs": [
    {
     "data": {
      "text/plain": [
       "0.8776745642417284"
      ]
     },
     "execution_count": 65,
     "metadata": {},
     "output_type": "execute_result"
    }
   ],
   "source": [
    "# View the Audi logistic regression model with train data\n",
    "BMW_logistic_model = LogisticRegression()\n",
    "BMW_logistic_model = logistic_model.fit(BMW_x_train_vector, y_train)\n",
    "BMW_score = BMW_logistic_model.score(BMW_x_train_vector, y_train)\n",
    "BMW_score"
   ]
  },
  {
   "cell_type": "markdown",
   "metadata": {},
   "source": [
    "## Infiniti Model"
   ]
  },
  {
   "cell_type": "code",
   "execution_count": null,
   "metadata": {},
   "outputs": [],
   "source": [
    "# Create a histogram that also shows reviews by year\n",
    "fig = px.histogram(Car_Reviews, x=\"car_year\", y=\"Rating_Vader\", color=\"brand_name\", marginal=\"rug\", hover_data=Car_Reviews.columns)\n",
    "fig.show()"
   ]
  },
  {
   "cell_type": "code",
   "execution_count": 67,
   "metadata": {},
   "outputs": [],
   "source": [
    "# Now I will split the Car review data into a training and test sets for Infiniti\n",
    "Target_data = ['Updated_Review']\n",
    "Predict_data= ['INFINITI']\n",
    "X=Car_Reviews[Target_data].values\n",
    "Y=Car_Reviews[Predict_data].values\n",
    "x_train, x_test, y_train, y_test = train_test_split(X,Y, stratify=Y, test_size=.4, random_state=0)"
   ]
  },
  {
   "cell_type": "code",
   "execution_count": 68,
   "metadata": {},
   "outputs": [
    {
     "name": "stdout",
     "output_type": "stream",
     "text": [
      "(19162, 1)\n",
      "(12776, 1)\n",
      "(19162, 1)\n",
      "(12776, 1)\n"
     ]
    },
    {
     "data": {
      "text/plain": [
       "(array([0, 1], dtype=uint8), array([16578,  2584], dtype=int64))"
      ]
     },
     "execution_count": 68,
     "metadata": {},
     "output_type": "execute_result"
    }
   ],
   "source": [
    "# View the shape for my training and test sets for Infiniti\n",
    "print(x_train.shape)\n",
    "print(x_test.shape)\n",
    "print(y_train.shape)\n",
    "print(y_test.shape)\n",
    "np.unique(y_train, return_counts=True)"
   ]
  },
  {
   "cell_type": "code",
   "execution_count": 69,
   "metadata": {},
   "outputs": [],
   "source": [
    "# Create TfidfVectorizer feature for the x_train\n",
    "tfidf_train_data = TfidfVectorizer()\n",
    "Infiniti_x_train_vector = tfidf_train_data.fit_transform(x_train.ravel())"
   ]
  },
  {
   "cell_type": "code",
   "execution_count": 70,
   "metadata": {},
   "outputs": [
    {
     "data": {
      "text/plain": [
       "(19162, 22035)"
      ]
     },
     "execution_count": 70,
     "metadata": {},
     "output_type": "execute_result"
    }
   ],
   "source": [
    "# Pull TfidfVectorizer train shape\n",
    "Infiniti_x_train_vector.shape"
   ]
  },
  {
   "cell_type": "code",
   "execution_count": 71,
   "metadata": {},
   "outputs": [
    {
     "data": {
      "text/plain": [
       "0.9141008245485858"
      ]
     },
     "execution_count": 71,
     "metadata": {},
     "output_type": "execute_result"
    }
   ],
   "source": [
    "# View the Infiniti logistic regression model with train data\n",
    "Infiniti_logistic_model = LogisticRegression()\n",
    "Infiniti_logistic_model = logistic_model.fit(Infiniti_x_train_vector, y_train)\n",
    "Infiniti_score = Infiniti_logistic_model.score(Infiniti_x_train_vector, y_train)\n",
    "Infiniti_score"
   ]
  },
  {
   "cell_type": "markdown",
   "metadata": {},
   "source": [
    "## Lexus Model"
   ]
  },
  {
   "cell_type": "code",
   "execution_count": null,
   "metadata": {},
   "outputs": [],
   "source": [
    "# Create a histogram that also shows reviews by year\n",
    "fig = px.histogram(Car_Reviews, x=\"car_year\", y=\"Rating_Vader\", color=\"brand_name\", marginal=\"rug\", hover_data=Car_Reviews.columns)\n",
    "fig.show()"
   ]
  },
  {
   "cell_type": "code",
   "execution_count": 73,
   "metadata": {},
   "outputs": [],
   "source": [
    "# Now I will split the Car review data into a training and test sets for Lexus\n",
    "Target_data = ['Updated_Review']\n",
    "Predict_data= ['Lexus']\n",
    "X=Car_Reviews[Target_data].values\n",
    "Y=Car_Reviews[Predict_data].values\n",
    "x_train, x_test, y_train, y_test = train_test_split(X,Y, stratify=Y, test_size=.4, random_state=0)"
   ]
  },
  {
   "cell_type": "code",
   "execution_count": 74,
   "metadata": {},
   "outputs": [
    {
     "name": "stdout",
     "output_type": "stream",
     "text": [
      "(19162, 1)\n",
      "(12776, 1)\n",
      "(19162, 1)\n",
      "(12776, 1)\n"
     ]
    },
    {
     "data": {
      "text/plain": [
       "(array([0, 1], dtype=uint8), array([15470,  3692], dtype=int64))"
      ]
     },
     "execution_count": 74,
     "metadata": {},
     "output_type": "execute_result"
    }
   ],
   "source": [
    "# View the shape for my training and test sets for Lexus\n",
    "print(x_train.shape)\n",
    "print(x_test.shape)\n",
    "print(y_train.shape)\n",
    "print(y_test.shape)\n",
    "np.unique(y_train, return_counts=True)"
   ]
  },
  {
   "cell_type": "code",
   "execution_count": 75,
   "metadata": {},
   "outputs": [],
   "source": [
    "# Create TfidfVectorizer feature for the x_train\n",
    "tfidf_train_data = TfidfVectorizer()\n",
    "Lexus_x_train_vector = tfidf_train_data.fit_transform(x_train.ravel())"
   ]
  },
  {
   "cell_type": "code",
   "execution_count": 76,
   "metadata": {},
   "outputs": [
    {
     "data": {
      "text/plain": [
       "(19162, 22017)"
      ]
     },
     "execution_count": 76,
     "metadata": {},
     "output_type": "execute_result"
    }
   ],
   "source": [
    "# Pull TfidfVectorizer train shape\n",
    "Lexus_x_train_vector.shape"
   ]
  },
  {
   "cell_type": "code",
   "execution_count": 77,
   "metadata": {},
   "outputs": [
    {
     "data": {
      "text/plain": [
       "0.9010019830915353"
      ]
     },
     "execution_count": 77,
     "metadata": {},
     "output_type": "execute_result"
    }
   ],
   "source": [
    "# View the Infiniti logistic regression model with train data\n",
    "Lexus_logistic_model = LogisticRegression()\n",
    "Lexus_logistic_model = logistic_model.fit(Lexus_x_train_vector, y_train)\n",
    "Lexus_score = Lexus_logistic_model.score(Lexus_x_train_vector, y_train)\n",
    "Lexus_score"
   ]
  },
  {
   "cell_type": "markdown",
   "metadata": {},
   "source": [
    "## Mercedes-Benz Model"
   ]
  },
  {
   "cell_type": "code",
   "execution_count": null,
   "metadata": {},
   "outputs": [],
   "source": [
    "# Create a histogram that also shows reviews by year\n",
    "fig = px.histogram(Car_Reviews, x=\"car_year\", y=\"Rating_Vader\", color=\"brand_name\", marginal=\"rug\", hover_data=Car_Reviews.columns)\n",
    "fig.show()"
   ]
  },
  {
   "cell_type": "code",
   "execution_count": 79,
   "metadata": {},
   "outputs": [],
   "source": [
    "# Now I will split the Car review data into a training and test sets for Mercedes-Benz\n",
    "Target_data = ['Updated_Review']\n",
    "Predict_data= ['Mercedes-Benz']\n",
    "X=Car_Reviews[Target_data].values\n",
    "Y=Car_Reviews[Predict_data].values\n",
    "x_train, x_test, y_train, y_test = train_test_split(X,Y, stratify=Y, test_size=.4, random_state=0)"
   ]
  },
  {
   "cell_type": "code",
   "execution_count": 80,
   "metadata": {},
   "outputs": [
    {
     "name": "stdout",
     "output_type": "stream",
     "text": [
      "(19162, 1)\n",
      "(12776, 1)\n",
      "(19162, 1)\n",
      "(12776, 1)\n"
     ]
    },
    {
     "data": {
      "text/plain": [
       "(array([0, 1], dtype=uint8), array([14737,  4425], dtype=int64))"
      ]
     },
     "execution_count": 80,
     "metadata": {},
     "output_type": "execute_result"
    }
   ],
   "source": [
    "# View the shape for my training and test sets for Mercedes-Benz\n",
    "print(x_train.shape)\n",
    "print(x_test.shape)\n",
    "print(y_train.shape)\n",
    "print(y_test.shape)\n",
    "np.unique(y_train, return_counts=True)"
   ]
  },
  {
   "cell_type": "code",
   "execution_count": 81,
   "metadata": {},
   "outputs": [],
   "source": [
    "# Create TfidfVectorizer feature for the x_train\n",
    "tfidf_train_data = TfidfVectorizer()\n",
    "Mercedes_x_train_vector = tfidf_train_data.fit_transform(x_train.ravel())"
   ]
  },
  {
   "cell_type": "code",
   "execution_count": 82,
   "metadata": {},
   "outputs": [
    {
     "data": {
      "text/plain": [
       "(19162, 22100)"
      ]
     },
     "execution_count": 82,
     "metadata": {},
     "output_type": "execute_result"
    }
   ],
   "source": [
    "# Pull TfidfVectorizer train shape\n",
    "Mercedes_x_train_vector.shape"
   ]
  },
  {
   "cell_type": "code",
   "execution_count": 83,
   "metadata": {},
   "outputs": [
    {
     "data": {
      "text/plain": [
       "0.8843022648992799"
      ]
     },
     "execution_count": 83,
     "metadata": {},
     "output_type": "execute_result"
    }
   ],
   "source": [
    "# View the Infiniti logistic regression model with train data\n",
    "Mercedes_logistic_model = LogisticRegression()\n",
    "Mercedes_logistic_model = logistic_model.fit(Mercedes_x_train_vector, y_train)\n",
    "Mercedes_score = Mercedes_logistic_model.score(Mercedes_x_train_vector, y_train)\n",
    "Mercedes_score"
   ]
  },
  {
   "cell_type": "markdown",
   "metadata": {},
   "source": [
    "## Brand Model Overview"
   ]
  },
  {
   "cell_type": "code",
   "execution_count": 93,
   "metadata": {
    "scrolled": true
   },
   "outputs": [
    {
     "data": {
      "image/png": "[encoded data removed]",
      "text/plain": [
       "<Figure size 1440x720 with 1 Axes>"
      ]
     },
     "metadata": {},
     "output_type": "display_data"
    }
   ],
   "source": [
    "# Using seaborn you can see the number of positive, neutral, and negative reviews for each brand\n",
    "plt.title(\"Review Count by Brand\", fontdict = {'fontsize': 25})\n",
    "ax = sns.countplot(x = \"Polarity_Vader_Review\", hue = 'brand_name', data = Car_Reviews)\n",
    "for p in ax.patches:\n",
    "   ax.annotate('{:.1f}'.format(p.get_height()), (p.get_x()+0.25, p.get_height()+0.01))\n",
    "\n",
    "plt.show()"
   ]
  },
  {
   "cell_type": "code",
   "execution_count": null,
   "metadata": {},
   "outputs": [],
   "source": [
    "# Create a histogram that also shows reviews by year\n",
    "fig = px.histogram(Car_Reviews, x=\"car_year\", y=\"Rating_Vader\", color=\"brand_name\", marginal=\"rug\", hover_data=Car_Reviews.columns)\n",
    "fig.show()"
   ]
  },
  {
   "cell_type": "code",
   "execution_count": 85,
   "metadata": {},
   "outputs": [
    {
     "name": "stdout",
     "output_type": "stream",
     "text": [
      "Audi: 0.9061162717879135\n",
      "BMW: 0.8776745642417284\n",
      "Infiniti: 0.9141008245485858\n",
      "Lexus: 0.9010019830915353\n",
      "Mercedes-Benz: 0.8843022648992799\n"
     ]
    }
   ],
   "source": [
    "print(\"Audi:\", audi_score)\n",
    "print(\"BMW:\", BMW_score)\n",
    "print(\"Infiniti:\", Infiniti_score)\n",
    "print(\"Lexus:\", Lexus_score)\n",
    "print(\"Mercedes-Benz:\", Mercedes_score)"
   ]
  },
  {
   "cell_type": "markdown",
   "metadata": {},
   "source": [
    "Above the logistic regressions that have been created for all car brands produced interesting outcomes as Infiniti saw the highest accuracy at 91.41% while BMW saw the lowest accurcy coming in at 87.77%. Which I found pretty interesting as the histogram used above showed that the BMW had the highest sum of vader rating coming in at 516.60 while Infiniti vader sumwas 361.81. While we also can see that in the count plot that BMW had the highest count of positive reviews coming in at 6,983 while Infiniti saw the lowest number of positive reviews coming in at 3,850. Mercedes had the highest count of ngative reviews coming in at 959 while Infiniti saw 380 bad reviews. "
   ]
  }
 ],
 "metadata": {
  "kernelspec": {
   "display_name": "Python 3",
   "language": "python",
   "name": "python3"
  },
  "language_info": {
   "codemirror_mode": {
    "name": "ipython",
    "version": 3
   },
   "file_extension": ".py",
   "mimetype": "text/x-python",
   "name": "python",
   "nbconvert_exporter": "python",
   "pygments_lexer": "ipython3",
   "version": "3.6.10"
  }
 },
 "nbformat": 4,
 "nbformat_minor": 4
}
